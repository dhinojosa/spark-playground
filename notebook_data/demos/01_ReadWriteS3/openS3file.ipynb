{
 "cells": [
  {
   "cell_type": "code",
   "execution_count": 7,
   "id": "199688dc-56e6-4406-a0c5-b5a47e7d3dd3",
   "metadata": {},
   "outputs": [
    {
     "name": "stdout",
     "output_type": "stream",
     "text": [
      "23/09/24 04:48:33 INFO SparkContext: Running Spark version 3.3.0\n",
      "23/09/24 04:48:33 INFO ResourceUtils: ==============================================================\n",
      "23/09/24 04:48:33 INFO ResourceUtils: No custom resources configured for spark.driver.\n",
      "23/09/24 04:48:33 INFO ResourceUtils: ==============================================================\n",
      "23/09/24 04:48:33 INFO SparkContext: Submitted application: openS3file\n",
      "23/09/24 04:48:33 INFO ResourceProfile: Default ResourceProfile created, executor resources: Map(cores -> name: cores, amount: 1, script: , vendor: , memory -> name: memory, amount: 1024, script: , vendor: , offHeap -> name: offHeap, amount: 0, script: , vendor: ), task resources: Map(cpus -> name: cpus, amount: 1.0)\n",
      "23/09/24 04:48:33 INFO ResourceProfile: Limiting resource is cpu\n",
      "23/09/24 04:48:33 INFO ResourceProfileManager: Added ResourceProfile id: 0\n",
      "23/09/24 04:48:33 INFO SecurityManager: Changing view acls to: root\n",
      "23/09/24 04:48:33 INFO SecurityManager: Changing modify acls to: root\n",
      "23/09/24 04:48:33 INFO SecurityManager: Changing view acls groups to: \n",
      "23/09/24 04:48:33 INFO SecurityManager: Changing modify acls groups to: \n",
      "23/09/24 04:48:33 INFO SecurityManager: SecurityManager: authentication disabled; ui acls disabled; users  with view permissions: Set(root); groups with view permissions: Set(); users  with modify permissions: Set(root); groups with modify permissions: Set()\n",
      "23/09/24 04:48:33 DEBUG TransportServer: Shuffle server started on port: 35985\n",
      "23/09/24 04:48:33 INFO Utils: Successfully started service 'sparkDriver' on port 35985.\n",
      "23/09/24 04:48:33 DEBUG SparkEnv: Using serializer: class org.apache.spark.serializer.JavaSerializer\n",
      "23/09/24 04:48:33 INFO SparkEnv: Registering MapOutputTracker\n",
      "23/09/24 04:48:33 DEBUG MapOutputTrackerMasterEndpoint: init\n",
      "23/09/24 04:48:33 INFO SparkEnv: Registering BlockManagerMaster\n",
      "23/09/24 04:48:33 INFO BlockManagerMasterEndpoint: Using org.apache.spark.storage.DefaultTopologyMapper for getting topology information\n",
      "23/09/24 04:48:33 INFO BlockManagerMasterEndpoint: BlockManagerMasterEndpoint up\n",
      "23/09/24 04:48:33 INFO SparkEnv: Registering BlockManagerMasterHeartbeat\n",
      "23/09/24 04:48:33 INFO DiskBlockManager: Created local directory at /tmp/blockmgr-2fc667c8-6e8c-4804-958a-36a7ea1aaaa7\n",
      "23/09/24 04:48:33 DEBUG DiskBlockManager: Adding shutdown hook\n",
      "23/09/24 04:48:33 INFO MemoryStore: MemoryStore started with capacity 366.3 MiB\n",
      "23/09/24 04:48:33 INFO SparkEnv: Registering OutputCommitCoordinator\n",
      "23/09/24 04:48:33 DEBUG OutputCommitCoordinator$OutputCommitCoordinatorEndpoint: init\n",
      "23/09/24 04:48:33 DEBUG SecurityManager: Created SSL options for ui: SSLOptions{enabled=false, port=None, keyStore=None, keyStorePassword=None, trustStore=None, trustStorePassword=None, protocol=None, enabledAlgorithms=Set()}\n",
      "23/09/24 04:48:33 DEBUG JettyUtils: Using requestHeaderSize: 8192\n",
      "23/09/24 04:48:33 INFO Utils: Successfully started service 'SparkUI' on port 4040.\n",
      "23/09/24 04:48:33 INFO SparkContext: Added JAR file:///root/.ivy2/jars/org.apache.spark_spark-hadoop-cloud_2.12-3.3.0.jar at spark://172.18.0.4:35985/jars/org.apache.spark_spark-hadoop-cloud_2.12-3.3.0.jar with timestamp 1695530913524\n",
      "23/09/24 04:48:33 INFO SparkContext: Added JAR file:///root/.ivy2/jars/org.apache.hadoop_hadoop-client-runtime-3.3.2.jar at spark://172.18.0.4:35985/jars/org.apache.hadoop_hadoop-client-runtime-3.3.2.jar with timestamp 1695530913524\n",
      "23/09/24 04:48:33 INFO SparkContext: Added JAR file:///root/.ivy2/jars/org.apache.hadoop_hadoop-aws-3.3.2.jar at spark://172.18.0.4:35985/jars/org.apache.hadoop_hadoop-aws-3.3.2.jar with timestamp 1695530913524\n",
      "23/09/24 04:48:33 INFO SparkContext: Added JAR file:///root/.ivy2/jars/org.apache.hadoop_hadoop-openstack-3.3.2.jar at spark://172.18.0.4:35985/jars/org.apache.hadoop_hadoop-openstack-3.3.2.jar with timestamp 1695530913524\n",
      "23/09/24 04:48:33 INFO SparkContext: Added JAR file:///root/.ivy2/jars/joda-time_joda-time-2.10.13.jar at spark://172.18.0.4:35985/jars/joda-time_joda-time-2.10.13.jar with timestamp 1695530913524\n",
      "23/09/24 04:48:33 INFO SparkContext: Added JAR file:///root/.ivy2/jars/com.fasterxml.jackson.core_jackson-databind-2.13.3.jar at spark://172.18.0.4:35985/jars/com.fasterxml.jackson.core_jackson-databind-2.13.3.jar with timestamp 1695530913524\n",
      "23/09/24 04:48:33 INFO SparkContext: Added JAR file:///root/.ivy2/jars/com.fasterxml.jackson.core_jackson-annotations-2.13.3.jar at spark://172.18.0.4:35985/jars/com.fasterxml.jackson.core_jackson-annotations-2.13.3.jar with timestamp 1695530913524\n",
      "23/09/24 04:48:33 INFO SparkContext: Added JAR file:///root/.ivy2/jars/com.fasterxml.jackson.dataformat_jackson-dataformat-cbor-2.13.3.jar at spark://172.18.0.4:35985/jars/com.fasterxml.jackson.dataformat_jackson-dataformat-cbor-2.13.3.jar with timestamp 1695530913524\n",
      "23/09/24 04:48:33 INFO SparkContext: Added JAR file:///root/.ivy2/jars/org.apache.httpcomponents_httpclient-4.5.13.jar at spark://172.18.0.4:35985/jars/org.apache.httpcomponents_httpclient-4.5.13.jar with timestamp 1695530913524\n",
      "23/09/24 04:48:33 INFO SparkContext: Added JAR file:///root/.ivy2/jars/org.apache.httpcomponents_httpcore-4.4.14.jar at spark://172.18.0.4:35985/jars/org.apache.httpcomponents_httpcore-4.4.14.jar with timestamp 1695530913524\n",
      "23/09/24 04:48:33 INFO SparkContext: Added JAR file:///root/.ivy2/jars/org.apache.hadoop_hadoop-azure-3.3.2.jar at spark://172.18.0.4:35985/jars/org.apache.hadoop_hadoop-azure-3.3.2.jar with timestamp 1695530913524\n",
      "23/09/24 04:48:33 INFO SparkContext: Added JAR file:///root/.ivy2/jars/org.apache.hadoop_hadoop-cloud-storage-3.3.2.jar at spark://172.18.0.4:35985/jars/org.apache.hadoop_hadoop-cloud-storage-3.3.2.jar with timestamp 1695530913524\n",
      "23/09/24 04:48:33 INFO SparkContext: Added JAR file:///root/.ivy2/jars/org.eclipse.jetty_jetty-util-ajax-9.4.46.v20220331.jar at spark://172.18.0.4:35985/jars/org.eclipse.jetty_jetty-util-ajax-9.4.46.v20220331.jar with timestamp 1695530913524\n",
      "23/09/24 04:48:33 INFO SparkContext: Added JAR file:///root/.ivy2/jars/org.spark-project.spark_unused-1.0.0.jar at spark://172.18.0.4:35985/jars/org.spark-project.spark_unused-1.0.0.jar with timestamp 1695530913524\n",
      "23/09/24 04:48:33 INFO SparkContext: Added JAR file:///root/.ivy2/jars/org.apache.hadoop_hadoop-client-api-3.3.2.jar at spark://172.18.0.4:35985/jars/org.apache.hadoop_hadoop-client-api-3.3.2.jar with timestamp 1695530913524\n",
      "23/09/24 04:48:33 INFO SparkContext: Added JAR file:///root/.ivy2/jars/org.xerial.snappy_snappy-java-1.1.8.4.jar at spark://172.18.0.4:35985/jars/org.xerial.snappy_snappy-java-1.1.8.4.jar with timestamp 1695530913524\n",
      "23/09/24 04:48:33 INFO SparkContext: Added JAR file:///root/.ivy2/jars/org.slf4j_slf4j-api-1.7.32.jar at spark://172.18.0.4:35985/jars/org.slf4j_slf4j-api-1.7.32.jar with timestamp 1695530913524\n",
      "23/09/24 04:48:33 INFO SparkContext: Added JAR file:///root/.ivy2/jars/commons-logging_commons-logging-1.1.3.jar at spark://172.18.0.4:35985/jars/commons-logging_commons-logging-1.1.3.jar with timestamp 1695530913524\n",
      "23/09/24 04:48:33 INFO SparkContext: Added JAR file:///root/.ivy2/jars/com.google.code.findbugs_jsr305-3.0.0.jar at spark://172.18.0.4:35985/jars/com.google.code.findbugs_jsr305-3.0.0.jar with timestamp 1695530913524\n",
      "23/09/24 04:48:33 INFO SparkContext: Added JAR file:///root/.ivy2/jars/com.amazonaws_aws-java-sdk-bundle-1.11.1026.jar at spark://172.18.0.4:35985/jars/com.amazonaws_aws-java-sdk-bundle-1.11.1026.jar with timestamp 1695530913524\n",
      "23/09/24 04:48:33 INFO SparkContext: Added JAR file:///root/.ivy2/jars/org.wildfly.openssl_wildfly-openssl-1.0.7.Final.jar at spark://172.18.0.4:35985/jars/org.wildfly.openssl_wildfly-openssl-1.0.7.Final.jar with timestamp 1695530913524\n",
      "23/09/24 04:48:33 INFO SparkContext: Added JAR file:///root/.ivy2/jars/org.apache.hadoop_hadoop-annotations-3.3.2.jar at spark://172.18.0.4:35985/jars/org.apache.hadoop_hadoop-annotations-3.3.2.jar with timestamp 1695530913524\n",
      "23/09/24 04:48:33 INFO SparkContext: Added JAR file:///root/.ivy2/jars/com.fasterxml.jackson.core_jackson-core-2.13.3.jar at spark://172.18.0.4:35985/jars/com.fasterxml.jackson.core_jackson-core-2.13.3.jar with timestamp 1695530913524\n",
      "23/09/24 04:48:33 INFO SparkContext: Added JAR file:///root/.ivy2/jars/commons-codec_commons-codec-1.15.jar at spark://172.18.0.4:35985/jars/commons-codec_commons-codec-1.15.jar with timestamp 1695530913524\n",
      "23/09/24 04:48:33 INFO SparkContext: Added JAR file:///root/.ivy2/jars/com.microsoft.azure_azure-storage-7.0.1.jar at spark://172.18.0.4:35985/jars/com.microsoft.azure_azure-storage-7.0.1.jar with timestamp 1695530913524\n",
      "23/09/24 04:48:33 INFO SparkContext: Added JAR file:///root/.ivy2/jars/org.apache.hadoop.thirdparty_hadoop-shaded-guava-1.1.1.jar at spark://172.18.0.4:35985/jars/org.apache.hadoop.thirdparty_hadoop-shaded-guava-1.1.1.jar with timestamp 1695530913524\n",
      "23/09/24 04:48:33 INFO SparkContext: Added JAR file:///root/.ivy2/jars/org.codehaus.jackson_jackson-mapper-asl-1.9.13.jar at spark://172.18.0.4:35985/jars/org.codehaus.jackson_jackson-mapper-asl-1.9.13.jar with timestamp 1695530913524\n",
      "23/09/24 04:48:33 INFO SparkContext: Added JAR file:///root/.ivy2/jars/org.codehaus.jackson_jackson-core-asl-1.9.13.jar at spark://172.18.0.4:35985/jars/org.codehaus.jackson_jackson-core-asl-1.9.13.jar with timestamp 1695530913524\n",
      "23/09/24 04:48:33 INFO SparkContext: Added JAR file:///root/.ivy2/jars/com.microsoft.azure_azure-keyvault-core-1.0.0.jar at spark://172.18.0.4:35985/jars/com.microsoft.azure_azure-keyvault-core-1.0.0.jar with timestamp 1695530913524\n",
      "23/09/24 04:48:33 INFO SparkContext: Added JAR file:///root/.ivy2/jars/org.apache.hadoop_hadoop-aliyun-3.3.2.jar at spark://172.18.0.4:35985/jars/org.apache.hadoop_hadoop-aliyun-3.3.2.jar with timestamp 1695530913524\n",
      "23/09/24 04:48:33 INFO SparkContext: Added JAR file:///root/.ivy2/jars/org.apache.hadoop_hadoop-azure-datalake-3.3.2.jar at spark://172.18.0.4:35985/jars/org.apache.hadoop_hadoop-azure-datalake-3.3.2.jar with timestamp 1695530913524\n",
      "23/09/24 04:48:33 INFO SparkContext: Added JAR file:///root/.ivy2/jars/org.apache.hadoop_hadoop-cos-3.3.2.jar at spark://172.18.0.4:35985/jars/org.apache.hadoop_hadoop-cos-3.3.2.jar with timestamp 1695530913524\n",
      "23/09/24 04:48:33 INFO SparkContext: Added JAR file:///root/.ivy2/jars/com.aliyun.oss_aliyun-sdk-oss-3.13.0.jar at spark://172.18.0.4:35985/jars/com.aliyun.oss_aliyun-sdk-oss-3.13.0.jar with timestamp 1695530913524\n",
      "23/09/24 04:48:33 INFO SparkContext: Added JAR file:///root/.ivy2/jars/org.jdom_jdom2-2.0.6.jar at spark://172.18.0.4:35985/jars/org.jdom_jdom2-2.0.6.jar with timestamp 1695530913524\n",
      "23/09/24 04:48:33 INFO SparkContext: Added JAR file:///root/.ivy2/jars/org.codehaus.jettison_jettison-1.1.jar at spark://172.18.0.4:35985/jars/org.codehaus.jettison_jettison-1.1.jar with timestamp 1695530913524\n",
      "23/09/24 04:48:33 INFO SparkContext: Added JAR file:///root/.ivy2/jars/com.aliyun_aliyun-java-sdk-core-4.5.10.jar at spark://172.18.0.4:35985/jars/com.aliyun_aliyun-java-sdk-core-4.5.10.jar with timestamp 1695530913524\n",
      "23/09/24 04:48:33 INFO SparkContext: Added JAR file:///root/.ivy2/jars/com.aliyun_aliyun-java-sdk-ram-3.1.0.jar at spark://172.18.0.4:35985/jars/com.aliyun_aliyun-java-sdk-ram-3.1.0.jar with timestamp 1695530913524\n",
      "23/09/24 04:48:33 INFO SparkContext: Added JAR file:///root/.ivy2/jars/com.aliyun_aliyun-java-sdk-kms-2.11.0.jar at spark://172.18.0.4:35985/jars/com.aliyun_aliyun-java-sdk-kms-2.11.0.jar with timestamp 1695530913524\n",
      "23/09/24 04:48:33 INFO SparkContext: Added JAR file:///root/.ivy2/jars/stax_stax-api-1.0.1.jar at spark://172.18.0.4:35985/jars/stax_stax-api-1.0.1.jar with timestamp 1695530913524\n",
      "23/09/24 04:48:33 INFO SparkContext: Added JAR file:///root/.ivy2/jars/com.google.code.gson_gson-2.8.9.jar at spark://172.18.0.4:35985/jars/com.google.code.gson_gson-2.8.9.jar with timestamp 1695530913524\n",
      "23/09/24 04:48:33 INFO SparkContext: Added JAR file:///root/.ivy2/jars/javax.xml.bind_jaxb-api-2.2.11.jar at spark://172.18.0.4:35985/jars/javax.xml.bind_jaxb-api-2.2.11.jar with timestamp 1695530913524\n",
      "23/09/24 04:48:33 INFO SparkContext: Added JAR file:///root/.ivy2/jars/org.ini4j_ini4j-0.5.4.jar at spark://172.18.0.4:35985/jars/org.ini4j_ini4j-0.5.4.jar with timestamp 1695530913524\n",
      "23/09/24 04:48:33 INFO SparkContext: Added JAR file:///root/.ivy2/jars/io.opentracing_opentracing-api-0.33.0.jar at spark://172.18.0.4:35985/jars/io.opentracing_opentracing-api-0.33.0.jar with timestamp 1695530913524\n",
      "23/09/24 04:48:33 INFO SparkContext: Added JAR file:///root/.ivy2/jars/io.opentracing_opentracing-util-0.33.0.jar at spark://172.18.0.4:35985/jars/io.opentracing_opentracing-util-0.33.0.jar with timestamp 1695530913524\n",
      "23/09/24 04:48:33 INFO SparkContext: Added JAR file:///root/.ivy2/jars/io.opentracing_opentracing-noop-0.33.0.jar at spark://172.18.0.4:35985/jars/io.opentracing_opentracing-noop-0.33.0.jar with timestamp 1695530913524\n",
      "23/09/24 04:48:33 INFO SparkContext: Added JAR file:///root/.ivy2/jars/com.microsoft.azure_azure-data-lake-store-sdk-2.3.9.jar at spark://172.18.0.4:35985/jars/com.microsoft.azure_azure-data-lake-store-sdk-2.3.9.jar with timestamp 1695530913524\n",
      "23/09/24 04:48:33 INFO SparkContext: Added JAR file:///root/.ivy2/jars/com.qcloud_cos_api-bundle-5.6.19.jar at spark://172.18.0.4:35985/jars/com.qcloud_cos_api-bundle-5.6.19.jar with timestamp 1695530913524\n",
      "23/09/24 04:48:33 INFO SparkContext: Added JAR file:///root/.ivy2/jars/org.eclipse.jetty_jetty-util-9.4.46.v20220331.jar at spark://172.18.0.4:35985/jars/org.eclipse.jetty_jetty-util-9.4.46.v20220331.jar with timestamp 1695530913524\n",
      "23/09/24 04:48:33 INFO SparkContext: Added file file:///root/.ivy2/jars/org.apache.spark_spark-hadoop-cloud_2.12-3.3.0.jar at spark://172.18.0.4:35985/files/org.apache.spark_spark-hadoop-cloud_2.12-3.3.0.jar with timestamp 1695530913524\n",
      "23/09/24 04:48:33 INFO Utils: Copying /root/.ivy2/jars/org.apache.spark_spark-hadoop-cloud_2.12-3.3.0.jar to /tmp/spark-9fedc60b-ac5c-421e-9381-e8f5a2a217df/userFiles-47247bc4-19dc-4de5-8397-8c6f941c0548/org.apache.spark_spark-hadoop-cloud_2.12-3.3.0.jar\n",
      "23/09/24 04:48:33 INFO SparkContext: Added file file:///root/.ivy2/jars/org.apache.hadoop_hadoop-client-runtime-3.3.2.jar at spark://172.18.0.4:35985/files/org.apache.hadoop_hadoop-client-runtime-3.3.2.jar with timestamp 1695530913524\n",
      "23/09/24 04:48:33 INFO Utils: Copying /root/.ivy2/jars/org.apache.hadoop_hadoop-client-runtime-3.3.2.jar to /tmp/spark-9fedc60b-ac5c-421e-9381-e8f5a2a217df/userFiles-47247bc4-19dc-4de5-8397-8c6f941c0548/org.apache.hadoop_hadoop-client-runtime-3.3.2.jar\n",
      "23/09/24 04:48:33 INFO SparkContext: Added file file:///root/.ivy2/jars/org.apache.hadoop_hadoop-aws-3.3.2.jar at spark://172.18.0.4:35985/files/org.apache.hadoop_hadoop-aws-3.3.2.jar with timestamp 1695530913524\n",
      "23/09/24 04:48:33 INFO Utils: Copying /root/.ivy2/jars/org.apache.hadoop_hadoop-aws-3.3.2.jar to /tmp/spark-9fedc60b-ac5c-421e-9381-e8f5a2a217df/userFiles-47247bc4-19dc-4de5-8397-8c6f941c0548/org.apache.hadoop_hadoop-aws-3.3.2.jar\n",
      "23/09/24 04:48:33 INFO SparkContext: Added file file:///root/.ivy2/jars/org.apache.hadoop_hadoop-openstack-3.3.2.jar at spark://172.18.0.4:35985/files/org.apache.hadoop_hadoop-openstack-3.3.2.jar with timestamp 1695530913524\n",
      "23/09/24 04:48:33 INFO Utils: Copying /root/.ivy2/jars/org.apache.hadoop_hadoop-openstack-3.3.2.jar to /tmp/spark-9fedc60b-ac5c-421e-9381-e8f5a2a217df/userFiles-47247bc4-19dc-4de5-8397-8c6f941c0548/org.apache.hadoop_hadoop-openstack-3.3.2.jar\n",
      "23/09/24 04:48:33 INFO SparkContext: Added file file:///root/.ivy2/jars/joda-time_joda-time-2.10.13.jar at spark://172.18.0.4:35985/files/joda-time_joda-time-2.10.13.jar with timestamp 1695530913524\n",
      "23/09/24 04:48:33 INFO Utils: Copying /root/.ivy2/jars/joda-time_joda-time-2.10.13.jar to /tmp/spark-9fedc60b-ac5c-421e-9381-e8f5a2a217df/userFiles-47247bc4-19dc-4de5-8397-8c6f941c0548/joda-time_joda-time-2.10.13.jar\n",
      "23/09/24 04:48:33 INFO SparkContext: Added file file:///root/.ivy2/jars/com.fasterxml.jackson.core_jackson-databind-2.13.3.jar at spark://172.18.0.4:35985/files/com.fasterxml.jackson.core_jackson-databind-2.13.3.jar with timestamp 1695530913524\n",
      "23/09/24 04:48:33 INFO Utils: Copying /root/.ivy2/jars/com.fasterxml.jackson.core_jackson-databind-2.13.3.jar to /tmp/spark-9fedc60b-ac5c-421e-9381-e8f5a2a217df/userFiles-47247bc4-19dc-4de5-8397-8c6f941c0548/com.fasterxml.jackson.core_jackson-databind-2.13.3.jar\n",
      "23/09/24 04:48:33 INFO SparkContext: Added file file:///root/.ivy2/jars/com.fasterxml.jackson.core_jackson-annotations-2.13.3.jar at spark://172.18.0.4:35985/files/com.fasterxml.jackson.core_jackson-annotations-2.13.3.jar with timestamp 1695530913524\n",
      "23/09/24 04:48:33 INFO Utils: Copying /root/.ivy2/jars/com.fasterxml.jackson.core_jackson-annotations-2.13.3.jar to /tmp/spark-9fedc60b-ac5c-421e-9381-e8f5a2a217df/userFiles-47247bc4-19dc-4de5-8397-8c6f941c0548/com.fasterxml.jackson.core_jackson-annotations-2.13.3.jar\n",
      "23/09/24 04:48:33 INFO SparkContext: Added file file:///root/.ivy2/jars/com.fasterxml.jackson.dataformat_jackson-dataformat-cbor-2.13.3.jar at spark://172.18.0.4:35985/files/com.fasterxml.jackson.dataformat_jackson-dataformat-cbor-2.13.3.jar with timestamp 1695530913524\n",
      "23/09/24 04:48:33 INFO Utils: Copying /root/.ivy2/jars/com.fasterxml.jackson.dataformat_jackson-dataformat-cbor-2.13.3.jar to /tmp/spark-9fedc60b-ac5c-421e-9381-e8f5a2a217df/userFiles-47247bc4-19dc-4de5-8397-8c6f941c0548/com.fasterxml.jackson.dataformat_jackson-dataformat-cbor-2.13.3.jar\n",
      "23/09/24 04:48:33 INFO SparkContext: Added file file:///root/.ivy2/jars/org.apache.httpcomponents_httpclient-4.5.13.jar at spark://172.18.0.4:35985/files/org.apache.httpcomponents_httpclient-4.5.13.jar with timestamp 1695530913524\n",
      "23/09/24 04:48:33 INFO Utils: Copying /root/.ivy2/jars/org.apache.httpcomponents_httpclient-4.5.13.jar to /tmp/spark-9fedc60b-ac5c-421e-9381-e8f5a2a217df/userFiles-47247bc4-19dc-4de5-8397-8c6f941c0548/org.apache.httpcomponents_httpclient-4.5.13.jar\n",
      "23/09/24 04:48:33 INFO SparkContext: Added file file:///root/.ivy2/jars/org.apache.httpcomponents_httpcore-4.4.14.jar at spark://172.18.0.4:35985/files/org.apache.httpcomponents_httpcore-4.4.14.jar with timestamp 1695530913524\n",
      "23/09/24 04:48:33 INFO Utils: Copying /root/.ivy2/jars/org.apache.httpcomponents_httpcore-4.4.14.jar to /tmp/spark-9fedc60b-ac5c-421e-9381-e8f5a2a217df/userFiles-47247bc4-19dc-4de5-8397-8c6f941c0548/org.apache.httpcomponents_httpcore-4.4.14.jar\n",
      "23/09/24 04:48:33 INFO SparkContext: Added file file:///root/.ivy2/jars/org.apache.hadoop_hadoop-azure-3.3.2.jar at spark://172.18.0.4:35985/files/org.apache.hadoop_hadoop-azure-3.3.2.jar with timestamp 1695530913524\n",
      "23/09/24 04:48:33 INFO Utils: Copying /root/.ivy2/jars/org.apache.hadoop_hadoop-azure-3.3.2.jar to /tmp/spark-9fedc60b-ac5c-421e-9381-e8f5a2a217df/userFiles-47247bc4-19dc-4de5-8397-8c6f941c0548/org.apache.hadoop_hadoop-azure-3.3.2.jar\n",
      "23/09/24 04:48:33 INFO SparkContext: Added file file:///root/.ivy2/jars/org.apache.hadoop_hadoop-cloud-storage-3.3.2.jar at spark://172.18.0.4:35985/files/org.apache.hadoop_hadoop-cloud-storage-3.3.2.jar with timestamp 1695530913524\n",
      "23/09/24 04:48:33 INFO Utils: Copying /root/.ivy2/jars/org.apache.hadoop_hadoop-cloud-storage-3.3.2.jar to /tmp/spark-9fedc60b-ac5c-421e-9381-e8f5a2a217df/userFiles-47247bc4-19dc-4de5-8397-8c6f941c0548/org.apache.hadoop_hadoop-cloud-storage-3.3.2.jar\n",
      "23/09/24 04:48:33 INFO SparkContext: Added file file:///root/.ivy2/jars/org.eclipse.jetty_jetty-util-ajax-9.4.46.v20220331.jar at spark://172.18.0.4:35985/files/org.eclipse.jetty_jetty-util-ajax-9.4.46.v20220331.jar with timestamp 1695530913524\n",
      "23/09/24 04:48:33 INFO Utils: Copying /root/.ivy2/jars/org.eclipse.jetty_jetty-util-ajax-9.4.46.v20220331.jar to /tmp/spark-9fedc60b-ac5c-421e-9381-e8f5a2a217df/userFiles-47247bc4-19dc-4de5-8397-8c6f941c0548/org.eclipse.jetty_jetty-util-ajax-9.4.46.v20220331.jar\n",
      "23/09/24 04:48:33 INFO SparkContext: Added file file:///root/.ivy2/jars/org.spark-project.spark_unused-1.0.0.jar at spark://172.18.0.4:35985/files/org.spark-project.spark_unused-1.0.0.jar with timestamp 1695530913524\n",
      "23/09/24 04:48:33 INFO Utils: Copying /root/.ivy2/jars/org.spark-project.spark_unused-1.0.0.jar to /tmp/spark-9fedc60b-ac5c-421e-9381-e8f5a2a217df/userFiles-47247bc4-19dc-4de5-8397-8c6f941c0548/org.spark-project.spark_unused-1.0.0.jar\n",
      "23/09/24 04:48:33 INFO SparkContext: Added file file:///root/.ivy2/jars/org.apache.hadoop_hadoop-client-api-3.3.2.jar at spark://172.18.0.4:35985/files/org.apache.hadoop_hadoop-client-api-3.3.2.jar with timestamp 1695530913524\n",
      "23/09/24 04:48:33 INFO Utils: Copying /root/.ivy2/jars/org.apache.hadoop_hadoop-client-api-3.3.2.jar to /tmp/spark-9fedc60b-ac5c-421e-9381-e8f5a2a217df/userFiles-47247bc4-19dc-4de5-8397-8c6f941c0548/org.apache.hadoop_hadoop-client-api-3.3.2.jar\n",
      "23/09/24 04:48:33 INFO SparkContext: Added file file:///root/.ivy2/jars/org.xerial.snappy_snappy-java-1.1.8.4.jar at spark://172.18.0.4:35985/files/org.xerial.snappy_snappy-java-1.1.8.4.jar with timestamp 1695530913524\n",
      "23/09/24 04:48:33 INFO Utils: Copying /root/.ivy2/jars/org.xerial.snappy_snappy-java-1.1.8.4.jar to /tmp/spark-9fedc60b-ac5c-421e-9381-e8f5a2a217df/userFiles-47247bc4-19dc-4de5-8397-8c6f941c0548/org.xerial.snappy_snappy-java-1.1.8.4.jar\n",
      "23/09/24 04:48:33 INFO SparkContext: Added file file:///root/.ivy2/jars/org.slf4j_slf4j-api-1.7.32.jar at spark://172.18.0.4:35985/files/org.slf4j_slf4j-api-1.7.32.jar with timestamp 1695530913524\n",
      "23/09/24 04:48:33 INFO Utils: Copying /root/.ivy2/jars/org.slf4j_slf4j-api-1.7.32.jar to /tmp/spark-9fedc60b-ac5c-421e-9381-e8f5a2a217df/userFiles-47247bc4-19dc-4de5-8397-8c6f941c0548/org.slf4j_slf4j-api-1.7.32.jar\n",
      "23/09/24 04:48:33 INFO SparkContext: Added file file:///root/.ivy2/jars/commons-logging_commons-logging-1.1.3.jar at spark://172.18.0.4:35985/files/commons-logging_commons-logging-1.1.3.jar with timestamp 1695530913524\n",
      "23/09/24 04:48:33 INFO Utils: Copying /root/.ivy2/jars/commons-logging_commons-logging-1.1.3.jar to /tmp/spark-9fedc60b-ac5c-421e-9381-e8f5a2a217df/userFiles-47247bc4-19dc-4de5-8397-8c6f941c0548/commons-logging_commons-logging-1.1.3.jar\n",
      "23/09/24 04:48:33 INFO SparkContext: Added file file:///root/.ivy2/jars/com.google.code.findbugs_jsr305-3.0.0.jar at spark://172.18.0.4:35985/files/com.google.code.findbugs_jsr305-3.0.0.jar with timestamp 1695530913524\n",
      "23/09/24 04:48:33 INFO Utils: Copying /root/.ivy2/jars/com.google.code.findbugs_jsr305-3.0.0.jar to /tmp/spark-9fedc60b-ac5c-421e-9381-e8f5a2a217df/userFiles-47247bc4-19dc-4de5-8397-8c6f941c0548/com.google.code.findbugs_jsr305-3.0.0.jar\n",
      "23/09/24 04:48:33 INFO SparkContext: Added file file:///root/.ivy2/jars/com.amazonaws_aws-java-sdk-bundle-1.11.1026.jar at spark://172.18.0.4:35985/files/com.amazonaws_aws-java-sdk-bundle-1.11.1026.jar with timestamp 1695530913524\n",
      "23/09/24 04:48:33 INFO Utils: Copying /root/.ivy2/jars/com.amazonaws_aws-java-sdk-bundle-1.11.1026.jar to /tmp/spark-9fedc60b-ac5c-421e-9381-e8f5a2a217df/userFiles-47247bc4-19dc-4de5-8397-8c6f941c0548/com.amazonaws_aws-java-sdk-bundle-1.11.1026.jar\n",
      "23/09/24 04:48:34 INFO SparkContext: Added file file:///root/.ivy2/jars/org.wildfly.openssl_wildfly-openssl-1.0.7.Final.jar at spark://172.18.0.4:35985/files/org.wildfly.openssl_wildfly-openssl-1.0.7.Final.jar with timestamp 1695530913524\n",
      "23/09/24 04:48:34 INFO Utils: Copying /root/.ivy2/jars/org.wildfly.openssl_wildfly-openssl-1.0.7.Final.jar to /tmp/spark-9fedc60b-ac5c-421e-9381-e8f5a2a217df/userFiles-47247bc4-19dc-4de5-8397-8c6f941c0548/org.wildfly.openssl_wildfly-openssl-1.0.7.Final.jar\n",
      "23/09/24 04:48:34 INFO SparkContext: Added file file:///root/.ivy2/jars/org.apache.hadoop_hadoop-annotations-3.3.2.jar at spark://172.18.0.4:35985/files/org.apache.hadoop_hadoop-annotations-3.3.2.jar with timestamp 1695530913524\n",
      "23/09/24 04:48:34 INFO Utils: Copying /root/.ivy2/jars/org.apache.hadoop_hadoop-annotations-3.3.2.jar to /tmp/spark-9fedc60b-ac5c-421e-9381-e8f5a2a217df/userFiles-47247bc4-19dc-4de5-8397-8c6f941c0548/org.apache.hadoop_hadoop-annotations-3.3.2.jar\n",
      "23/09/24 04:48:34 INFO SparkContext: Added file file:///root/.ivy2/jars/com.fasterxml.jackson.core_jackson-core-2.13.3.jar at spark://172.18.0.4:35985/files/com.fasterxml.jackson.core_jackson-core-2.13.3.jar with timestamp 1695530913524\n",
      "23/09/24 04:48:34 INFO Utils: Copying /root/.ivy2/jars/com.fasterxml.jackson.core_jackson-core-2.13.3.jar to /tmp/spark-9fedc60b-ac5c-421e-9381-e8f5a2a217df/userFiles-47247bc4-19dc-4de5-8397-8c6f941c0548/com.fasterxml.jackson.core_jackson-core-2.13.3.jar\n",
      "23/09/24 04:48:34 INFO SparkContext: Added file file:///root/.ivy2/jars/commons-codec_commons-codec-1.15.jar at spark://172.18.0.4:35985/files/commons-codec_commons-codec-1.15.jar with timestamp 1695530913524\n",
      "23/09/24 04:48:34 INFO Utils: Copying /root/.ivy2/jars/commons-codec_commons-codec-1.15.jar to /tmp/spark-9fedc60b-ac5c-421e-9381-e8f5a2a217df/userFiles-47247bc4-19dc-4de5-8397-8c6f941c0548/commons-codec_commons-codec-1.15.jar\n",
      "23/09/24 04:48:34 INFO SparkContext: Added file file:///root/.ivy2/jars/com.microsoft.azure_azure-storage-7.0.1.jar at spark://172.18.0.4:35985/files/com.microsoft.azure_azure-storage-7.0.1.jar with timestamp 1695530913524\n",
      "23/09/24 04:48:34 INFO Utils: Copying /root/.ivy2/jars/com.microsoft.azure_azure-storage-7.0.1.jar to /tmp/spark-9fedc60b-ac5c-421e-9381-e8f5a2a217df/userFiles-47247bc4-19dc-4de5-8397-8c6f941c0548/com.microsoft.azure_azure-storage-7.0.1.jar\n",
      "23/09/24 04:48:34 INFO SparkContext: Added file file:///root/.ivy2/jars/org.apache.hadoop.thirdparty_hadoop-shaded-guava-1.1.1.jar at spark://172.18.0.4:35985/files/org.apache.hadoop.thirdparty_hadoop-shaded-guava-1.1.1.jar with timestamp 1695530913524\n",
      "23/09/24 04:48:34 INFO Utils: Copying /root/.ivy2/jars/org.apache.hadoop.thirdparty_hadoop-shaded-guava-1.1.1.jar to /tmp/spark-9fedc60b-ac5c-421e-9381-e8f5a2a217df/userFiles-47247bc4-19dc-4de5-8397-8c6f941c0548/org.apache.hadoop.thirdparty_hadoop-shaded-guava-1.1.1.jar\n",
      "23/09/24 04:48:34 INFO SparkContext: Added file file:///root/.ivy2/jars/org.codehaus.jackson_jackson-mapper-asl-1.9.13.jar at spark://172.18.0.4:35985/files/org.codehaus.jackson_jackson-mapper-asl-1.9.13.jar with timestamp 1695530913524\n",
      "23/09/24 04:48:34 INFO Utils: Copying /root/.ivy2/jars/org.codehaus.jackson_jackson-mapper-asl-1.9.13.jar to /tmp/spark-9fedc60b-ac5c-421e-9381-e8f5a2a217df/userFiles-47247bc4-19dc-4de5-8397-8c6f941c0548/org.codehaus.jackson_jackson-mapper-asl-1.9.13.jar\n",
      "23/09/24 04:48:34 INFO SparkContext: Added file file:///root/.ivy2/jars/org.codehaus.jackson_jackson-core-asl-1.9.13.jar at spark://172.18.0.4:35985/files/org.codehaus.jackson_jackson-core-asl-1.9.13.jar with timestamp 1695530913524\n",
      "23/09/24 04:48:34 INFO Utils: Copying /root/.ivy2/jars/org.codehaus.jackson_jackson-core-asl-1.9.13.jar to /tmp/spark-9fedc60b-ac5c-421e-9381-e8f5a2a217df/userFiles-47247bc4-19dc-4de5-8397-8c6f941c0548/org.codehaus.jackson_jackson-core-asl-1.9.13.jar\n",
      "23/09/24 04:48:34 INFO SparkContext: Added file file:///root/.ivy2/jars/com.microsoft.azure_azure-keyvault-core-1.0.0.jar at spark://172.18.0.4:35985/files/com.microsoft.azure_azure-keyvault-core-1.0.0.jar with timestamp 1695530913524\n",
      "23/09/24 04:48:34 INFO Utils: Copying /root/.ivy2/jars/com.microsoft.azure_azure-keyvault-core-1.0.0.jar to /tmp/spark-9fedc60b-ac5c-421e-9381-e8f5a2a217df/userFiles-47247bc4-19dc-4de5-8397-8c6f941c0548/com.microsoft.azure_azure-keyvault-core-1.0.0.jar\n",
      "23/09/24 04:48:34 INFO SparkContext: Added file file:///root/.ivy2/jars/org.apache.hadoop_hadoop-aliyun-3.3.2.jar at spark://172.18.0.4:35985/files/org.apache.hadoop_hadoop-aliyun-3.3.2.jar with timestamp 1695530913524\n",
      "23/09/24 04:48:34 INFO Utils: Copying /root/.ivy2/jars/org.apache.hadoop_hadoop-aliyun-3.3.2.jar to /tmp/spark-9fedc60b-ac5c-421e-9381-e8f5a2a217df/userFiles-47247bc4-19dc-4de5-8397-8c6f941c0548/org.apache.hadoop_hadoop-aliyun-3.3.2.jar\n",
      "23/09/24 04:48:34 INFO SparkContext: Added file file:///root/.ivy2/jars/org.apache.hadoop_hadoop-azure-datalake-3.3.2.jar at spark://172.18.0.4:35985/files/org.apache.hadoop_hadoop-azure-datalake-3.3.2.jar with timestamp 1695530913524\n",
      "23/09/24 04:48:34 INFO Utils: Copying /root/.ivy2/jars/org.apache.hadoop_hadoop-azure-datalake-3.3.2.jar to /tmp/spark-9fedc60b-ac5c-421e-9381-e8f5a2a217df/userFiles-47247bc4-19dc-4de5-8397-8c6f941c0548/org.apache.hadoop_hadoop-azure-datalake-3.3.2.jar\n",
      "23/09/24 04:48:34 INFO SparkContext: Added file file:///root/.ivy2/jars/org.apache.hadoop_hadoop-cos-3.3.2.jar at spark://172.18.0.4:35985/files/org.apache.hadoop_hadoop-cos-3.3.2.jar with timestamp 1695530913524\n",
      "23/09/24 04:48:34 INFO Utils: Copying /root/.ivy2/jars/org.apache.hadoop_hadoop-cos-3.3.2.jar to /tmp/spark-9fedc60b-ac5c-421e-9381-e8f5a2a217df/userFiles-47247bc4-19dc-4de5-8397-8c6f941c0548/org.apache.hadoop_hadoop-cos-3.3.2.jar\n",
      "23/09/24 04:48:34 INFO SparkContext: Added file file:///root/.ivy2/jars/com.aliyun.oss_aliyun-sdk-oss-3.13.0.jar at spark://172.18.0.4:35985/files/com.aliyun.oss_aliyun-sdk-oss-3.13.0.jar with timestamp 1695530913524\n",
      "23/09/24 04:48:34 INFO Utils: Copying /root/.ivy2/jars/com.aliyun.oss_aliyun-sdk-oss-3.13.0.jar to /tmp/spark-9fedc60b-ac5c-421e-9381-e8f5a2a217df/userFiles-47247bc4-19dc-4de5-8397-8c6f941c0548/com.aliyun.oss_aliyun-sdk-oss-3.13.0.jar\n",
      "23/09/24 04:48:34 INFO SparkContext: Added file file:///root/.ivy2/jars/org.jdom_jdom2-2.0.6.jar at spark://172.18.0.4:35985/files/org.jdom_jdom2-2.0.6.jar with timestamp 1695530913524\n",
      "23/09/24 04:48:34 INFO Utils: Copying /root/.ivy2/jars/org.jdom_jdom2-2.0.6.jar to /tmp/spark-9fedc60b-ac5c-421e-9381-e8f5a2a217df/userFiles-47247bc4-19dc-4de5-8397-8c6f941c0548/org.jdom_jdom2-2.0.6.jar\n",
      "23/09/24 04:48:34 INFO SparkContext: Added file file:///root/.ivy2/jars/org.codehaus.jettison_jettison-1.1.jar at spark://172.18.0.4:35985/files/org.codehaus.jettison_jettison-1.1.jar with timestamp 1695530913524\n",
      "23/09/24 04:48:34 INFO Utils: Copying /root/.ivy2/jars/org.codehaus.jettison_jettison-1.1.jar to /tmp/spark-9fedc60b-ac5c-421e-9381-e8f5a2a217df/userFiles-47247bc4-19dc-4de5-8397-8c6f941c0548/org.codehaus.jettison_jettison-1.1.jar\n",
      "23/09/24 04:48:34 INFO SparkContext: Added file file:///root/.ivy2/jars/com.aliyun_aliyun-java-sdk-core-4.5.10.jar at spark://172.18.0.4:35985/files/com.aliyun_aliyun-java-sdk-core-4.5.10.jar with timestamp 1695530913524\n",
      "23/09/24 04:48:34 INFO Utils: Copying /root/.ivy2/jars/com.aliyun_aliyun-java-sdk-core-4.5.10.jar to /tmp/spark-9fedc60b-ac5c-421e-9381-e8f5a2a217df/userFiles-47247bc4-19dc-4de5-8397-8c6f941c0548/com.aliyun_aliyun-java-sdk-core-4.5.10.jar\n",
      "23/09/24 04:48:34 INFO SparkContext: Added file file:///root/.ivy2/jars/com.aliyun_aliyun-java-sdk-ram-3.1.0.jar at spark://172.18.0.4:35985/files/com.aliyun_aliyun-java-sdk-ram-3.1.0.jar with timestamp 1695530913524\n",
      "23/09/24 04:48:34 INFO Utils: Copying /root/.ivy2/jars/com.aliyun_aliyun-java-sdk-ram-3.1.0.jar to /tmp/spark-9fedc60b-ac5c-421e-9381-e8f5a2a217df/userFiles-47247bc4-19dc-4de5-8397-8c6f941c0548/com.aliyun_aliyun-java-sdk-ram-3.1.0.jar\n",
      "23/09/24 04:48:34 INFO SparkContext: Added file file:///root/.ivy2/jars/com.aliyun_aliyun-java-sdk-kms-2.11.0.jar at spark://172.18.0.4:35985/files/com.aliyun_aliyun-java-sdk-kms-2.11.0.jar with timestamp 1695530913524\n",
      "23/09/24 04:48:34 INFO Utils: Copying /root/.ivy2/jars/com.aliyun_aliyun-java-sdk-kms-2.11.0.jar to /tmp/spark-9fedc60b-ac5c-421e-9381-e8f5a2a217df/userFiles-47247bc4-19dc-4de5-8397-8c6f941c0548/com.aliyun_aliyun-java-sdk-kms-2.11.0.jar\n",
      "23/09/24 04:48:34 INFO SparkContext: Added file file:///root/.ivy2/jars/stax_stax-api-1.0.1.jar at spark://172.18.0.4:35985/files/stax_stax-api-1.0.1.jar with timestamp 1695530913524\n",
      "23/09/24 04:48:34 INFO Utils: Copying /root/.ivy2/jars/stax_stax-api-1.0.1.jar to /tmp/spark-9fedc60b-ac5c-421e-9381-e8f5a2a217df/userFiles-47247bc4-19dc-4de5-8397-8c6f941c0548/stax_stax-api-1.0.1.jar\n",
      "23/09/24 04:48:34 INFO SparkContext: Added file file:///root/.ivy2/jars/com.google.code.gson_gson-2.8.9.jar at spark://172.18.0.4:35985/files/com.google.code.gson_gson-2.8.9.jar with timestamp 1695530913524\n",
      "23/09/24 04:48:34 INFO Utils: Copying /root/.ivy2/jars/com.google.code.gson_gson-2.8.9.jar to /tmp/spark-9fedc60b-ac5c-421e-9381-e8f5a2a217df/userFiles-47247bc4-19dc-4de5-8397-8c6f941c0548/com.google.code.gson_gson-2.8.9.jar\n",
      "23/09/24 04:48:34 INFO SparkContext: Added file file:///root/.ivy2/jars/javax.xml.bind_jaxb-api-2.2.11.jar at spark://172.18.0.4:35985/files/javax.xml.bind_jaxb-api-2.2.11.jar with timestamp 1695530913524\n",
      "23/09/24 04:48:34 INFO Utils: Copying /root/.ivy2/jars/javax.xml.bind_jaxb-api-2.2.11.jar to /tmp/spark-9fedc60b-ac5c-421e-9381-e8f5a2a217df/userFiles-47247bc4-19dc-4de5-8397-8c6f941c0548/javax.xml.bind_jaxb-api-2.2.11.jar\n",
      "23/09/24 04:48:34 INFO SparkContext: Added file file:///root/.ivy2/jars/org.ini4j_ini4j-0.5.4.jar at spark://172.18.0.4:35985/files/org.ini4j_ini4j-0.5.4.jar with timestamp 1695530913524\n",
      "23/09/24 04:48:34 INFO Utils: Copying /root/.ivy2/jars/org.ini4j_ini4j-0.5.4.jar to /tmp/spark-9fedc60b-ac5c-421e-9381-e8f5a2a217df/userFiles-47247bc4-19dc-4de5-8397-8c6f941c0548/org.ini4j_ini4j-0.5.4.jar\n",
      "23/09/24 04:48:34 INFO SparkContext: Added file file:///root/.ivy2/jars/io.opentracing_opentracing-api-0.33.0.jar at spark://172.18.0.4:35985/files/io.opentracing_opentracing-api-0.33.0.jar with timestamp 1695530913524\n",
      "23/09/24 04:48:34 INFO Utils: Copying /root/.ivy2/jars/io.opentracing_opentracing-api-0.33.0.jar to /tmp/spark-9fedc60b-ac5c-421e-9381-e8f5a2a217df/userFiles-47247bc4-19dc-4de5-8397-8c6f941c0548/io.opentracing_opentracing-api-0.33.0.jar\n",
      "23/09/24 04:48:34 INFO SparkContext: Added file file:///root/.ivy2/jars/io.opentracing_opentracing-util-0.33.0.jar at spark://172.18.0.4:35985/files/io.opentracing_opentracing-util-0.33.0.jar with timestamp 1695530913524\n",
      "23/09/24 04:48:34 INFO Utils: Copying /root/.ivy2/jars/io.opentracing_opentracing-util-0.33.0.jar to /tmp/spark-9fedc60b-ac5c-421e-9381-e8f5a2a217df/userFiles-47247bc4-19dc-4de5-8397-8c6f941c0548/io.opentracing_opentracing-util-0.33.0.jar\n",
      "23/09/24 04:48:34 INFO SparkContext: Added file file:///root/.ivy2/jars/io.opentracing_opentracing-noop-0.33.0.jar at spark://172.18.0.4:35985/files/io.opentracing_opentracing-noop-0.33.0.jar with timestamp 1695530913524\n",
      "23/09/24 04:48:34 INFO Utils: Copying /root/.ivy2/jars/io.opentracing_opentracing-noop-0.33.0.jar to /tmp/spark-9fedc60b-ac5c-421e-9381-e8f5a2a217df/userFiles-47247bc4-19dc-4de5-8397-8c6f941c0548/io.opentracing_opentracing-noop-0.33.0.jar\n",
      "23/09/24 04:48:34 INFO SparkContext: Added file file:///root/.ivy2/jars/com.microsoft.azure_azure-data-lake-store-sdk-2.3.9.jar at spark://172.18.0.4:35985/files/com.microsoft.azure_azure-data-lake-store-sdk-2.3.9.jar with timestamp 1695530913524\n",
      "23/09/24 04:48:34 INFO Utils: Copying /root/.ivy2/jars/com.microsoft.azure_azure-data-lake-store-sdk-2.3.9.jar to /tmp/spark-9fedc60b-ac5c-421e-9381-e8f5a2a217df/userFiles-47247bc4-19dc-4de5-8397-8c6f941c0548/com.microsoft.azure_azure-data-lake-store-sdk-2.3.9.jar\n",
      "23/09/24 04:48:34 INFO SparkContext: Added file file:///root/.ivy2/jars/com.qcloud_cos_api-bundle-5.6.19.jar at spark://172.18.0.4:35985/files/com.qcloud_cos_api-bundle-5.6.19.jar with timestamp 1695530913524\n",
      "23/09/24 04:48:34 INFO Utils: Copying /root/.ivy2/jars/com.qcloud_cos_api-bundle-5.6.19.jar to /tmp/spark-9fedc60b-ac5c-421e-9381-e8f5a2a217df/userFiles-47247bc4-19dc-4de5-8397-8c6f941c0548/com.qcloud_cos_api-bundle-5.6.19.jar\n",
      "23/09/24 04:48:34 INFO SparkContext: Added file file:///root/.ivy2/jars/org.eclipse.jetty_jetty-util-9.4.46.v20220331.jar at spark://172.18.0.4:35985/files/org.eclipse.jetty_jetty-util-9.4.46.v20220331.jar with timestamp 1695530913524\n",
      "23/09/24 04:48:34 INFO Utils: Copying /root/.ivy2/jars/org.eclipse.jetty_jetty-util-9.4.46.v20220331.jar to /tmp/spark-9fedc60b-ac5c-421e-9381-e8f5a2a217df/userFiles-47247bc4-19dc-4de5-8397-8c6f941c0548/org.eclipse.jetty_jetty-util-9.4.46.v20220331.jar\n",
      "23/09/24 04:48:34 INFO StandaloneAppClient$ClientEndpoint: Connecting to master spark://spark:7077...\n",
      "23/09/24 04:48:34 DEBUG TransportClientFactory: Creating new connection to spark/172.18.0.8:7077\n",
      "23/09/24 04:48:34 DEBUG TransportClientFactory: Connection to spark/172.18.0.8:7077 successful, running bootstraps...\n",
      "23/09/24 04:48:34 INFO TransportClientFactory: Successfully created connection to spark/172.18.0.8:7077 after 2 ms (0 ms spent in bootstraps)\n",
      "23/09/24 04:48:34 INFO StandaloneSchedulerBackend: Connected to Spark cluster with app ID app-20230924044834-0001\n",
      "23/09/24 04:48:34 INFO StandaloneAppClient$ClientEndpoint: Executor added: app-20230924044834-0001/0 on worker-20230924044154-172.18.0.5-38549 (172.18.0.5:38549) with 1 core(s)\n",
      "23/09/24 04:48:34 INFO StandaloneSchedulerBackend: Granted executor ID app-20230924044834-0001/0 on hostPort 172.18.0.5:38549 with 1 core(s), 1024.0 MiB RAM\n",
      "23/09/24 04:48:34 INFO StandaloneAppClient$ClientEndpoint: Executor added: app-20230924044834-0001/1 on worker-20230924044155-172.18.0.6-44289 (172.18.0.6:44289) with 1 core(s)\n",
      "23/09/24 04:48:34 INFO StandaloneSchedulerBackend: Granted executor ID app-20230924044834-0001/1 on hostPort 172.18.0.6:44289 with 1 core(s), 1024.0 MiB RAM\n",
      "23/09/24 04:48:34 INFO StandaloneAppClient$ClientEndpoint: Executor added: app-20230924044834-0001/2 on worker-20230924044155-172.18.0.7-36541 (172.18.0.7:36541) with 1 core(s)\n",
      "23/09/24 04:48:34 INFO StandaloneSchedulerBackend: Granted executor ID app-20230924044834-0001/2 on hostPort 172.18.0.7:36541 with 1 core(s), 1024.0 MiB RAM\n",
      "23/09/24 04:48:34 DEBUG TransportServer: Shuffle server started on port: 33447\n",
      "23/09/24 04:48:34 INFO Utils: Successfully started service 'org.apache.spark.network.netty.NettyBlockTransferService' on port 33447.\n",
      "23/09/24 04:48:34 INFO NettyBlockTransferService: Server created on 172.18.0.4:33447\n",
      "23/09/24 04:48:34 INFO BlockManager: Using org.apache.spark.storage.RandomBlockReplicationPolicy for block replication policy\n",
      "23/09/24 04:48:34 INFO BlockManagerMaster: Registering BlockManager BlockManagerId(driver, 172.18.0.4, 33447, None)\n",
      "23/09/24 04:48:34 DEBUG DefaultTopologyMapper: Got a request for 172.18.0.4\n",
      "23/09/24 04:48:34 INFO BlockManagerMasterEndpoint: Registering block manager 172.18.0.4:33447 with 366.3 MiB RAM, BlockManagerId(driver, 172.18.0.4, 33447, None)\n",
      "23/09/24 04:48:34 INFO BlockManagerMaster: Registered BlockManager BlockManagerId(driver, 172.18.0.4, 33447, None)\n",
      "23/09/24 04:48:34 INFO BlockManager: Initialized BlockManager: BlockManagerId(driver, 172.18.0.4, 33447, None)\n",
      "23/09/24 04:48:34 INFO StandaloneAppClient$ClientEndpoint: Executor updated: app-20230924044834-0001/1 is now RUNNING\n",
      "23/09/24 04:48:34 INFO StandaloneAppClient$ClientEndpoint: Executor updated: app-20230924044834-0001/0 is now RUNNING\n",
      "23/09/24 04:48:34 INFO StandaloneAppClient$ClientEndpoint: Executor updated: app-20230924044834-0001/2 is now RUNNING\n",
      "23/09/24 04:48:34 DEBUG SparkContext: Adding shutdown hook\n",
      "23/09/24 04:48:34 INFO StandaloneSchedulerBackend: SchedulerBackend is ready for scheduling beginning after reached minRegisteredResourcesRatio: 0.0\n",
      "23/09/24 04:48:34 INFO SharedState: Setting hive.metastore.warehouse.dir ('null') to the value of spark.sql.warehouse.dir.\n",
      "23/09/24 04:48:34 DEBUG SharedState: Applying other initial session options to HadoopConf: spark.driver.host -> 172.18.0.4\n",
      "23/09/24 04:48:34 DEBUG SharedState: Applying other initial session options to HadoopConf: spark.eventLog.enabled -> false\n",
      "23/09/24 04:48:34 DEBUG SharedState: Applying other initial session options to HadoopConf: spark.jars -> file:///root/.ivy2/jars/org.apache.spark_spark-hadoop-cloud_2.12-3.3.0.jar,file:///root/.ivy2/jars/org.apache.hadoop_hadoop-client-runtime-3.3.2.jar,file:///root/.ivy2/jars/org.apache.hadoop_hadoop-aws-3.3.2.jar,file:///root/.ivy2/jars/org.apache.hadoop_hadoop-openstack-3.3.2.jar,file:///root/.ivy2/jars/joda-time_joda-time-2.10.13.jar,file:///root/.ivy2/jars/com.fasterxml.jackson.core_jackson-databind-2.13.3.jar,file:///root/.ivy2/jars/com.fasterxml.jackson.core_jackson-annotations-2.13.3.jar,file:///root/.ivy2/jars/com.fasterxml.jackson.dataformat_jackson-dataformat-cbor-2.13.3.jar,file:///root/.ivy2/jars/org.apache.httpcomponents_httpclient-4.5.13.jar,file:///root/.ivy2/jars/org.apache.httpcomponents_httpcore-4.4.14.jar,file:///root/.ivy2/jars/org.apache.hadoop_hadoop-azure-3.3.2.jar,file:///root/.ivy2/jars/org.apache.hadoop_hadoop-cloud-storage-3.3.2.jar,file:///root/.ivy2/jars/org.eclipse.jetty_jetty-util-ajax-9.4.46.v20220331.jar,file:///root/.ivy2/jars/org.spark-project.spark_unused-1.0.0.jar,file:///root/.ivy2/jars/org.apache.hadoop_hadoop-client-api-3.3.2.jar,file:///root/.ivy2/jars/org.xerial.snappy_snappy-java-1.1.8.4.jar,file:///root/.ivy2/jars/org.slf4j_slf4j-api-1.7.32.jar,file:///root/.ivy2/jars/commons-logging_commons-logging-1.1.3.jar,file:///root/.ivy2/jars/com.google.code.findbugs_jsr305-3.0.0.jar,file:///root/.ivy2/jars/com.amazonaws_aws-java-sdk-bundle-1.11.1026.jar,file:///root/.ivy2/jars/org.wildfly.openssl_wildfly-openssl-1.0.7.Final.jar,file:///root/.ivy2/jars/org.apache.hadoop_hadoop-annotations-3.3.2.jar,file:///root/.ivy2/jars/com.fasterxml.jackson.core_jackson-core-2.13.3.jar,file:///root/.ivy2/jars/commons-codec_commons-codec-1.15.jar,file:///root/.ivy2/jars/com.microsoft.azure_azure-storage-7.0.1.jar,file:///root/.ivy2/jars/org.apache.hadoop.thirdparty_hadoop-shaded-guava-1.1.1.jar,file:///root/.ivy2/jars/org.codehaus.jackson_jackson-mapper-asl-1.9.13.jar,file:///root/.ivy2/jars/org.codehaus.jackson_jackson-core-asl-1.9.13.jar,file:///root/.ivy2/jars/com.microsoft.azure_azure-keyvault-core-1.0.0.jar,file:///root/.ivy2/jars/org.apache.hadoop_hadoop-aliyun-3.3.2.jar,file:///root/.ivy2/jars/org.apache.hadoop_hadoop-azure-datalake-3.3.2.jar,file:///root/.ivy2/jars/org.apache.hadoop_hadoop-cos-3.3.2.jar,file:///root/.ivy2/jars/com.aliyun.oss_aliyun-sdk-oss-3.13.0.jar,file:///root/.ivy2/jars/org.jdom_jdom2-2.0.6.jar,file:///root/.ivy2/jars/org.codehaus.jettison_jettison-1.1.jar,file:///root/.ivy2/jars/com.aliyun_aliyun-java-sdk-core-4.5.10.jar,file:///root/.ivy2/jars/com.aliyun_aliyun-java-sdk-ram-3.1.0.jar,file:///root/.ivy2/jars/com.aliyun_aliyun-java-sdk-kms-2.11.0.jar,file:///root/.ivy2/jars/stax_stax-api-1.0.1.jar,file:///root/.ivy2/jars/com.google.code.gson_gson-2.8.9.jar,file:///root/.ivy2/jars/javax.xml.bind_jaxb-api-2.2.11.jar,file:///root/.ivy2/jars/org.ini4j_ini4j-0.5.4.jar,file:///root/.ivy2/jars/io.opentracing_opentracing-api-0.33.0.jar,file:///root/.ivy2/jars/io.opentracing_opentracing-util-0.33.0.jar,file:///root/.ivy2/jars/io.opentracing_opentracing-noop-0.33.0.jar,file:///root/.ivy2/jars/com.microsoft.azure_azure-data-lake-store-sdk-2.3.9.jar,file:///root/.ivy2/jars/com.qcloud_cos_api-bundle-5.6.19.jar,file:///root/.ivy2/jars/org.eclipse.jetty_jetty-util-9.4.46.v20220331.jar\n",
      "23/09/24 04:48:34 DEBUG SharedState: Applying other initial session options to HadoopConf: spark.hadoop.fs.s3a.path.style.access -> True\n",
      "23/09/24 04:48:34 DEBUG SharedState: Applying other initial session options to HadoopConf: spark.app.name -> openS3file\n",
      "23/09/24 04:48:34 DEBUG SharedState: Applying other initial session options to HadoopConf: spark.hadoop.fs.s3a.secret.key -> minio-root-password\n",
      "23/09/24 04:48:34 DEBUG SharedState: Applying other initial session options to HadoopConf: spark.logConf -> false\n",
      "23/09/24 04:48:34 DEBUG SharedState: Applying other initial session options to HadoopConf: spark.hadoop.fs.s3a.access.key -> minio-root-user\n",
      "23/09/24 04:48:34 DEBUG SharedState: Applying other initial session options to HadoopConf: spark.submit.pyFiles -> /root/.ivy2/jars/org.apache.spark_spark-hadoop-cloud_2.12-3.3.0.jar,/root/.ivy2/jars/org.apache.hadoop_hadoop-client-runtime-3.3.2.jar,/root/.ivy2/jars/org.apache.hadoop_hadoop-aws-3.3.2.jar,/root/.ivy2/jars/org.apache.hadoop_hadoop-openstack-3.3.2.jar,/root/.ivy2/jars/joda-time_joda-time-2.10.13.jar,/root/.ivy2/jars/com.fasterxml.jackson.core_jackson-databind-2.13.3.jar,/root/.ivy2/jars/com.fasterxml.jackson.core_jackson-annotations-2.13.3.jar,/root/.ivy2/jars/com.fasterxml.jackson.dataformat_jackson-dataformat-cbor-2.13.3.jar,/root/.ivy2/jars/org.apache.httpcomponents_httpclient-4.5.13.jar,/root/.ivy2/jars/org.apache.httpcomponents_httpcore-4.4.14.jar,/root/.ivy2/jars/org.apache.hadoop_hadoop-azure-3.3.2.jar,/root/.ivy2/jars/org.apache.hadoop_hadoop-cloud-storage-3.3.2.jar,/root/.ivy2/jars/org.eclipse.jetty_jetty-util-ajax-9.4.46.v20220331.jar,/root/.ivy2/jars/org.spark-project.spark_unused-1.0.0.jar,/root/.ivy2/jars/org.apache.hadoop_hadoop-client-api-3.3.2.jar,/root/.ivy2/jars/org.xerial.snappy_snappy-java-1.1.8.4.jar,/root/.ivy2/jars/org.slf4j_slf4j-api-1.7.32.jar,/root/.ivy2/jars/commons-logging_commons-logging-1.1.3.jar,/root/.ivy2/jars/com.google.code.findbugs_jsr305-3.0.0.jar,/root/.ivy2/jars/com.amazonaws_aws-java-sdk-bundle-1.11.1026.jar,/root/.ivy2/jars/org.wildfly.openssl_wildfly-openssl-1.0.7.Final.jar,/root/.ivy2/jars/org.apache.hadoop_hadoop-annotations-3.3.2.jar,/root/.ivy2/jars/com.fasterxml.jackson.core_jackson-core-2.13.3.jar,/root/.ivy2/jars/commons-codec_commons-codec-1.15.jar,/root/.ivy2/jars/com.microsoft.azure_azure-storage-7.0.1.jar,/root/.ivy2/jars/org.apache.hadoop.thirdparty_hadoop-shaded-guava-1.1.1.jar,/root/.ivy2/jars/org.codehaus.jackson_jackson-mapper-asl-1.9.13.jar,/root/.ivy2/jars/org.codehaus.jackson_jackson-core-asl-1.9.13.jar,/root/.ivy2/jars/com.microsoft.azure_azure-keyvault-core-1.0.0.jar,/root/.ivy2/jars/org.apache.hadoop_hadoop-aliyun-3.3.2.jar,/root/.ivy2/jars/org.apache.hadoop_hadoop-azure-datalake-3.3.2.jar,/root/.ivy2/jars/org.apache.hadoop_hadoop-cos-3.3.2.jar,/root/.ivy2/jars/com.aliyun.oss_aliyun-sdk-oss-3.13.0.jar,/root/.ivy2/jars/org.jdom_jdom2-2.0.6.jar,/root/.ivy2/jars/org.codehaus.jettison_jettison-1.1.jar,/root/.ivy2/jars/com.aliyun_aliyun-java-sdk-core-4.5.10.jar,/root/.ivy2/jars/com.aliyun_aliyun-java-sdk-ram-3.1.0.jar,/root/.ivy2/jars/com.aliyun_aliyun-java-sdk-kms-2.11.0.jar,/root/.ivy2/jars/stax_stax-api-1.0.1.jar,/root/.ivy2/jars/com.google.code.gson_gson-2.8.9.jar,/root/.ivy2/jars/javax.xml.bind_jaxb-api-2.2.11.jar,/root/.ivy2/jars/org.ini4j_ini4j-0.5.4.jar,/root/.ivy2/jars/io.opentracing_opentracing-api-0.33.0.jar,/root/.ivy2/jars/io.opentracing_opentracing-util-0.33.0.jar,/root/.ivy2/jars/io.opentracing_opentracing-noop-0.33.0.jar,/root/.ivy2/jars/com.microsoft.azure_azure-data-lake-store-sdk-2.3.9.jar,/root/.ivy2/jars/com.qcloud_cos_api-bundle-5.6.19.jar,/root/.ivy2/jars/org.eclipse.jetty_jetty-util-9.4.46.v20220331.jar\n",
      "23/09/24 04:48:34 DEBUG SharedState: Applying other initial session options to HadoopConf: spark.ui.showConsoleProgress -> true\n",
      "23/09/24 04:48:34 DEBUG SharedState: Applying other initial session options to HadoopConf: spark.app.submitTime -> 1695530681571\n",
      "23/09/24 04:48:34 DEBUG SharedState: Applying other initial session options to HadoopConf: spark.jars.packages -> org.apache.hadoop:hadoop-aws:3.2.0,com.amazonaws:aws-java-sdk-bundle:1.11.704,org.apache.spark:spark-hadoop-cloud_2.12:3.3.0\n",
      "23/09/24 04:48:34 DEBUG SharedState: Applying other initial session options to HadoopConf: spark.driver.bindAddress -> 0.0.0.0\n",
      "23/09/24 04:48:34 DEBUG SharedState: Applying other initial session options to HadoopConf: spark.hadoop.fs.s3a.bucket.all.committer.magic.enabled -> True\n",
      "23/09/24 04:48:34 DEBUG SharedState: Applying other initial session options to HadoopConf: spark.files -> file:///root/.ivy2/jars/org.apache.spark_spark-hadoop-cloud_2.12-3.3.0.jar,file:///root/.ivy2/jars/org.apache.hadoop_hadoop-client-runtime-3.3.2.jar,file:///root/.ivy2/jars/org.apache.hadoop_hadoop-aws-3.3.2.jar,file:///root/.ivy2/jars/org.apache.hadoop_hadoop-openstack-3.3.2.jar,file:///root/.ivy2/jars/joda-time_joda-time-2.10.13.jar,file:///root/.ivy2/jars/com.fasterxml.jackson.core_jackson-databind-2.13.3.jar,file:///root/.ivy2/jars/com.fasterxml.jackson.core_jackson-annotations-2.13.3.jar,file:///root/.ivy2/jars/com.fasterxml.jackson.dataformat_jackson-dataformat-cbor-2.13.3.jar,file:///root/.ivy2/jars/org.apache.httpcomponents_httpclient-4.5.13.jar,file:///root/.ivy2/jars/org.apache.httpcomponents_httpcore-4.4.14.jar,file:///root/.ivy2/jars/org.apache.hadoop_hadoop-azure-3.3.2.jar,file:///root/.ivy2/jars/org.apache.hadoop_hadoop-cloud-storage-3.3.2.jar,file:///root/.ivy2/jars/org.eclipse.jetty_jetty-util-ajax-9.4.46.v20220331.jar,file:///root/.ivy2/jars/org.spark-project.spark_unused-1.0.0.jar,file:///root/.ivy2/jars/org.apache.hadoop_hadoop-client-api-3.3.2.jar,file:///root/.ivy2/jars/org.xerial.snappy_snappy-java-1.1.8.4.jar,file:///root/.ivy2/jars/org.slf4j_slf4j-api-1.7.32.jar,file:///root/.ivy2/jars/commons-logging_commons-logging-1.1.3.jar,file:///root/.ivy2/jars/com.google.code.findbugs_jsr305-3.0.0.jar,file:///root/.ivy2/jars/com.amazonaws_aws-java-sdk-bundle-1.11.1026.jar,file:///root/.ivy2/jars/org.wildfly.openssl_wildfly-openssl-1.0.7.Final.jar,file:///root/.ivy2/jars/org.apache.hadoop_hadoop-annotations-3.3.2.jar,file:///root/.ivy2/jars/com.fasterxml.jackson.core_jackson-core-2.13.3.jar,file:///root/.ivy2/jars/commons-codec_commons-codec-1.15.jar,file:///root/.ivy2/jars/com.microsoft.azure_azure-storage-7.0.1.jar,file:///root/.ivy2/jars/org.apache.hadoop.thirdparty_hadoop-shaded-guava-1.1.1.jar,file:///root/.ivy2/jars/org.codehaus.jackson_jackson-mapper-asl-1.9.13.jar,file:///root/.ivy2/jars/org.codehaus.jackson_jackson-core-asl-1.9.13.jar,file:///root/.ivy2/jars/com.microsoft.azure_azure-keyvault-core-1.0.0.jar,file:///root/.ivy2/jars/org.apache.hadoop_hadoop-aliyun-3.3.2.jar,file:///root/.ivy2/jars/org.apache.hadoop_hadoop-azure-datalake-3.3.2.jar,file:///root/.ivy2/jars/org.apache.hadoop_hadoop-cos-3.3.2.jar,file:///root/.ivy2/jars/com.aliyun.oss_aliyun-sdk-oss-3.13.0.jar,file:///root/.ivy2/jars/org.jdom_jdom2-2.0.6.jar,file:///root/.ivy2/jars/org.codehaus.jettison_jettison-1.1.jar,file:///root/.ivy2/jars/com.aliyun_aliyun-java-sdk-core-4.5.10.jar,file:///root/.ivy2/jars/com.aliyun_aliyun-java-sdk-ram-3.1.0.jar,file:///root/.ivy2/jars/com.aliyun_aliyun-java-sdk-kms-2.11.0.jar,file:///root/.ivy2/jars/stax_stax-api-1.0.1.jar,file:///root/.ivy2/jars/com.google.code.gson_gson-2.8.9.jar,file:///root/.ivy2/jars/javax.xml.bind_jaxb-api-2.2.11.jar,file:///root/.ivy2/jars/org.ini4j_ini4j-0.5.4.jar,file:///root/.ivy2/jars/io.opentracing_opentracing-api-0.33.0.jar,file:///root/.ivy2/jars/io.opentracing_opentracing-util-0.33.0.jar,file:///root/.ivy2/jars/io.opentracing_opentracing-noop-0.33.0.jar,file:///root/.ivy2/jars/com.microsoft.azure_azure-data-lake-store-sdk-2.3.9.jar,file:///root/.ivy2/jars/com.qcloud_cos_api-bundle-5.6.19.jar,file:///root/.ivy2/jars/org.eclipse.jetty_jetty-util-9.4.46.v20220331.jar\n",
      "23/09/24 04:48:34 DEBUG SharedState: Applying other initial session options to HadoopConf: spark.submit.deployMode -> client\n",
      "23/09/24 04:48:34 DEBUG SharedState: Applying other initial session options to HadoopConf: spark.master -> spark://spark:7077\n",
      "23/09/24 04:48:34 DEBUG SharedState: Applying other initial session options to HadoopConf: spark.hadoop.fs.s3a.endpoint -> http://minio:9000\n",
      "23/09/24 04:48:34 DEBUG SharedState: Applying other initial session options to HadoopConf: spark.repl.local.jars -> file:///root/.ivy2/jars/org.apache.spark_spark-hadoop-cloud_2.12-3.3.0.jar,file:///root/.ivy2/jars/org.apache.hadoop_hadoop-client-runtime-3.3.2.jar,file:///root/.ivy2/jars/org.apache.hadoop_hadoop-aws-3.3.2.jar,file:///root/.ivy2/jars/org.apache.hadoop_hadoop-openstack-3.3.2.jar,file:///root/.ivy2/jars/joda-time_joda-time-2.10.13.jar,file:///root/.ivy2/jars/com.fasterxml.jackson.core_jackson-databind-2.13.3.jar,file:///root/.ivy2/jars/com.fasterxml.jackson.core_jackson-annotations-2.13.3.jar,file:///root/.ivy2/jars/com.fasterxml.jackson.dataformat_jackson-dataformat-cbor-2.13.3.jar,file:///root/.ivy2/jars/org.apache.httpcomponents_httpclient-4.5.13.jar,file:///root/.ivy2/jars/org.apache.httpcomponents_httpcore-4.4.14.jar,file:///root/.ivy2/jars/org.apache.hadoop_hadoop-azure-3.3.2.jar,file:///root/.ivy2/jars/org.apache.hadoop_hadoop-cloud-storage-3.3.2.jar,file:///root/.ivy2/jars/org.eclipse.jetty_jetty-util-ajax-9.4.46.v20220331.jar,file:///root/.ivy2/jars/org.spark-project.spark_unused-1.0.0.jar,file:///root/.ivy2/jars/org.apache.hadoop_hadoop-client-api-3.3.2.jar,file:///root/.ivy2/jars/org.xerial.snappy_snappy-java-1.1.8.4.jar,file:///root/.ivy2/jars/org.slf4j_slf4j-api-1.7.32.jar,file:///root/.ivy2/jars/commons-logging_commons-logging-1.1.3.jar,file:///root/.ivy2/jars/com.google.code.findbugs_jsr305-3.0.0.jar,file:///root/.ivy2/jars/com.amazonaws_aws-java-sdk-bundle-1.11.1026.jar,file:///root/.ivy2/jars/org.wildfly.openssl_wildfly-openssl-1.0.7.Final.jar,file:///root/.ivy2/jars/org.apache.hadoop_hadoop-annotations-3.3.2.jar,file:///root/.ivy2/jars/com.fasterxml.jackson.core_jackson-core-2.13.3.jar,file:///root/.ivy2/jars/commons-codec_commons-codec-1.15.jar,file:///root/.ivy2/jars/com.microsoft.azure_azure-storage-7.0.1.jar,file:///root/.ivy2/jars/org.apache.hadoop.thirdparty_hadoop-shaded-guava-1.1.1.jar,file:///root/.ivy2/jars/org.codehaus.jackson_jackson-mapper-asl-1.9.13.jar,file:///root/.ivy2/jars/org.codehaus.jackson_jackson-core-asl-1.9.13.jar,file:///root/.ivy2/jars/com.microsoft.azure_azure-keyvault-core-1.0.0.jar,file:///root/.ivy2/jars/org.apache.hadoop_hadoop-aliyun-3.3.2.jar,file:///root/.ivy2/jars/org.apache.hadoop_hadoop-azure-datalake-3.3.2.jar,file:///root/.ivy2/jars/org.apache.hadoop_hadoop-cos-3.3.2.jar,file:///root/.ivy2/jars/com.aliyun.oss_aliyun-sdk-oss-3.13.0.jar,file:///root/.ivy2/jars/org.jdom_jdom2-2.0.6.jar,file:///root/.ivy2/jars/org.codehaus.jettison_jettison-1.1.jar,file:///root/.ivy2/jars/com.aliyun_aliyun-java-sdk-core-4.5.10.jar,file:///root/.ivy2/jars/com.aliyun_aliyun-java-sdk-ram-3.1.0.jar,file:///root/.ivy2/jars/com.aliyun_aliyun-java-sdk-kms-2.11.0.jar,file:///root/.ivy2/jars/stax_stax-api-1.0.1.jar,file:///root/.ivy2/jars/com.google.code.gson_gson-2.8.9.jar,file:///root/.ivy2/jars/javax.xml.bind_jaxb-api-2.2.11.jar,file:///root/.ivy2/jars/org.ini4j_ini4j-0.5.4.jar,file:///root/.ivy2/jars/io.opentracing_opentracing-api-0.33.0.jar,file:///root/.ivy2/jars/io.opentracing_opentracing-util-0.33.0.jar,file:///root/.ivy2/jars/io.opentracing_opentracing-noop-0.33.0.jar,file:///root/.ivy2/jars/com.microsoft.azure_azure-data-lake-store-sdk-2.3.9.jar,file:///root/.ivy2/jars/com.qcloud_cos_api-bundle-5.6.19.jar,file:///root/.ivy2/jars/org.eclipse.jetty_jetty-util-9.4.46.v20220331.jar\n",
      "23/09/24 04:48:34 DEBUG SharedState: Applying other initial session options to HadoopConf: spark.hadoop.fs.s3a.impl -> org.apache.hadoop.fs.s3a.S3AFileSystem\n",
      "23/09/24 04:48:34 DEBUG SharedState: Applying other initial session options to HadoopConf: spark.hadoop.fs.s3a.fast.upload -> True\n",
      "23/09/24 04:48:34 INFO SharedState: Warehouse path is 'file:/opt/bitnami/spark/work/demos/01_ReadWriteS3/spark-warehouse'.\n"
     ]
    }
   ],
   "source": [
    "import sys, os\n",
    "from pyspark.conf import SparkConf\n",
    "from pyspark.sql import SparkSession, Catalog\n",
    "from pyspark.sql import DataFrame, DataFrameStatFunctions, DataFrameNaFunctions\n",
    "from pyspark.sql import functions as F\n",
    "from pyspark.sql import types as T\n",
    "from pyspark.sql.types import Row\n",
    "from subprocess import check_output\n",
    "\n",
    "SPARK_DRIVER_HOST = check_output([\"hostname\", \"-i\"]).decode(encoding=\"utf-8\").strip()\n",
    "spark_conf = SparkConf()\n",
    "spark_conf.setAll([\n",
    "    ('spark.master', 'spark://spark:7077'),\n",
    "    ('spark.app.name', 'openS3file'),\n",
    "    ('spark.submit.deployMode', 'client'),\n",
    "    ('spark.ui.showConsoleProgress', 'true'),\n",
    "    ('spark.eventLog.enabled', 'false'),\n",
    "    ('spark.logConf', 'false'),\n",
    "    ('spark.driver.bindAddress', '0.0.0.0'),\n",
    "    ('spark.driver.host', SPARK_DRIVER_HOST),\n",
    "    ('spark.jars.packages', 'org.apache.hadoop:hadoop-aws:3.2.0,com.amazonaws:aws-java-sdk-bundle:1.11.704,org.apache.spark:spark-hadoop-cloud_2.12:3.3.0'),\n",
    "    (\"spark.hadoop.fs.s3a.endpoint\", 'http://minio:9000'),\n",
    "    ('spark.hadoop.fs.s3a.access.key', 'minio-root-user'),\n",
    "    ('spark.hadoop.fs.s3a.secret.key', 'minio-root-password'),\n",
    "    ('spark.hadoop.fs.s3a.bucket.all.committer.magic.enabled', True),\n",
    "    (\"spark.hadoop.fs.s3a.fast.upload\", True),\n",
    "    (\"spark.hadoop.fs.s3a.path.style.access\", True),\n",
    "    (\"spark.hadoop.fs.s3a.impl\", \"org.apache.hadoop.fs.s3a.S3AFileSystem\")\n",
    "])\n",
    " \n",
    "spark_sess          = SparkSession.builder.config(conf=spark_conf).getOrCreate()\n",
    "spark_ctxt          = spark_sess.sparkContext\n",
    "spark_reader        = spark_sess.read\n",
    "spark_streamReader  = spark_sess.readStream\n",
    "spark_ctxt.setLogLevel(\"WARN\")"
   ]
  },
  {
   "cell_type": "code",
   "execution_count": 8,
   "id": "751619ed-955f-4027-865a-308e12592e78",
   "metadata": {},
   "outputs": [
    {
     "name": "stderr",
     "output_type": "stream",
     "text": [
      "[Stage 1:>                                                          (0 + 1) / 1]\r"
     ]
    },
    {
     "name": "stdout",
     "output_type": "stream",
     "text": [
      "+-----+-------+-------+-----+-------+-------+-------+-----+------------------+--------+\n",
      "|LatD | \"LatM\"| \"LatS\"| \"NS\"| \"LonD\"| \"LonM\"| \"LonS\"| \"EW\"| \"City\"           | \"State\"|\n",
      "+-----+-------+-------+-----+-------+-------+-------+-----+------------------+--------+\n",
      "|   41|    5  |   59  | \"N\" |     80|   39  |    0  | \"W\" | \"Youngstown\"     | OH     |\n",
      "|   42|   52  |   48  | \"N\" |     97|   23  |   23  | \"W\" | \"Yankton\"        | SD     |\n",
      "|   46|   35  |   59  | \"N\" |    120|   30  |   36  | \"W\" | \"Yakima\"         | WA     |\n",
      "|   42|   16  |   12  | \"N\" |     71|   48  |    0  | \"W\" | \"Worcester\"      | MA     |\n",
      "|   43|   37  |   48  | \"N\" |     89|   46  |   11  | \"W\" | \"Wisconsin Dells\"| WI     |\n",
      "|   36|    5  |   59  | \"N\" |     80|   15  |    0  | \"W\" | \"Winston-Salem\"  | NC     |\n",
      "|   49|   52  |   48  | \"N\" |     97|    9  |    0  | \"W\" | \"Winnipeg\"       | MB     |\n",
      "|   39|   11  |   23  | \"N\" |     78|    9  |   36  | \"W\" | \"Winchester\"     | VA     |\n",
      "|   34|   14  |   24  | \"N\" |     77|   55  |   11  | \"W\" | \"Wilmington\"     | NC     |\n",
      "|   39|   45  |    0  | \"N\" |     75|   33  |    0  | \"W\" | \"Wilmington\"     | DE     |\n",
      "|   48|    9  |    0  | \"N\" |    103|   37  |   12  | \"W\" | \"Williston\"      | ND     |\n",
      "|   41|   15  |    0  | \"N\" |     77|    0  |    0  | \"W\" | \"Williamsport\"   | PA     |\n",
      "|   37|   40  |   48  | \"N\" |     82|   16  |   47  | \"W\" | \"Williamson\"     | WV     |\n",
      "|   33|   54  |    0  | \"N\" |     98|   29  |   23  | \"W\" | \"Wichita Falls\"  | TX     |\n",
      "|   37|   41  |   23  | \"N\" |     97|   20  |   23  | \"W\" | \"Wichita\"        | KS     |\n",
      "|   40|    4  |   11  | \"N\" |     80|   43  |   12  | \"W\" | \"Wheeling\"       | WV     |\n",
      "|   26|   43  |   11  | \"N\" |     80|    3  |    0  | \"W\" | \"West Palm Beach\"| FL     |\n",
      "|   47|   25  |   11  | \"N\" |    120|   19  |   11  | \"W\" | \"Wenatchee\"      | WA     |\n",
      "|   41|   25  |   11  | \"N\" |    122|   23  |   23  | \"W\" | \"Weed\"           | CA     |\n",
      "|   31|   13  |   11  | \"N\" |     82|   20  |   59  | \"W\" | \"Waycross\"       | GA     |\n",
      "+-----+-------+-------+-----+-------+-------+-------+-----+------------------+--------+\n",
      "only showing top 20 rows\n",
      "\n"
     ]
    },
    {
     "name": "stderr",
     "output_type": "stream",
     "text": [
      "                                                                                \r"
     ]
    }
   ],
   "source": [
    "citiesDF = spark_sess.read.option(\"header\",True).csv('s3a://cities/cities.csv')\n",
    "\n",
    "citiesDF.show(truncate=False)"
   ]
  },
  {
   "cell_type": "code",
   "execution_count": 9,
   "id": "81e3f4e9-0235-48ed-8b4e-a948c9416dcb",
   "metadata": {},
   "outputs": [
    {
     "data": {
      "text/plain": [
       "['LatD',\n",
       " ' \"LatM\"',\n",
       " ' \"LatS\"',\n",
       " ' \"NS\"',\n",
       " ' \"LonD\"',\n",
       " ' \"LonM\"',\n",
       " ' \"LonS\"',\n",
       " ' \"EW\"',\n",
       " ' \"City\"',\n",
       " ' \"State\"']"
      ]
     },
     "execution_count": 9,
     "metadata": {},
     "output_type": "execute_result"
    }
   ],
   "source": [
    "citiesDF.columns"
   ]
  },
  {
   "cell_type": "code",
   "execution_count": 10,
   "id": "83e7d1b9-6ae7-479d-8a2a-92f81cb575e6",
   "metadata": {},
   "outputs": [
    {
     "data": {
      "text/plain": [
       "DataFrame[LatM: string, LonM: string]"
      ]
     },
     "execution_count": 10,
     "metadata": {},
     "output_type": "execute_result"
    }
   ],
   "source": [
    "from pyspark.sql.functions import col, column\n",
    "cleanCitiesDF = citiesDF \\\n",
    "   .withColumnRenamed(' \"LatM\"', 'LatM') \\\n",
    "   .withColumnRenamed(' \"LonM\"', 'LonM') \\\n",
    "   .select(col('LatM'), col('LonM'))\n",
    "cleanCitiesDF"
   ]
  },
  {
   "cell_type": "code",
   "execution_count": 11,
   "id": "e6df081e-bba1-457b-ae0c-a47b82c40b2b",
   "metadata": {},
   "outputs": [
    {
     "name": "stdout",
     "output_type": "stream",
     "text": [
      "+-----+-----+-------+-----+-------+-----+-------+-----+-----------------+--------+\n",
      "| LatD| LatM| \"LatS\"| \"NS\"| \"LonD\"| LonM| \"LonS\"| \"EW\"|           \"City\"| \"State\"|\n",
      "+-----+-----+-------+-----+-------+-----+-------+-----+-----------------+--------+\n",
      "|   41|    5|     59|  \"N\"|     80|   39|      0|  \"W\"|     \"Youngstown\"|      OH|\n",
      "|   36|    5|     59|  \"N\"|     80|   15|      0|  \"W\"|  \"Winston-Salem\"|      NC|\n",
      "|   48|    9|      0|  \"N\"|    103|   37|     12|  \"W\"|      \"Williston\"|      ND|\n",
      "|   40|    4|     11|  \"N\"|     80|   43|     12|  \"W\"|       \"Wheeling\"|      WV|\n",
      "|   46|    4|     11|  \"N\"|    118|   19|     48|  \"W\"|    \"Walla Walla\"|      WA|\n",
      "|   43|    6|     36|  \"N\"|     75|   13|     48|  \"W\"|          \"Utica\"|      NY|\n",
      "|   36|    9|     35|  \"N\"|     95|   54|     36|  \"W\"|          \"Tulsa\"|      OK|\n",
      "|   39|    2|     59|  \"N\"|     95|   40|     11|  \"W\"|         \"Topeka\"|      KS|\n",
      "|   43|    2|     59|  \"N\"|     76|    9|      0|  \"W\"|       \"Syracuse\"|      NY|\n",
      "|   38|    9|      0|  \"N\"|     79|    4|     11|  \"W\"|       \"Staunton\"|      VA|\n",
      "|   42|    5|     59|  \"N\"|     72|   35|     23|  \"W\"|    \"Springfield\"|      MA|\n",
      "|   32|    4|     48|  \"N\"|     81|    5|     23|  \"W\"|       \"Savannah\"|      GA|\n",
      "|   34|    6|     36|  \"N\"|    117|   18|     35|  \"W\"| \"San Bernardino\"|      CA|\n",
      "|   42|    5|     59|  \"N\"|     86|   28|     48|  \"W\"|   \"Saint Joseph\"|      MI|\n",
      "|   43|    9|     35|  \"N\"|     77|   36|     36|  \"W\"|      \"Rochester\"|      NY|\n",
      "|   44|    1|     12|  \"N\"|     92|   27|     35|  \"W\"|      \"Rochester\"|      MN|\n",
      "|   41|    9|     35|  \"N\"|     81|   14|     23|  \"W\"|        \"Ravenna\"|     OH |\n",
      "+-----+-----+-------+-----+-------+-----+-------+-----+-----------------+--------+\n",
      "\n"
     ]
    }
   ],
   "source": [
    "manipulatedFrame = citiesDF \\\n",
    "   .withColumnRenamed(' \"LatM\"', 'LatM') \\\n",
    "   .withColumnRenamed(' \"LonM\"', 'LonM')\n",
    "\n",
    "manipulatedFrame.filter('LatM < 10').show()"
   ]
  },
  {
   "cell_type": "code",
   "execution_count": 12,
   "id": "b0dda403-b193-437e-a673-e27905afecdd",
   "metadata": {},
   "outputs": [
    {
     "data": {
      "text/plain": [
       "Row(LatD='   41', LatM='    5',  \"LatS\"='   59',  \"NS\"=' \"N\"',  \"LonD\"='     80', LonM='   39',  \"LonS\"='    0',  \"EW\"=' \"W\"',  \"City\"=' \"Youngstown\"',  \"State\"=' OH')"
      ]
     },
     "execution_count": 12,
     "metadata": {},
     "output_type": "execute_result"
    }
   ],
   "source": [
    "manipulatedFrame.head()"
   ]
  },
  {
   "cell_type": "code",
   "execution_count": 13,
   "id": "46aa6eea-04fc-4531-aaeb-d126190720df",
   "metadata": {},
   "outputs": [
    {
     "name": "stderr",
     "output_type": "stream",
     "text": [
      "[Stage 4:>                                                          (0 + 1) / 1]\r"
     ]
    },
    {
     "name": "stdout",
     "output_type": "stream",
     "text": [
      "+-----+-----+\n",
      "| LatM| LonM|\n",
      "+-----+-----+\n",
      "|    5|   39|\n",
      "|   52|   23|\n",
      "|   35|   30|\n",
      "|   16|   48|\n",
      "|   37|   46|\n",
      "|    5|   15|\n",
      "|   52|    9|\n",
      "|   11|    9|\n",
      "|   14|   55|\n",
      "|   45|   33|\n",
      "|    9|   37|\n",
      "|   15|    0|\n",
      "|   40|   16|\n",
      "|   54|   29|\n",
      "|   41|   20|\n",
      "|    4|   43|\n",
      "|   43|    3|\n",
      "|   25|   19|\n",
      "|   25|   23|\n",
      "|   13|   20|\n",
      "+-----+-----+\n",
      "only showing top 20 rows\n",
      "\n"
     ]
    },
    {
     "name": "stderr",
     "output_type": "stream",
     "text": [
      "                                                                                \r"
     ]
    }
   ],
   "source": [
    "cleanCitiesDF.show()"
   ]
  },
  {
   "cell_type": "code",
   "execution_count": 14,
   "id": "3fefb972-35cd-44b6-8947-64c881342c87",
   "metadata": {},
   "outputs": [
    {
     "name": "stderr",
     "output_type": "stream",
     "text": [
      "                                                                                \r"
     ]
    }
   ],
   "source": [
    "cleanCitiesDF.write.format(\"csv\").option(\"header\",  True).save(\"s3a://cities/cleanCities4.csv\")"
   ]
  },
  {
   "cell_type": "code",
   "execution_count": 15,
   "id": "61d3162c-9b1d-4837-a1be-c5a8689d16e6",
   "metadata": {},
   "outputs": [
    {
     "name": "stdout",
     "output_type": "stream",
     "text": [
      "+----+----+\n",
      "|LatM|LonM|\n",
      "+----+----+\n",
      "|   5|  39|\n",
      "|  52|  23|\n",
      "|  35|  30|\n",
      "|  16|  48|\n",
      "|  37|  46|\n",
      "|   5|  15|\n",
      "|  52|   9|\n",
      "|  11|   9|\n",
      "|  14|  55|\n",
      "|  45|  33|\n",
      "|   9|  37|\n",
      "|  15|   0|\n",
      "|  40|  16|\n",
      "|  54|  29|\n",
      "|  41|  20|\n",
      "|   4|  43|\n",
      "|  43|   3|\n",
      "|  25|  19|\n",
      "|  25|  23|\n",
      "|  13|  20|\n",
      "+----+----+\n",
      "only showing top 20 rows\n",
      "\n"
     ]
    }
   ],
   "source": [
    "citiesDFRecovered = spark_sess.read.option(\"header\",True).csv('s3a://cities/cleanCities4.csv')\n",
    "citiesDFRecovered.show()"
   ]
  },
  {
   "cell_type": "code",
   "execution_count": 16,
   "id": "2f907ab0-f89e-4741-87c0-de52d9bea7b0",
   "metadata": {},
   "outputs": [
    {
     "name": "stderr",
     "output_type": "stream",
     "text": [
      "                                                                                \r"
     ]
    },
    {
     "name": "stdout",
     "output_type": "stream",
     "text": [
      "+--------+----------+------------------+\n",
      "|    name|      city|           stadium|\n",
      "+--------+----------+------------------+\n",
      "| Bengals|Cincinnati|Paul Brown Stadium|\n",
      "|Steelers|Pittsburgh|       Heinz Field|\n",
      "|  Browns| Cleveland| FirstEnergy Field|\n",
      "|  Ravens| Baltimore|  M&T Bank Stadium|\n",
      "+--------+----------+------------------+\n",
      "\n"
     ]
    }
   ],
   "source": [
    "Team = Row(\"name\", \"city\", \"stadium\")\n",
    "afcNorth = [Team(\"Bengals\", \"Cincinnati\", \"Paul Brown Stadium\"),\n",
    "            Team(\"Steelers\", \"Pittsburgh\", \"Heinz Field\"),\n",
    "            Team(\"Browns\", \"Cleveland\", \"FirstEnergy Field\"),\n",
    "            Team(\"Ravens\", \"Baltimore\", \"M&T Bank Stadium\")]\n",
    "afcNorthDataFrame = spark_sess.createDataFrame(afcNorth)\n",
    "afcNorthDataFrame.show()"
   ]
  },
  {
   "cell_type": "code",
   "execution_count": 17,
   "id": "20d30c08-1b5f-4614-b075-2f47c534c5fe",
   "metadata": {},
   "outputs": [
    {
     "name": "stdout",
     "output_type": "stream",
     "text": [
      "+---+------+\n",
      "| _1|    _2|\n",
      "+---+------+\n",
      "|  1|   One|\n",
      "| 30|Thirty|\n",
      "+---+------+\n",
      "\n"
     ]
    }
   ],
   "source": [
    "rdd = spark_ctxt.parallelize([(1, \"One\"), (30, \"Thirty\")])\n",
    "dfFromParallelize = rdd.toDF()\n",
    "dfFromParallelize.show()"
   ]
  },
  {
   "cell_type": "code",
   "execution_count": 18,
   "id": "87f932fc-8511-490d-8b5d-8489892d8a2e",
   "metadata": {},
   "outputs": [],
   "source": [
    "from pyspark.sql.types import StructType,StructField, StringType, IntegerType\n",
    "\n",
    "schema = StructType([ \\\n",
    "    StructField(\"number\",IntegerType(),True), \\\n",
    "    StructField(\"number_spelled\",StringType(),True) \\\n",
    "  ])"
   ]
  },
  {
   "cell_type": "code",
   "execution_count": 19,
   "id": "228d1a20-c587-451c-af1f-28aca3b7c5a8",
   "metadata": {},
   "outputs": [
    {
     "name": "stdout",
     "output_type": "stream",
     "text": [
      "+------+--------------+\n",
      "|number|number_spelled|\n",
      "+------+--------------+\n",
      "|     1|           One|\n",
      "|    30|        Thirty|\n",
      "+------+--------------+\n",
      "\n"
     ]
    }
   ],
   "source": [
    "renewedDF = spark_sess.createDataFrame(rdd, schema)\n",
    "renewedDF.show()"
   ]
  },
  {
   "cell_type": "code",
   "execution_count": 20,
   "id": "23a56ead-d312-435d-838a-9617625b04e7",
   "metadata": {},
   "outputs": [
    {
     "name": "stdout",
     "output_type": "stream",
     "text": [
      "+--------------------+--------+--------------------+\n",
      "|                name|  artist|   well_known_lyrics|\n",
      "+--------------------+--------+--------------------+\n",
      "|Mary had a little...| Unknown|Mary had a little...|\n",
      "|Somebody's watchi...|Rockwell|I always fear abo...|\n",
      "|       Stayin' Alive|Bee Gees|Well, you can tel...|\n",
      "+--------------------+--------+--------------------+\n",
      "\n"
     ]
    }
   ],
   "source": [
    "Song = Row(\"name\", \"artist\", \"well_known_lyrics\")\n",
    "songs = [Song(\"Mary had a little lamb\", \"Unknown\", \"Mary had a little little lamb it's fleece was white as snow\"),\n",
    "            Song(\"Somebody's watching me\", \"Rockwell\", \"I always fear about it somebody watching me\"),\n",
    "            Song(\"Stayin' Alive\", \"Bee Gees\", \"Well, you can tell by the way I use my walkI'm a woman's man, no time to talk\")]\n",
    "songsDF = spark_sess.createDataFrame(songs)\n",
    "songsDF.show()"
   ]
  },
  {
   "cell_type": "code",
   "execution_count": 21,
   "id": "2aa5421c-8fd0-4e3c-94cb-a2010b7e025d",
   "metadata": {},
   "outputs": [
    {
     "data": {
      "text/html": [
       "<div>\n",
       "<style scoped>\n",
       "    .dataframe tbody tr th:only-of-type {\n",
       "        vertical-align: middle;\n",
       "    }\n",
       "\n",
       "    .dataframe tbody tr th {\n",
       "        vertical-align: top;\n",
       "    }\n",
       "\n",
       "    .dataframe thead th {\n",
       "        text-align: right;\n",
       "    }\n",
       "</style>\n",
       "<table border=\"1\" class=\"dataframe\">\n",
       "  <thead>\n",
       "    <tr style=\"text-align: right;\">\n",
       "      <th></th>\n",
       "      <th>name</th>\n",
       "      <th>artist</th>\n",
       "      <th>well_known_lyrics</th>\n",
       "    </tr>\n",
       "  </thead>\n",
       "  <tbody>\n",
       "    <tr>\n",
       "      <th>0</th>\n",
       "      <td>Mary had a little lamb</td>\n",
       "      <td>Unknown</td>\n",
       "      <td>Mary had a little little lamb it's fleece was ...</td>\n",
       "    </tr>\n",
       "    <tr>\n",
       "      <th>1</th>\n",
       "      <td>Somebody's watching me</td>\n",
       "      <td>Rockwell</td>\n",
       "      <td>I always fear about it somebody watching me</td>\n",
       "    </tr>\n",
       "    <tr>\n",
       "      <th>2</th>\n",
       "      <td>Stayin' Alive</td>\n",
       "      <td>Bee Gees</td>\n",
       "      <td>Well, you can tell by the way I use my walkI'm...</td>\n",
       "    </tr>\n",
       "  </tbody>\n",
       "</table>\n",
       "</div>"
      ],
      "text/plain": [
       "                     name    artist  \\\n",
       "0  Mary had a little lamb   Unknown   \n",
       "1  Somebody's watching me  Rockwell   \n",
       "2           Stayin' Alive  Bee Gees   \n",
       "\n",
       "                                   well_known_lyrics  \n",
       "0  Mary had a little little lamb it's fleece was ...  \n",
       "1        I always fear about it somebody watching me  \n",
       "2  Well, you can tell by the way I use my walkI'm...  "
      ]
     },
     "execution_count": 21,
     "metadata": {},
     "output_type": "execute_result"
    }
   ],
   "source": [
    "songsDF.toPandas()"
   ]
  },
  {
   "cell_type": "code",
   "execution_count": 22,
   "id": "7bac216a-40e0-47b9-bccc-29d038718321",
   "metadata": {},
   "outputs": [
    {
     "name": "stdout",
     "output_type": "stream",
     "text": [
      "+--------------------+--------+--------------------+-------------------+\n",
      "|                name|  artist|   well_known_lyrics|wellknownlyriccount|\n",
      "+--------------------+--------+--------------------+-------------------+\n",
      "|Mary had a little...| Unknown|Mary had a little...|                 12|\n",
      "|Somebody's watchi...|Rockwell|I always fear abo...|                  8|\n",
      "|       Stayin' Alive|Bee Gees|Well, you can tel...|                 18|\n",
      "+--------------------+--------+--------------------+-------------------+\n",
      "\n"
     ]
    }
   ],
   "source": [
    "songsDF.withColumn('wellknownlyriccount', F.size(F.split(F.col('well_known_lyrics'), ' '))).show()"
   ]
  },
  {
   "cell_type": "raw",
   "id": "d0459ba7-cf27-444f-ab0d-7a84759b3467",
   "metadata": {},
   "source": [
    "result = songsDF.rdd.map(lambda r: r['well_known_lyrics'].split(' ')) \n",
    "brokenout = result.toDF()\n",
    "brokenout.show()"
   ]
  },
  {
   "cell_type": "code",
   "execution_count": 23,
   "id": "337c809f-fa8c-4990-8194-13218ab0a91a",
   "metadata": {},
   "outputs": [
    {
     "data": {
      "text/plain": [
       "[[], [1, 3, 10], [10000, 100009, 30000, 50000], [103, 400, 900], []]"
      ]
     },
     "execution_count": 23,
     "metadata": {},
     "output_type": "execute_result"
    }
   ],
   "source": [
    "psdf = spark_ctxt.parallelize([1,3,10,103,400,900,10000,100009,30000,50000])\n",
    "psdf.getNumPartitions()\n",
    "psdf2 = psdf.repartition(5)\n",
    "psdf.getNumPartitions()\n",
    "psdf2.getNumPartitions()\n",
    "psdf2.glom().collect()"
   ]
  },
  {
   "cell_type": "code",
   "execution_count": 24,
   "id": "7e4fb426-7b66-4b24-a135-c0e2e68f08fc",
   "metadata": {},
   "outputs": [
    {
     "name": "stdout",
     "output_type": "stream",
     "text": [
      "+-----+-------+-------+-----+-------+-------+-------+-----+------------------+--------+\n",
      "| LatD| \"LatM\"| \"LatS\"| \"NS\"| \"LonD\"| \"LonM\"| \"LonS\"| \"EW\"|            \"City\"| \"State\"|\n",
      "+-----+-------+-------+-----+-------+-------+-------+-----+------------------+--------+\n",
      "|   41|      5|     59|  \"N\"|     80|     39|      0|  \"W\"|      \"Youngstown\"|      OH|\n",
      "|   42|     52|     48|  \"N\"|     97|     23|     23|  \"W\"|         \"Yankton\"|      SD|\n",
      "|   46|     35|     59|  \"N\"|    120|     30|     36|  \"W\"|          \"Yakima\"|      WA|\n",
      "|   42|     16|     12|  \"N\"|     71|     48|      0|  \"W\"|       \"Worcester\"|      MA|\n",
      "|   43|     37|     48|  \"N\"|     89|     46|     11|  \"W\"| \"Wisconsin Dells\"|      WI|\n",
      "|   36|      5|     59|  \"N\"|     80|     15|      0|  \"W\"|   \"Winston-Salem\"|      NC|\n",
      "|   49|     52|     48|  \"N\"|     97|      9|      0|  \"W\"|        \"Winnipeg\"|      MB|\n",
      "|   39|     11|     23|  \"N\"|     78|      9|     36|  \"W\"|      \"Winchester\"|      VA|\n",
      "|   34|     14|     24|  \"N\"|     77|     55|     11|  \"W\"|      \"Wilmington\"|      NC|\n",
      "|   39|     45|      0|  \"N\"|     75|     33|      0|  \"W\"|      \"Wilmington\"|      DE|\n",
      "|   48|      9|      0|  \"N\"|    103|     37|     12|  \"W\"|       \"Williston\"|      ND|\n",
      "|   41|     15|      0|  \"N\"|     77|      0|      0|  \"W\"|    \"Williamsport\"|      PA|\n",
      "|   37|     40|     48|  \"N\"|     82|     16|     47|  \"W\"|      \"Williamson\"|      WV|\n",
      "|   33|     54|      0|  \"N\"|     98|     29|     23|  \"W\"|   \"Wichita Falls\"|      TX|\n",
      "|   37|     41|     23|  \"N\"|     97|     20|     23|  \"W\"|         \"Wichita\"|      KS|\n",
      "|   40|      4|     11|  \"N\"|     80|     43|     12|  \"W\"|        \"Wheeling\"|      WV|\n",
      "|   26|     43|     11|  \"N\"|     80|      3|      0|  \"W\"| \"West Palm Beach\"|      FL|\n",
      "|   47|     25|     11|  \"N\"|    120|     19|     11|  \"W\"|       \"Wenatchee\"|      WA|\n",
      "|   41|     25|     11|  \"N\"|    122|     23|     23|  \"W\"|            \"Weed\"|      CA|\n",
      "|   31|     13|     11|  \"N\"|     82|     20|     59|  \"W\"|        \"Waycross\"|      GA|\n",
      "+-----+-------+-------+-----+-------+-------+-------+-----+------------------+--------+\n",
      "only showing top 20 rows\n",
      "\n"
     ]
    }
   ],
   "source": [
    "citiesDF.show()"
   ]
  },
  {
   "cell_type": "code",
   "execution_count": 25,
   "id": "bff667da-2189-4027-805d-f7f90fb6dcdb",
   "metadata": {},
   "outputs": [
    {
     "data": {
      "text/plain": [
       "['LatD',\n",
       " ' \"LatM\"',\n",
       " ' \"LatS\"',\n",
       " ' \"NS\"',\n",
       " ' \"LonD\"',\n",
       " ' \"LonM\"',\n",
       " ' \"LonS\"',\n",
       " ' \"EW\"',\n",
       " ' \"City\"',\n",
       " ' \"State\"']"
      ]
     },
     "execution_count": 25,
     "metadata": {},
     "output_type": "execute_result"
    }
   ],
   "source": [
    "citiesDF.columns"
   ]
  },
  {
   "cell_type": "code",
   "execution_count": 26,
   "id": "c748fc55-9317-43be-85e4-a311f9f24756",
   "metadata": {},
   "outputs": [
    {
     "data": {
      "text/plain": [
       "[[Row(LatD='   41', LatM='    5',  \"LatS\"='   59',  \"NS\"=' \"N\"',  \"LonD\"='     80', LonM='   39',  \"LonS\"='    0',  \"EW\"=' \"W\"',  \"City\"=' \"Youngstown\"', State=' OH'),\n",
       "  Row(LatD='   42', LatM='   52',  \"LatS\"='   48',  \"NS\"=' \"N\"',  \"LonD\"='     97', LonM='   23',  \"LonS\"='   23',  \"EW\"=' \"W\"',  \"City\"=' \"Yankton\"', State=' SD'),\n",
       "  Row(LatD='   46', LatM='   35',  \"LatS\"='   59',  \"NS\"=' \"N\"',  \"LonD\"='    120', LonM='   30',  \"LonS\"='   36',  \"EW\"=' \"W\"',  \"City\"=' \"Yakima\"', State=' WA'),\n",
       "  Row(LatD='   42', LatM='   16',  \"LatS\"='   12',  \"NS\"=' \"N\"',  \"LonD\"='     71', LonM='   48',  \"LonS\"='    0',  \"EW\"=' \"W\"',  \"City\"=' \"Worcester\"', State=' MA'),\n",
       "  Row(LatD='   43', LatM='   37',  \"LatS\"='   48',  \"NS\"=' \"N\"',  \"LonD\"='     89', LonM='   46',  \"LonS\"='   11',  \"EW\"=' \"W\"',  \"City\"=' \"Wisconsin Dells\"', State=' WI'),\n",
       "  Row(LatD='   36', LatM='    5',  \"LatS\"='   59',  \"NS\"=' \"N\"',  \"LonD\"='     80', LonM='   15',  \"LonS\"='    0',  \"EW\"=' \"W\"',  \"City\"=' \"Winston-Salem\"', State=' NC'),\n",
       "  Row(LatD='   49', LatM='   52',  \"LatS\"='   48',  \"NS\"=' \"N\"',  \"LonD\"='     97', LonM='    9',  \"LonS\"='    0',  \"EW\"=' \"W\"',  \"City\"=' \"Winnipeg\"', State=' MB'),\n",
       "  Row(LatD='   39', LatM='   11',  \"LatS\"='   23',  \"NS\"=' \"N\"',  \"LonD\"='     78', LonM='    9',  \"LonS\"='   36',  \"EW\"=' \"W\"',  \"City\"=' \"Winchester\"', State=' VA'),\n",
       "  Row(LatD='   34', LatM='   14',  \"LatS\"='   24',  \"NS\"=' \"N\"',  \"LonD\"='     77', LonM='   55',  \"LonS\"='   11',  \"EW\"=' \"W\"',  \"City\"=' \"Wilmington\"', State=' NC'),\n",
       "  Row(LatD='   39', LatM='   45',  \"LatS\"='    0',  \"NS\"=' \"N\"',  \"LonD\"='     75', LonM='   33',  \"LonS\"='    0',  \"EW\"=' \"W\"',  \"City\"=' \"Wilmington\"', State=' DE'),\n",
       "  Row(LatD='   48', LatM='    9',  \"LatS\"='    0',  \"NS\"=' \"N\"',  \"LonD\"='    103', LonM='   37',  \"LonS\"='   12',  \"EW\"=' \"W\"',  \"City\"=' \"Williston\"', State=' ND'),\n",
       "  Row(LatD='   41', LatM='   15',  \"LatS\"='    0',  \"NS\"=' \"N\"',  \"LonD\"='     77', LonM='    0',  \"LonS\"='    0',  \"EW\"=' \"W\"',  \"City\"=' \"Williamsport\"', State=' PA'),\n",
       "  Row(LatD='   37', LatM='   40',  \"LatS\"='   48',  \"NS\"=' \"N\"',  \"LonD\"='     82', LonM='   16',  \"LonS\"='   47',  \"EW\"=' \"W\"',  \"City\"=' \"Williamson\"', State=' WV'),\n",
       "  Row(LatD='   33', LatM='   54',  \"LatS\"='    0',  \"NS\"=' \"N\"',  \"LonD\"='     98', LonM='   29',  \"LonS\"='   23',  \"EW\"=' \"W\"',  \"City\"=' \"Wichita Falls\"', State=' TX'),\n",
       "  Row(LatD='   37', LatM='   41',  \"LatS\"='   23',  \"NS\"=' \"N\"',  \"LonD\"='     97', LonM='   20',  \"LonS\"='   23',  \"EW\"=' \"W\"',  \"City\"=' \"Wichita\"', State=' KS'),\n",
       "  Row(LatD='   40', LatM='    4',  \"LatS\"='   11',  \"NS\"=' \"N\"',  \"LonD\"='     80', LonM='   43',  \"LonS\"='   12',  \"EW\"=' \"W\"',  \"City\"=' \"Wheeling\"', State=' WV'),\n",
       "  Row(LatD='   26', LatM='   43',  \"LatS\"='   11',  \"NS\"=' \"N\"',  \"LonD\"='     80', LonM='    3',  \"LonS\"='    0',  \"EW\"=' \"W\"',  \"City\"=' \"West Palm Beach\"', State=' FL'),\n",
       "  Row(LatD='   47', LatM='   25',  \"LatS\"='   11',  \"NS\"=' \"N\"',  \"LonD\"='    120', LonM='   19',  \"LonS\"='   11',  \"EW\"=' \"W\"',  \"City\"=' \"Wenatchee\"', State=' WA'),\n",
       "  Row(LatD='   41', LatM='   25',  \"LatS\"='   11',  \"NS\"=' \"N\"',  \"LonD\"='    122', LonM='   23',  \"LonS\"='   23',  \"EW\"=' \"W\"',  \"City\"=' \"Weed\"', State=' CA'),\n",
       "  Row(LatD='   31', LatM='   13',  \"LatS\"='   11',  \"NS\"=' \"N\"',  \"LonD\"='     82', LonM='   20',  \"LonS\"='   59',  \"EW\"=' \"W\"',  \"City\"=' \"Waycross\"', State=' GA'),\n",
       "  Row(LatD='   44', LatM='   57',  \"LatS\"='   35',  \"NS\"=' \"N\"',  \"LonD\"='     89', LonM='   38',  \"LonS\"='   23',  \"EW\"=' \"W\"',  \"City\"=' \"Wausau\"', State=' WI'),\n",
       "  Row(LatD='   42', LatM='   21',  \"LatS\"='   36',  \"NS\"=' \"N\"',  \"LonD\"='     87', LonM='   49',  \"LonS\"='   48',  \"EW\"=' \"W\"',  \"City\"=' \"Waukegan\"', State=' IL'),\n",
       "  Row(LatD='   44', LatM='   54',  \"LatS\"='    0',  \"NS\"=' \"N\"',  \"LonD\"='     97', LonM='    6',  \"LonS\"='   36',  \"EW\"=' \"W\"',  \"City\"=' \"Watertown\"', State=' SD'),\n",
       "  Row(LatD='   43', LatM='   58',  \"LatS\"='   47',  \"NS\"=' \"N\"',  \"LonD\"='     75', LonM='   55',  \"LonS\"='   11',  \"EW\"=' \"W\"',  \"City\"=' \"Watertown\"', State=' NY'),\n",
       "  Row(LatD='   42', LatM='   30',  \"LatS\"='    0',  \"NS\"=' \"N\"',  \"LonD\"='     92', LonM='   20',  \"LonS\"='   23',  \"EW\"=' \"W\"',  \"City\"=' \"Waterloo\"', State=' IA'),\n",
       "  Row(LatD='   41', LatM='   32',  \"LatS\"='   59',  \"NS\"=' \"N\"',  \"LonD\"='     73', LonM='    3',  \"LonS\"='    0',  \"EW\"=' \"W\"',  \"City\"=' \"Waterbury\"', State=' CT'),\n",
       "  Row(LatD='   38', LatM='   53',  \"LatS\"='   23',  \"NS\"=' \"N\"',  \"LonD\"='     77', LonM='    1',  \"LonS\"='   47',  \"EW\"=' \"W\"',  \"City\"=' \"Washington\"', State=' DC'),\n",
       "  Row(LatD='   41', LatM='   50',  \"LatS\"='   59',  \"NS\"=' \"N\"',  \"LonD\"='     79', LonM='    8',  \"LonS\"='   23',  \"EW\"=' \"W\"',  \"City\"=' \"Warren\"', State=' PA'),\n",
       "  Row(LatD='   46', LatM='    4',  \"LatS\"='   11',  \"NS\"=' \"N\"',  \"LonD\"='    118', LonM='   19',  \"LonS\"='   48',  \"EW\"=' \"W\"',  \"City\"=' \"Walla Walla\"', State=' WA'),\n",
       "  Row(LatD='   31', LatM='   32',  \"LatS\"='   59',  \"NS\"=' \"N\"',  \"LonD\"='     97', LonM='    8',  \"LonS\"='   23',  \"EW\"=' \"W\"',  \"City\"=' \"Waco\"', State=' TX'),\n",
       "  Row(LatD='   38', LatM='   40',  \"LatS\"='   48',  \"NS\"=' \"N\"',  \"LonD\"='     87', LonM='   31',  \"LonS\"='   47',  \"EW\"=' \"W\"',  \"City\"=' \"Vincennes\"', State=' IN'),\n",
       "  Row(LatD='   28', LatM='   48',  \"LatS\"='   35',  \"NS\"=' \"N\"',  \"LonD\"='     97', LonM='    0',  \"LonS\"='   36',  \"EW\"=' \"W\"',  \"City\"=' \"Victoria\"', State=' TX'),\n",
       "  Row(LatD='   32', LatM='   20',  \"LatS\"='   59',  \"NS\"=' \"N\"',  \"LonD\"='     90', LonM='   52',  \"LonS\"='   47',  \"EW\"=' \"W\"',  \"City\"=' \"Vicksburg\"', State=' MS'),\n",
       "  Row(LatD='   49', LatM='   16',  \"LatS\"='   12',  \"NS\"=' \"N\"',  \"LonD\"='    123', LonM='    7',  \"LonS\"='   12',  \"EW\"=' \"W\"',  \"City\"=' \"Vancouver\"', State=' BC'),\n",
       "  Row(LatD='   46', LatM='   55',  \"LatS\"='   11',  \"NS\"=' \"N\"',  \"LonD\"='     98', LonM='    0',  \"LonS\"='   36',  \"EW\"=' \"W\"',  \"City\"=' \"Valley City\"', State=' ND'),\n",
       "  Row(LatD='   30', LatM='   49',  \"LatS\"='   47',  \"NS\"=' \"N\"',  \"LonD\"='     83', LonM='   16',  \"LonS\"='   47',  \"EW\"=' \"W\"',  \"City\"=' \"Valdosta\"', State=' GA'),\n",
       "  Row(LatD='   43', LatM='    6',  \"LatS\"='   36',  \"NS\"=' \"N\"',  \"LonD\"='     75', LonM='   13',  \"LonS\"='   48',  \"EW\"=' \"W\"',  \"City\"=' \"Utica\"', State=' NY'),\n",
       "  Row(LatD='   39', LatM='   54',  \"LatS\"='    0',  \"NS\"=' \"N\"',  \"LonD\"='     79', LonM='   43',  \"LonS\"='   48',  \"EW\"=' \"W\"',  \"City\"=' \"Uniontown\"', State=' PA'),\n",
       "  Row(LatD='   32', LatM='   20',  \"LatS\"='   59',  \"NS\"=' \"N\"',  \"LonD\"='     95', LonM='   18',  \"LonS\"='    0',  \"EW\"=' \"W\"',  \"City\"=' \"Tyler\"', State=' TX'),\n",
       "  Row(LatD='   42', LatM='   33',  \"LatS\"='   36',  \"NS\"=' \"N\"',  \"LonD\"='    114', LonM='   28',  \"LonS\"='   12',  \"EW\"=' \"W\"',  \"City\"=' \"Twin Falls\"', State=' ID'),\n",
       "  Row(LatD='   33', LatM='   12',  \"LatS\"='   35',  \"NS\"=' \"N\"',  \"LonD\"='     87', LonM='   34',  \"LonS\"='   11',  \"EW\"=' \"W\"',  \"City\"=' \"Tuscaloosa\"', State=' AL'),\n",
       "  Row(LatD='   34', LatM='   15',  \"LatS\"='   35',  \"NS\"=' \"N\"',  \"LonD\"='     88', LonM='   42',  \"LonS\"='   35',  \"EW\"=' \"W\"',  \"City\"=' \"Tupelo\"', State=' MS'),\n",
       "  Row(LatD='   36', LatM='    9',  \"LatS\"='   35',  \"NS\"=' \"N\"',  \"LonD\"='     95', LonM='   54',  \"LonS\"='   36',  \"EW\"=' \"W\"',  \"City\"=' \"Tulsa\"', State=' OK'),\n",
       "  Row(LatD='   32', LatM='   13',  \"LatS\"='   12',  \"NS\"=' \"N\"',  \"LonD\"='    110', LonM='   58',  \"LonS\"='   12',  \"EW\"=' \"W\"',  \"City\"=' \"Tucson\"', State=' AZ'),\n",
       "  Row(LatD='   37', LatM='   10',  \"LatS\"='   11',  \"NS\"=' \"N\"',  \"LonD\"='    104', LonM='   30',  \"LonS\"='   36',  \"EW\"=' \"W\"',  \"City\"=' \"Trinidad\"', State=' CO'),\n",
       "  Row(LatD='   40', LatM='   13',  \"LatS\"='   47',  \"NS\"=' \"N\"',  \"LonD\"='     74', LonM='   46',  \"LonS\"='   11',  \"EW\"=' \"W\"',  \"City\"=' \"Trenton\"', State=' NJ'),\n",
       "  Row(LatD='   44', LatM='   45',  \"LatS\"='   35',  \"NS\"=' \"N\"',  \"LonD\"='     85', LonM='   37',  \"LonS\"='   47',  \"EW\"=' \"W\"',  \"City\"=' \"Traverse City\"', State=' MI'),\n",
       "  Row(LatD='   43', LatM='   39',  \"LatS\"='    0',  \"NS\"=' \"N\"',  \"LonD\"='     79', LonM='   22',  \"LonS\"='   47',  \"EW\"=' \"W\"',  \"City\"=' \"Toronto\"', State=' ON'),\n",
       "  Row(LatD='   39', LatM='    2',  \"LatS\"='   59',  \"NS\"=' \"N\"',  \"LonD\"='     95', LonM='   40',  \"LonS\"='   11',  \"EW\"=' \"W\"',  \"City\"=' \"Topeka\"', State=' KS'),\n",
       "  Row(LatD='   41', LatM='   39',  \"LatS\"='    0',  \"NS\"=' \"N\"',  \"LonD\"='     83', LonM='   32',  \"LonS\"='   24',  \"EW\"=' \"W\"',  \"City\"=' \"Toledo\"', State=' OH'),\n",
       "  Row(LatD='   33', LatM='   25',  \"LatS\"='   48',  \"NS\"=' \"N\"',  \"LonD\"='     94', LonM='    3',  \"LonS\"='    0',  \"EW\"=' \"W\"',  \"City\"=' \"Texarkana\"', State=' TX'),\n",
       "  Row(LatD='   39', LatM='   28',  \"LatS\"='   12',  \"NS\"=' \"N\"',  \"LonD\"='     87', LonM='   24',  \"LonS\"='   36',  \"EW\"=' \"W\"',  \"City\"=' \"Terre Haute\"', State=' IN'),\n",
       "  Row(LatD='   27', LatM='   57',  \"LatS\"='    0',  \"NS\"=' \"N\"',  \"LonD\"='     82', LonM='   26',  \"LonS\"='   59',  \"EW\"=' \"W\"',  \"City\"=' \"Tampa\"', State=' FL'),\n",
       "  Row(LatD='   30', LatM='   27',  \"LatS\"='    0',  \"NS\"=' \"N\"',  \"LonD\"='     84', LonM='   16',  \"LonS\"='   47',  \"EW\"=' \"W\"',  \"City\"=' \"Tallahassee\"', State=' FL'),\n",
       "  Row(LatD='   47', LatM='   14',  \"LatS\"='   24',  \"NS\"=' \"N\"',  \"LonD\"='    122', LonM='   25',  \"LonS\"='   48',  \"EW\"=' \"W\"',  \"City\"=' \"Tacoma\"', State=' WA'),\n",
       "  Row(LatD='   43', LatM='    2',  \"LatS\"='   59',  \"NS\"=' \"N\"',  \"LonD\"='     76', LonM='    9',  \"LonS\"='    0',  \"EW\"=' \"W\"',  \"City\"=' \"Syracuse\"', State=' NY'),\n",
       "  Row(LatD='   32', LatM='   35',  \"LatS\"='   59',  \"NS\"=' \"N\"',  \"LonD\"='     82', LonM='   20',  \"LonS\"='   23',  \"EW\"=' \"W\"',  \"City\"=' \"Swainsboro\"', State=' GA'),\n",
       "  Row(LatD='   33', LatM='   55',  \"LatS\"='   11',  \"NS\"=' \"N\"',  \"LonD\"='     80', LonM='   20',  \"LonS\"='   59',  \"EW\"=' \"W\"',  \"City\"=' \"Sumter\"', State=' SC'),\n",
       "  Row(LatD='   40', LatM='   59',  \"LatS\"='   24',  \"NS\"=' \"N\"',  \"LonD\"='     75', LonM='   11',  \"LonS\"='   24',  \"EW\"=' \"W\"',  \"City\"=' \"Stroudsburg\"', State=' PA'),\n",
       "  Row(LatD='   37', LatM='   57',  \"LatS\"='   35',  \"NS\"=' \"N\"',  \"LonD\"='    121', LonM='   17',  \"LonS\"='   24',  \"EW\"=' \"W\"',  \"City\"=' \"Stockton\"', State=' CA'),\n",
       "  Row(LatD='   44', LatM='   31',  \"LatS\"='   12',  \"NS\"=' \"N\"',  \"LonD\"='     89', LonM='   34',  \"LonS\"='   11',  \"EW\"=' \"W\"',  \"City\"=' \"Stevens Point\"', State=' WI'),\n",
       "  Row(LatD='   40', LatM='   21',  \"LatS\"='   36',  \"NS\"=' \"N\"',  \"LonD\"='     80', LonM='   37',  \"LonS\"='   12',  \"EW\"=' \"W\"',  \"City\"=' \"Steubenville\"', State=' OH'),\n",
       "  Row(LatD='   40', LatM='   37',  \"LatS\"='   11',  \"NS\"=' \"N\"',  \"LonD\"='    103', LonM='   13',  \"LonS\"='   12',  \"EW\"=' \"W\"',  \"City\"=' \"Sterling\"', State=' CO'),\n",
       "  Row(LatD='   38', LatM='    9',  \"LatS\"='    0',  \"NS\"=' \"N\"',  \"LonD\"='     79', LonM='    4',  \"LonS\"='   11',  \"EW\"=' \"W\"',  \"City\"=' \"Staunton\"', State=' VA'),\n",
       "  Row(LatD='   39', LatM='   55',  \"LatS\"='   11',  \"NS\"=' \"N\"',  \"LonD\"='     83', LonM='   48',  \"LonS\"='   35',  \"EW\"=' \"W\"',  \"City\"=' \"Springfield\"', State=' OH'),\n",
       "  Row(LatD='   37', LatM='   13',  \"LatS\"='   12',  \"NS\"=' \"N\"',  \"LonD\"='     93', LonM='   17',  \"LonS\"='   24',  \"EW\"=' \"W\"',  \"City\"=' \"Springfield\"', State=' MO'),\n",
       "  Row(LatD='   42', LatM='    5',  \"LatS\"='   59',  \"NS\"=' \"N\"',  \"LonD\"='     72', LonM='   35',  \"LonS\"='   23',  \"EW\"=' \"W\"',  \"City\"=' \"Springfield\"', State=' MA'),\n",
       "  Row(LatD='   39', LatM='   47',  \"LatS\"='   59',  \"NS\"=' \"N\"',  \"LonD\"='     89', LonM='   39',  \"LonS\"='    0',  \"EW\"=' \"W\"',  \"City\"=' \"Springfield\"', State=' IL'),\n",
       "  Row(LatD='   47', LatM='   40',  \"LatS\"='   11',  \"NS\"=' \"N\"',  \"LonD\"='    117', LonM='   24',  \"LonS\"='   36',  \"EW\"=' \"W\"',  \"City\"=' \"Spokane\"', State=' WA'),\n",
       "  Row(LatD='   41', LatM='   40',  \"LatS\"='   48',  \"NS\"=' \"N\"',  \"LonD\"='     86', LonM='   15',  \"LonS\"='    0',  \"EW\"=' \"W\"',  \"City\"=' \"South Bend\"', State=' IN'),\n",
       "  Row(LatD='   43', LatM='   32',  \"LatS\"='   24',  \"NS\"=' \"N\"',  \"LonD\"='     96', LonM='   43',  \"LonS\"='   48',  \"EW\"=' \"W\"',  \"City\"=' \"Sioux Falls\"', State=' SD'),\n",
       "  Row(LatD='   42', LatM='   29',  \"LatS\"='   24',  \"NS\"=' \"N\"',  \"LonD\"='     96', LonM='   23',  \"LonS\"='   23',  \"EW\"=' \"W\"',  \"City\"=' \"Sioux City\"', State=' IA'),\n",
       "  Row(LatD='   32', LatM='   30',  \"LatS\"='   35',  \"NS\"=' \"N\"',  \"LonD\"='     93', LonM='   45',  \"LonS\"='    0',  \"EW\"=' \"W\"',  \"City\"=' \"Shreveport\"', State=' LA'),\n",
       "  Row(LatD='   33', LatM='   38',  \"LatS\"='   23',  \"NS\"=' \"N\"',  \"LonD\"='     96', LonM='   36',  \"LonS\"='   36',  \"EW\"=' \"W\"',  \"City\"=' \"Sherman\"', State=' TX'),\n",
       "  Row(LatD='   44', LatM='   47',  \"LatS\"='   59',  \"NS\"=' \"N\"',  \"LonD\"='    106', LonM='   57',  \"LonS\"='   35',  \"EW\"=' \"W\"',  \"City\"=' \"Sheridan\"', State=' WY'),\n",
       "  Row(LatD='   35', LatM='   13',  \"LatS\"='   47',  \"NS\"=' \"N\"',  \"LonD\"='     96', LonM='   40',  \"LonS\"='   48',  \"EW\"=' \"W\"',  \"City\"=' \"Seminole\"', State=' OK'),\n",
       "  Row(LatD='   32', LatM='   25',  \"LatS\"='   11',  \"NS\"=' \"N\"',  \"LonD\"='     87', LonM='    1',  \"LonS\"='   11',  \"EW\"=' \"W\"',  \"City\"=' \"Selma\"', State=' AL'),\n",
       "  Row(LatD='   38', LatM='   42',  \"LatS\"='   35',  \"NS\"=' \"N\"',  \"LonD\"='     93', LonM='   13',  \"LonS\"='   48',  \"EW\"=' \"W\"',  \"City\"=' \"Sedalia\"', State=' MO'),\n",
       "  Row(LatD='   47', LatM='   35',  \"LatS\"='   59',  \"NS\"=' \"N\"',  \"LonD\"='    122', LonM='   19',  \"LonS\"='   48',  \"EW\"=' \"W\"',  \"City\"=' \"Seattle\"', State=' WA'),\n",
       "  Row(LatD='   41', LatM='   24',  \"LatS\"='   35',  \"NS\"=' \"N\"',  \"LonD\"='     75', LonM='   40',  \"LonS\"='   11',  \"EW\"=' \"W\"',  \"City\"=' \"Scranton\"', State=' PA'),\n",
       "  Row(LatD='   41', LatM='   52',  \"LatS\"='   11',  \"NS\"=' \"N\"',  \"LonD\"='    103', LonM='   39',  \"LonS\"='   36',  \"EW\"=' \"W\"',  \"City\"=' \"Scottsbluff\"', State=' NB'),\n",
       "  Row(LatD='   42', LatM='   49',  \"LatS\"='   11',  \"NS\"=' \"N\"',  \"LonD\"='     73', LonM='   56',  \"LonS\"='   59',  \"EW\"=' \"W\"',  \"City\"=' \"Schenectady\"', State=' NY'),\n",
       "  Row(LatD='   32', LatM='    4',  \"LatS\"='   48',  \"NS\"=' \"N\"',  \"LonD\"='     81', LonM='    5',  \"LonS\"='   23',  \"EW\"=' \"W\"',  \"City\"=' \"Savannah\"', State=' GA'),\n",
       "  Row(LatD='   46', LatM='   29',  \"LatS\"='   24',  \"NS\"=' \"N\"',  \"LonD\"='     84', LonM='   20',  \"LonS\"='   59',  \"EW\"=' \"W\"',  \"City\"=' \"Sault Sainte Marie\"', State=' MI'),\n",
       "  Row(LatD='   27', LatM='   20',  \"LatS\"='   24',  \"NS\"=' \"N\"',  \"LonD\"='     82', LonM='   31',  \"LonS\"='   47',  \"EW\"=' \"W\"',  \"City\"=' \"Sarasota\"', State=' FL'),\n",
       "  Row(LatD='   38', LatM='   26',  \"LatS\"='   23',  \"NS\"=' \"N\"',  \"LonD\"='    122', LonM='   43',  \"LonS\"='   12',  \"EW\"=' \"W\"',  \"City\"=' \"Santa Rosa\"', State=' CA'),\n",
       "  Row(LatD='   35', LatM='   40',  \"LatS\"='   48',  \"NS\"=' \"N\"',  \"LonD\"='    105', LonM='   56',  \"LonS\"='   59',  \"EW\"=' \"W\"',  \"City\"=' \"Santa Fe\"', State=' NM'),\n",
       "  Row(LatD='   34', LatM='   25',  \"LatS\"='   11',  \"NS\"=' \"N\"',  \"LonD\"='    119', LonM='   41',  \"LonS\"='   59',  \"EW\"=' \"W\"',  \"City\"=' \"Santa Barbara\"', State=' CA'),\n",
       "  Row(LatD='   33', LatM='   45',  \"LatS\"='   35',  \"NS\"=' \"N\"',  \"LonD\"='    117', LonM='   52',  \"LonS\"='   12',  \"EW\"=' \"W\"',  \"City\"=' \"Santa Ana\"', State=' CA'),\n",
       "  Row(LatD='   37', LatM='   20',  \"LatS\"='   24',  \"NS\"=' \"N\"',  \"LonD\"='    121', LonM='   52',  \"LonS\"='   47',  \"EW\"=' \"W\"',  \"City\"=' \"San Jose\"', State=' CA'),\n",
       "  Row(LatD='   37', LatM='   46',  \"LatS\"='   47',  \"NS\"=' \"N\"',  \"LonD\"='    122', LonM='   25',  \"LonS\"='   11',  \"EW\"=' \"W\"',  \"City\"=' \"San Francisco\"', State=' CA'),\n",
       "  Row(LatD='   41', LatM='   27',  \"LatS\"='    0',  \"NS\"=' \"N\"',  \"LonD\"='     82', LonM='   42',  \"LonS\"='   35',  \"EW\"=' \"W\"',  \"City\"=' \"Sandusky\"', State=' OH'),\n",
       "  Row(LatD='   32', LatM='   42',  \"LatS\"='   35',  \"NS\"=' \"N\"',  \"LonD\"='    117', LonM='    9',  \"LonS\"='    0',  \"EW\"=' \"W\"',  \"City\"=' \"San Diego\"', State=' CA'),\n",
       "  Row(LatD='   34', LatM='    6',  \"LatS\"='   36',  \"NS\"=' \"N\"',  \"LonD\"='    117', LonM='   18',  \"LonS\"='   35',  \"EW\"=' \"W\"',  \"City\"=' \"San Bernardino\"', State=' CA'),\n",
       "  Row(LatD='   29', LatM='   25',  \"LatS\"='   12',  \"NS\"=' \"N\"',  \"LonD\"='     98', LonM='   30',  \"LonS\"='    0',  \"EW\"=' \"W\"',  \"City\"=' \"San Antonio\"', State=' TX'),\n",
       "  Row(LatD='   31', LatM='   27',  \"LatS\"='   35',  \"NS\"=' \"N\"',  \"LonD\"='    100', LonM='   26',  \"LonS\"='   24',  \"EW\"=' \"W\"',  \"City\"=' \"San Angelo\"', State=' TX'),\n",
       "  Row(LatD='   40', LatM='   45',  \"LatS\"='   35',  \"NS\"=' \"N\"',  \"LonD\"='    111', LonM='   52',  \"LonS\"='   47',  \"EW\"=' \"W\"',  \"City\"=' \"Salt Lake City\"', State=' UT'),\n",
       "  Row(LatD='   38', LatM='   22',  \"LatS\"='   11',  \"NS\"=' \"N\"',  \"LonD\"='     75', LonM='   35',  \"LonS\"='   59',  \"EW\"=' \"W\"',  \"City\"=' \"Salisbury\"', State=' MD'),\n",
       "  Row(LatD='   36', LatM='   40',  \"LatS\"='   11',  \"NS\"=' \"N\"',  \"LonD\"='    121', LonM='   39',  \"LonS\"='    0',  \"EW\"=' \"W\"',  \"City\"=' \"Salinas\"', State=' CA'),\n",
       "  Row(LatD='   38', LatM='   50',  \"LatS\"='   24',  \"NS\"=' \"N\"',  \"LonD\"='     97', LonM='   36',  \"LonS\"='   36',  \"EW\"=' \"W\"',  \"City\"=' \"Salina\"', State=' KS'),\n",
       "  Row(LatD='   38', LatM='   31',  \"LatS\"='   47',  \"NS\"=' \"N\"',  \"LonD\"='    106', LonM='    0',  \"LonS\"='    0',  \"EW\"=' \"W\"',  \"City\"=' \"Salida\"', State=' CO'),\n",
       "  Row(LatD='   44', LatM='   56',  \"LatS\"='   23',  \"NS\"=' \"N\"',  \"LonD\"='    123', LonM='    1',  \"LonS\"='   47',  \"EW\"=' \"W\"',  \"City\"=' \"Salem\"', State=' OR'),\n",
       "  Row(LatD='   44', LatM='   57',  \"LatS\"='    0',  \"NS\"=' \"N\"',  \"LonD\"='     93', LonM='    5',  \"LonS\"='   59',  \"EW\"=' \"W\"',  \"City\"=' \"Saint Paul\"', State=' MN'),\n",
       "  Row(LatD='   38', LatM='   37',  \"LatS\"='   11',  \"NS\"=' \"N\"',  \"LonD\"='     90', LonM='   11',  \"LonS\"='   24',  \"EW\"=' \"W\"',  \"City\"=' \"Saint Louis\"', State=' MO'),\n",
       "  Row(LatD='   39', LatM='   46',  \"LatS\"='   12',  \"NS\"=' \"N\"',  \"LonD\"='     94', LonM='   50',  \"LonS\"='   23',  \"EW\"=' \"W\"',  \"City\"=' \"Saint Joseph\"', State=' MO'),\n",
       "  Row(LatD='   42', LatM='    5',  \"LatS\"='   59',  \"NS\"=' \"N\"',  \"LonD\"='     86', LonM='   28',  \"LonS\"='   48',  \"EW\"=' \"W\"',  \"City\"=' \"Saint Joseph\"', State=' MI'),\n",
       "  Row(LatD='   44', LatM='   25',  \"LatS\"='   11',  \"NS\"=' \"N\"',  \"LonD\"='     72', LonM='    1',  \"LonS\"='   11',  \"EW\"=' \"W\"',  \"City\"=' \"Saint Johnsbury\"', State=' VT'),\n",
       "  Row(LatD='   45', LatM='   34',  \"LatS\"='   11',  \"NS\"=' \"N\"',  \"LonD\"='     94', LonM='   10',  \"LonS\"='   11',  \"EW\"=' \"W\"',  \"City\"=' \"Saint Cloud\"', State=' MN'),\n",
       "  Row(LatD='   29', LatM='   53',  \"LatS\"='   23',  \"NS\"=' \"N\"',  \"LonD\"='     81', LonM='   19',  \"LonS\"='   11',  \"EW\"=' \"W\"',  \"City\"=' \"Saint Augustine\"', State=' FL'),\n",
       "  Row(LatD='   43', LatM='   25',  \"LatS\"='   48',  \"NS\"=' \"N\"',  \"LonD\"='     83', LonM='   56',  \"LonS\"='   24',  \"EW\"=' \"W\"',  \"City\"=' \"Saginaw\"', State=' MI'),\n",
       "  Row(LatD='   38', LatM='   35',  \"LatS\"='   24',  \"NS\"=' \"N\"',  \"LonD\"='    121', LonM='   29',  \"LonS\"='   23',  \"EW\"=' \"W\"',  \"City\"=' \"Sacramento\"', State=' CA'),\n",
       "  Row(LatD='   43', LatM='   36',  \"LatS\"='   36',  \"NS\"=' \"N\"',  \"LonD\"='     72', LonM='   58',  \"LonS\"='   12',  \"EW\"=' \"W\"',  \"City\"=' \"Rutland\"', State=' VT'),\n",
       "  Row(LatD='   33', LatM='   24',  \"LatS\"='    0',  \"NS\"=' \"N\"',  \"LonD\"='    104', LonM='   31',  \"LonS\"='   47',  \"EW\"=' \"W\"',  \"City\"=' \"Roswell\"', State=' NM'),\n",
       "  Row(LatD='   35', LatM='   56',  \"LatS\"='   23',  \"NS\"=' \"N\"',  \"LonD\"='     77', LonM='   48',  \"LonS\"='    0',  \"EW\"=' \"W\"',  \"City\"=' \"Rocky Mount\"', State=' NC'),\n",
       "  Row(LatD='   41', LatM='   35',  \"LatS\"='   24',  \"NS\"=' \"N\"',  \"LonD\"='    109', LonM='   13',  \"LonS\"='   48',  \"EW\"=' \"W\"',  \"City\"=' \"Rock Springs\"', State=' WY'),\n",
       "  Row(LatD='   42', LatM='   16',  \"LatS\"='   12',  \"NS\"=' \"N\"',  \"LonD\"='     89', LonM='    5',  \"LonS\"='   59',  \"EW\"=' \"W\"',  \"City\"=' \"Rockford\"', State=' IL'),\n",
       "  Row(LatD='   43', LatM='    9',  \"LatS\"='   35',  \"NS\"=' \"N\"',  \"LonD\"='     77', LonM='   36',  \"LonS\"='   36',  \"EW\"=' \"W\"',  \"City\"=' \"Rochester\"', State=' NY'),\n",
       "  Row(LatD='   44', LatM='    1',  \"LatS\"='   12',  \"NS\"=' \"N\"',  \"LonD\"='     92', LonM='   27',  \"LonS\"='   35',  \"EW\"=' \"W\"',  \"City\"=' \"Rochester\"', State=' MN'),\n",
       "  Row(LatD='   37', LatM='   16',  \"LatS\"='   12',  \"NS\"=' \"N\"',  \"LonD\"='     79', LonM='   56',  \"LonS\"='   24',  \"EW\"=' \"W\"',  \"City\"=' \"Roanoke\"', State=' VA'),\n",
       "  Row(LatD='   37', LatM='   32',  \"LatS\"='   24',  \"NS\"=' \"N\"',  \"LonD\"='     77', LonM='   26',  \"LonS\"='   59',  \"EW\"=' \"W\"',  \"City\"=' \"Richmond\"', State=' VA'),\n",
       "  Row(LatD='   39', LatM='   49',  \"LatS\"='   48',  \"NS\"=' \"N\"',  \"LonD\"='     84', LonM='   53',  \"LonS\"='   23',  \"EW\"=' \"W\"',  \"City\"=' \"Richmond\"', State=' IN'),\n",
       "  Row(LatD='   38', LatM='   46',  \"LatS\"='   12',  \"NS\"=' \"N\"',  \"LonD\"='    112', LonM='    5',  \"LonS\"='   23',  \"EW\"=' \"W\"',  \"City\"=' \"Richfield\"', State=' UT'),\n",
       "  Row(LatD='   45', LatM='   38',  \"LatS\"='   23',  \"NS\"=' \"N\"',  \"LonD\"='     89', LonM='   25',  \"LonS\"='   11',  \"EW\"=' \"W\"',  \"City\"=' \"Rhinelander\"', State=' WI'),\n",
       "  Row(LatD='   39', LatM='   31',  \"LatS\"='   12',  \"NS\"=' \"N\"',  \"LonD\"='    119', LonM='   48',  \"LonS\"='   35',  \"EW\"=' \"W\"',  \"City\"=' \"Reno\"', State=' NV'),\n",
       "  Row(LatD='   50', LatM='   25',  \"LatS\"='   11',  \"NS\"=' \"N\"',  \"LonD\"='    104', LonM='   39',  \"LonS\"='    0',  \"EW\"=' \"W\"',  \"City\"=' \"Regina\"', State=' SA'),\n",
       "  Row(LatD='   40', LatM='   10',  \"LatS\"='   48',  \"NS\"=' \"N\"',  \"LonD\"='    122', LonM='   14',  \"LonS\"='   23',  \"EW\"=' \"W\"',  \"City\"=' \"Red Bluff\"', State=' CA'),\n",
       "  Row(LatD='   40', LatM='   19',  \"LatS\"='   48',  \"NS\"=' \"N\"',  \"LonD\"='     75', LonM='   55',  \"LonS\"='   48',  \"EW\"=' \"W\"',  \"City\"=' \"Reading\"', State=' PA'),\n",
       "  Row(LatD='   41', LatM='    9',  \"LatS\"='   35',  \"NS\"=' \"N\"',  \"LonD\"='     81', LonM='   14',  \"LonS\"='   23',  \"EW\"=' \"W\"',  \"City\"=' \"Ravenna\"', State=' OH ')]]"
      ]
     },
     "execution_count": 26,
     "metadata": {},
     "output_type": "execute_result"
    }
   ],
   "source": [
    "cleanedCitiesDF = citiesDF \\\n",
    "   .withColumnRenamed(' \"LatM\"', 'LatM') \\\n",
    "   .withColumnRenamed(' \"LonM\"', 'LonM') \\\n",
    "   .withColumnRenamed(' \"State\"', 'State')\n",
    "\n",
    "cleanedCitiesDF.rdd.glom().collect()"
   ]
  },
  {
   "cell_type": "code",
   "execution_count": 27,
   "id": "e01c352e-8bf6-4669-b17a-e5872873e957",
   "metadata": {},
   "outputs": [
    {
     "data": {
      "text/plain": [
       "10"
      ]
     },
     "execution_count": 27,
     "metadata": {},
     "output_type": "execute_result"
    }
   ],
   "source": [
    "partitionedRange = cleanedCitiesDF.repartitionByRange(10, \"State\")\n",
    "partitionedRange.rdd.getNumPartitions()"
   ]
  },
  {
   "cell_type": "code",
   "execution_count": 28,
   "id": "359333cf-fd1a-48d2-8181-582a05590e99",
   "metadata": {},
   "outputs": [
    {
     "name": "stderr",
     "output_type": "stream",
     "text": [
      "                                                                                \r"
     ]
    },
    {
     "data": {
      "text/plain": [
       "[[' CA',\n",
       "  ' BC',\n",
       "  ' AL',\n",
       "  ' AZ',\n",
       "  ' CA',\n",
       "  ' AL',\n",
       "  ' CA',\n",
       "  ' CA',\n",
       "  ' CA',\n",
       "  ' CA',\n",
       "  ' CA',\n",
       "  ' CA',\n",
       "  ' CA',\n",
       "  ' CA',\n",
       "  ' CA',\n",
       "  ' CA'],\n",
       " [' DE', ' FL', ' CT', ' DC', ' CO', ' FL', ' FL', ' CO', ' FL', ' CO', ' FL'],\n",
       " [' GA',\n",
       "  ' IL',\n",
       "  ' IA',\n",
       "  ' IN',\n",
       "  ' GA',\n",
       "  ' ID',\n",
       "  ' IN',\n",
       "  ' GA',\n",
       "  ' IL',\n",
       "  ' IN',\n",
       "  ' IA',\n",
       "  ' GA',\n",
       "  ' IL',\n",
       "  ' IN'],\n",
       " [' MA',\n",
       "  ' MB',\n",
       "  ' KS',\n",
       "  ' MI',\n",
       "  ' KS',\n",
       "  ' MA',\n",
       "  ' LA',\n",
       "  ' MI',\n",
       "  ' MD',\n",
       "  ' KS',\n",
       "  ' MI',\n",
       "  ' MI'],\n",
       " [' NC',\n",
       "  ' NC',\n",
       "  ' MS',\n",
       "  ' MS',\n",
       "  ' MO',\n",
       "  ' MO',\n",
       "  ' NB',\n",
       "  ' MN',\n",
       "  ' MO',\n",
       "  ' MO',\n",
       "  ' MN',\n",
       "  ' NC',\n",
       "  ' MN'],\n",
       " [' ND', ' NY', ' ND', ' NY', ' NJ', ' NY', ' NY', ' NM', ' NM', ' NY', ' NV'],\n",
       " [' OH',\n",
       "  ' PA',\n",
       "  ' PA',\n",
       "  ' PA',\n",
       "  ' OK',\n",
       "  ' ON',\n",
       "  ' OH',\n",
       "  ' PA',\n",
       "  ' OH',\n",
       "  ' OH',\n",
       "  ' OK',\n",
       "  ' PA',\n",
       "  ' OH',\n",
       "  ' OR',\n",
       "  ' PA',\n",
       "  ' OH '],\n",
       " [' SD',\n",
       "  ' TX',\n",
       "  ' SD',\n",
       "  ' TX',\n",
       "  ' TX',\n",
       "  ' TX',\n",
       "  ' TX',\n",
       "  ' SC',\n",
       "  ' SD',\n",
       "  ' TX',\n",
       "  ' TX',\n",
       "  ' TX',\n",
       "  ' SA'],\n",
       " [' WA',\n",
       "  ' VA',\n",
       "  ' WA',\n",
       "  ' WA',\n",
       "  ' WA',\n",
       "  ' VA',\n",
       "  ' WA',\n",
       "  ' WA',\n",
       "  ' UT',\n",
       "  ' VT',\n",
       "  ' VT',\n",
       "  ' VA',\n",
       "  ' VA',\n",
       "  ' UT'],\n",
       " [' WI', ' WV', ' WV', ' WI', ' WI', ' WY', ' WY', ' WI']]"
      ]
     },
     "execution_count": 28,
     "metadata": {},
     "output_type": "execute_result"
    }
   ],
   "source": [
    "\n",
    "partitionedRange.rdd.map(lambda r: r['State']).glom().collect()"
   ]
  },
  {
   "cell_type": "code",
   "execution_count": 20,
   "id": "f21d7a73-e0fd-49e5-a813-4a6f3fbe5957",
   "metadata": {},
   "outputs": [
    {
     "data": {
      "text/plain": [
       "[[' CA',\n",
       "  ' BC',\n",
       "  ' AL',\n",
       "  ' AZ',\n",
       "  ' CA',\n",
       "  ' AL',\n",
       "  ' CA',\n",
       "  ' CA',\n",
       "  ' CA',\n",
       "  ' CA',\n",
       "  ' CA',\n",
       "  ' CA',\n",
       "  ' CA',\n",
       "  ' CA',\n",
       "  ' CA',\n",
       "  ' CA',\n",
       "  ' MA',\n",
       "  ' MB',\n",
       "  ' KS',\n",
       "  ' MI',\n",
       "  ' KS',\n",
       "  ' MA',\n",
       "  ' LA',\n",
       "  ' MI',\n",
       "  ' MD',\n",
       "  ' KS',\n",
       "  ' MI',\n",
       "  ' MI',\n",
       "  ' OH',\n",
       "  ' PA',\n",
       "  ' PA',\n",
       "  ' PA',\n",
       "  ' OK',\n",
       "  ' ON',\n",
       "  ' OH',\n",
       "  ' PA',\n",
       "  ' OH',\n",
       "  ' OH',\n",
       "  ' OK',\n",
       "  ' PA',\n",
       "  ' OH',\n",
       "  ' OR',\n",
       "  ' PA',\n",
       "  ' OH ',\n",
       "  ' WI',\n",
       "  ' WV',\n",
       "  ' WV',\n",
       "  ' WI',\n",
       "  ' WI',\n",
       "  ' WY',\n",
       "  ' WY',\n",
       "  ' WI'],\n",
       " [' DE',\n",
       "  ' FL',\n",
       "  ' CT',\n",
       "  ' DC',\n",
       "  ' CO',\n",
       "  ' FL',\n",
       "  ' FL',\n",
       "  ' CO',\n",
       "  ' FL',\n",
       "  ' CO',\n",
       "  ' FL',\n",
       "  ' NC',\n",
       "  ' NC',\n",
       "  ' MS',\n",
       "  ' MS',\n",
       "  ' MO',\n",
       "  ' MO',\n",
       "  ' NB',\n",
       "  ' MN',\n",
       "  ' MO',\n",
       "  ' MO',\n",
       "  ' MN',\n",
       "  ' NC',\n",
       "  ' MN',\n",
       "  ' SD',\n",
       "  ' TX',\n",
       "  ' SD',\n",
       "  ' TX',\n",
       "  ' TX',\n",
       "  ' TX',\n",
       "  ' TX',\n",
       "  ' SC',\n",
       "  ' SD',\n",
       "  ' TX',\n",
       "  ' TX',\n",
       "  ' TX',\n",
       "  ' SA'],\n",
       " [' GA',\n",
       "  ' IL',\n",
       "  ' IA',\n",
       "  ' IN',\n",
       "  ' GA',\n",
       "  ' ID',\n",
       "  ' IN',\n",
       "  ' GA',\n",
       "  ' IL',\n",
       "  ' IN',\n",
       "  ' IA',\n",
       "  ' GA',\n",
       "  ' IL',\n",
       "  ' IN',\n",
       "  ' ND',\n",
       "  ' NY',\n",
       "  ' ND',\n",
       "  ' NY',\n",
       "  ' NJ',\n",
       "  ' NY',\n",
       "  ' NY',\n",
       "  ' NM',\n",
       "  ' NM',\n",
       "  ' NY',\n",
       "  ' NV',\n",
       "  ' WA',\n",
       "  ' VA',\n",
       "  ' WA',\n",
       "  ' WA',\n",
       "  ' WA',\n",
       "  ' VA',\n",
       "  ' WA',\n",
       "  ' WA',\n",
       "  ' UT',\n",
       "  ' VT',\n",
       "  ' VT',\n",
       "  ' VA',\n",
       "  ' VA',\n",
       "  ' UT']]"
      ]
     },
     "execution_count": 20,
     "metadata": {},
     "output_type": "execute_result"
    }
   ],
   "source": [
    "partitionedRange.coalesce(3).rdd.map(lambda r: r['State']).glom().collect()"
   ]
  },
  {
   "cell_type": "code",
   "execution_count": 29,
   "id": "f5662514-453f-4f96-9cb8-acec886a81bd",
   "metadata": {},
   "outputs": [],
   "source": [
    "spark_sess.stop()"
   ]
  }
 ],
 "metadata": {
  "kernelspec": {
   "display_name": "Python 3 (ipykernel)",
   "language": "python",
   "name": "python3"
  },
  "language_info": {
   "codemirror_mode": {
    "name": "ipython",
    "version": 3
   },
   "file_extension": ".py",
   "mimetype": "text/x-python",
   "name": "python",
   "nbconvert_exporter": "python",
   "pygments_lexer": "ipython3",
   "version": "3.8.14"
  }
 },
 "nbformat": 4,
 "nbformat_minor": 5
}
