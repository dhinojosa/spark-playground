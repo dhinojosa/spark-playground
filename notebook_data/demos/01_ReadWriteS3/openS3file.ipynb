{
 "cells": [
  {
   "cell_type": "code",
   "execution_count": 17,
   "id": "65017f32-be8d-4194-95fc-e5d2534ba8f1",
   "metadata": {},
   "outputs": [
    {
     "name": "stdout",
     "output_type": "stream",
     "text": [
      "22/09/28 23:53:19 WARN SparkSession: Using an existing Spark session; only runtime SQL configurations will take effect.\n",
      "+-----+-------+-------+-----+-------+-------+-------+-----+------------------+--------+\n",
      "|LatD | \"LatM\"| \"LatS\"| \"NS\"| \"LonD\"| \"LonM\"| \"LonS\"| \"EW\"| \"City\"           | \"State\"|\n",
      "+-----+-------+-------+-----+-------+-------+-------+-----+------------------+--------+\n",
      "|   41|    5  |   59  | \"N\" |     80|   39  |    0  | \"W\" | \"Youngstown\"     | OH     |\n",
      "|   42|   52  |   48  | \"N\" |     97|   23  |   23  | \"W\" | \"Yankton\"        | SD     |\n",
      "|   46|   35  |   59  | \"N\" |    120|   30  |   36  | \"W\" | \"Yakima\"         | WA     |\n",
      "|   42|   16  |   12  | \"N\" |     71|   48  |    0  | \"W\" | \"Worcester\"      | MA     |\n",
      "|   43|   37  |   48  | \"N\" |     89|   46  |   11  | \"W\" | \"Wisconsin Dells\"| WI     |\n",
      "|   36|    5  |   59  | \"N\" |     80|   15  |    0  | \"W\" | \"Winston-Salem\"  | NC     |\n",
      "|   49|   52  |   48  | \"N\" |     97|    9  |    0  | \"W\" | \"Winnipeg\"       | MB     |\n",
      "|   39|   11  |   23  | \"N\" |     78|    9  |   36  | \"W\" | \"Winchester\"     | VA     |\n",
      "|   34|   14  |   24  | \"N\" |     77|   55  |   11  | \"W\" | \"Wilmington\"     | NC     |\n",
      "|   39|   45  |    0  | \"N\" |     75|   33  |    0  | \"W\" | \"Wilmington\"     | DE     |\n",
      "|   48|    9  |    0  | \"N\" |    103|   37  |   12  | \"W\" | \"Williston\"      | ND     |\n",
      "|   41|   15  |    0  | \"N\" |     77|    0  |    0  | \"W\" | \"Williamsport\"   | PA     |\n",
      "|   37|   40  |   48  | \"N\" |     82|   16  |   47  | \"W\" | \"Williamson\"     | WV     |\n",
      "|   33|   54  |    0  | \"N\" |     98|   29  |   23  | \"W\" | \"Wichita Falls\"  | TX     |\n",
      "|   37|   41  |   23  | \"N\" |     97|   20  |   23  | \"W\" | \"Wichita\"        | KS     |\n",
      "|   40|    4  |   11  | \"N\" |     80|   43  |   12  | \"W\" | \"Wheeling\"       | WV     |\n",
      "|   26|   43  |   11  | \"N\" |     80|    3  |    0  | \"W\" | \"West Palm Beach\"| FL     |\n",
      "|   47|   25  |   11  | \"N\" |    120|   19  |   11  | \"W\" | \"Wenatchee\"      | WA     |\n",
      "|   41|   25  |   11  | \"N\" |    122|   23  |   23  | \"W\" | \"Weed\"           | CA     |\n",
      "|   31|   13  |   11  | \"N\" |     82|   20  |   59  | \"W\" | \"Waycross\"       | GA     |\n",
      "+-----+-------+-------+-----+-------+-------+-------+-----+------------------+--------+\n",
      "only showing top 20 rows\n",
      "\n"
     ]
    }
   ],
   "source": [
    "import sys, os\n",
    "from pyspark.conf import SparkConf\n",
    "from pyspark.sql import SparkSession, Catalog\n",
    "from pyspark.sql import DataFrame, DataFrameStatFunctions, DataFrameNaFunctions\n",
    "from pyspark.sql import functions as F\n",
    "from pyspark.sql import types as T\n",
    "from pyspark.sql.types import Row\n",
    "from subprocess import check_output\n",
    "\n",
    "SPARK_DRIVER_HOST = check_output([\"hostname\", \"-i\"]).decode(encoding=\"utf-8\").strip()\n",
    "spark_conf = SparkConf()\n",
    "spark_conf.setAll([\n",
    "    ('spark.master', 'spark://spark:7077'),\n",
    "    ('spark.app.name', 'myApp'),\n",
    "    ('spark.submit.deployMode', 'client'),\n",
    "    ('spark.ui.showConsoleProgress', 'true'),\n",
    "    ('spark.eventLog.enabled', 'false'),\n",
    "    ('spark.logConf', 'false'),\n",
    "    ('spark.driver.bindAddress', '0.0.0.0'),\n",
    "    ('spark.driver.host', SPARK_DRIVER_HOST),\n",
    "    ('spark.jars.packages', 'org.apache.hadoop:hadoop-aws:3.2.0'),\n",
    "    (\"spark.hadoop.fs.s3a.endpoint\", 'http://minio:9000'),\n",
    "    ('spark.hadoop.fs.s3a.access.key', 'minio-root-user'),\n",
    "    ('spark.hadoop.fs.s3a.secret.key', 'minio-root-password'),\n",
    "    ('spark.hadoop.fs.s3a.bucket.all.committer.magic.enabled', True),\n",
    "    (\"spark.hadoop.fs.s3a.fast.upload\", True),\n",
    "    (\"spark.hadoop.fs.s3a.path.style.access\", True),\n",
    "    (\"spark.hadoop.fs.s3a.impl\", \"org.apache.hadoop.fs.s3a.S3AFileSystem\")\n",
    "])\n",
    " \n",
    "spark_sess          = SparkSession.builder.config(conf=spark_conf).getOrCreate()\n",
    "spark_ctxt          = spark_sess.sparkContext\n",
    "spark_reader        = spark_sess.read\n",
    "spark_streamReader  = spark_sess.readStream\n",
    "spark_ctxt.setLogLevel(\"WARN\")\n",
    "\n",
    "citiesDF = spark_sess.read.option(\"header\",True).csv('s3a://test-001/cities.csv')\n",
    "\n",
    "citiesDF.show(truncate=False)\n"
   ]
  },
  {
   "cell_type": "code",
   "execution_count": 18,
   "id": "81e3f4e9-0235-48ed-8b4e-a948c9416dcb",
   "metadata": {},
   "outputs": [
    {
     "data": {
      "text/plain": [
       "['LatD',\n",
       " ' \"LatM\"',\n",
       " ' \"LatS\"',\n",
       " ' \"NS\"',\n",
       " ' \"LonD\"',\n",
       " ' \"LonM\"',\n",
       " ' \"LonS\"',\n",
       " ' \"EW\"',\n",
       " ' \"City\"',\n",
       " ' \"State\"']"
      ]
     },
     "execution_count": 18,
     "metadata": {},
     "output_type": "execute_result"
    }
   ],
   "source": [
    "citiesDF.columns"
   ]
  },
  {
   "cell_type": "code",
   "execution_count": 19,
   "id": "83e7d1b9-6ae7-479d-8a2a-92f81cb575e6",
   "metadata": {},
   "outputs": [
    {
     "data": {
      "text/plain": [
       "DataFrame[LatM: string, LonM: string]"
      ]
     },
     "execution_count": 19,
     "metadata": {},
     "output_type": "execute_result"
    }
   ],
   "source": [
    "cleanCitiesDF = citiesDF \\\n",
    "   .withColumnRenamed(' \"LatM\"', 'LatM') \\\n",
    "   .withColumnRenamed(' \"LonM\"', 'LonM') \\\n",
    "   .select('LatM', 'LonM')\n",
    "cleanCitiesDF"
   ]
  },
  {
   "cell_type": "code",
   "execution_count": 21,
   "id": "3fefb972-35cd-44b6-8947-64c881342c87",
   "metadata": {},
   "outputs": [
    {
     "name": "stdout",
     "output_type": "stream",
     "text": [
      "22/09/28 23:53:37 WARN AbstractS3ACommitterFactory: Using standard FileOutputCommitter to commit work. This is slow and potentially unsafe.\n"
     ]
    }
   ],
   "source": [
    "cleanCitiesDF.write.format(\"csv\").save(\"s3a://test-001/cleanCities3.csv\")"
   ]
  }
 ],
 "metadata": {
  "kernelspec": {
   "display_name": "Python 3 (ipykernel)",
   "language": "python",
   "name": "python3"
  },
  "language_info": {
   "codemirror_mode": {
    "name": "ipython",
    "version": 3
   },
   "file_extension": ".py",
   "mimetype": "text/x-python",
   "name": "python",
   "nbconvert_exporter": "python",
   "pygments_lexer": "ipython3",
   "version": "3.8.14"
  }
 },
 "nbformat": 4,
 "nbformat_minor": 5
}
