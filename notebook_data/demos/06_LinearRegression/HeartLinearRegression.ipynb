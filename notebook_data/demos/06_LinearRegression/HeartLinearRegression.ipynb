{
 "cells": [
  {
   "cell_type": "code",
   "execution_count": 1,
   "id": "5ef9958e-a246-4fcc-b3c7-0b6a43447a47",
   "metadata": {},
   "outputs": [
    {
     "name": "stdout",
     "output_type": "stream",
     "text": [
      ":: loading settings :: url = jar:file:/opt/bitnami/spark/jars/ivy-2.5.0.jar!/org/apache/ivy/core/settings/ivysettings.xml\n"
     ]
    },
    {
     "name": "stderr",
     "output_type": "stream",
     "text": [
      "Ivy Default Cache set to: /root/.ivy2/cache\n",
      "The jars for the packages stored in: /root/.ivy2/jars\n",
      "org.apache.hadoop#hadoop-aws added as a dependency\n",
      "com.amazonaws#aws-java-sdk-bundle added as a dependency\n",
      "org.apache.spark#spark-hadoop-cloud_2.12 added as a dependency\n",
      ":: resolving dependencies :: org.apache.spark#spark-submit-parent-df295d21-78b4-4379-88c5-47c793dcf9f1;1.0\n",
      "\tconfs: [default]\n",
      "\tfound org.apache.hadoop#hadoop-aws;3.2.0 in central\n",
      "\tfound com.amazonaws#aws-java-sdk-bundle;1.11.704 in central\n",
      "\tfound org.apache.spark#spark-hadoop-cloud_2.12;3.3.0 in central\n",
      "\tfound org.apache.hadoop#hadoop-client-runtime;3.3.2 in central\n",
      "\tfound org.apache.hadoop#hadoop-client-api;3.3.2 in central\n",
      "\tfound org.xerial.snappy#snappy-java;1.1.8.4 in central\n",
      "\tfound org.slf4j#slf4j-api;1.7.32 in central\n",
      "\tfound commons-logging#commons-logging;1.1.3 in central\n",
      "\tfound com.google.code.findbugs#jsr305;3.0.0 in central\n",
      "\tfound org.apache.hadoop#hadoop-aws;3.3.2 in central\n",
      "\tfound com.amazonaws#aws-java-sdk-bundle;1.11.1026 in central\n",
      "\tfound org.wildfly.openssl#wildfly-openssl;1.0.7.Final in central\n",
      "\tfound org.apache.hadoop#hadoop-openstack;3.3.2 in central\n",
      "\tfound org.apache.hadoop#hadoop-annotations;3.3.2 in central\n",
      "\tfound org.apache.httpcomponents#httpcore;4.4.14 in central\n",
      "\tfound com.fasterxml.jackson.core#jackson-annotations;2.13.3 in central\n",
      "\tfound com.fasterxml.jackson.core#jackson-databind;2.13.3 in central\n",
      "\tfound com.fasterxml.jackson.core#jackson-core;2.13.3 in central\n",
      "\tfound joda-time#joda-time;2.10.13 in central\n",
      "\tfound com.fasterxml.jackson.dataformat#jackson-dataformat-cbor;2.13.3 in central\n",
      "\tfound org.apache.httpcomponents#httpclient;4.5.13 in central\n",
      "\tfound commons-codec#commons-codec;1.15 in central\n",
      "\tfound org.apache.hadoop#hadoop-azure;3.3.2 in central\n",
      "\tfound com.microsoft.azure#azure-storage;7.0.1 in central\n",
      "\tfound com.microsoft.azure#azure-keyvault-core;1.0.0 in central\n",
      "\tfound org.apache.hadoop.thirdparty#hadoop-shaded-guava;1.1.1 in central\n",
      "\tfound org.codehaus.jackson#jackson-mapper-asl;1.9.13 in central\n",
      "\tfound org.codehaus.jackson#jackson-core-asl;1.9.13 in central\n",
      "\tfound org.apache.hadoop#hadoop-cloud-storage;3.3.2 in central\n",
      "\tfound org.apache.hadoop#hadoop-aliyun;3.3.2 in central\n",
      "\tfound com.aliyun.oss#aliyun-sdk-oss;3.13.0 in central\n",
      "\tfound org.jdom#jdom2;2.0.6 in central\n",
      "\tfound org.codehaus.jettison#jettison;1.1 in central\n",
      "\tfound stax#stax-api;1.0.1 in central\n",
      "\tfound com.aliyun#aliyun-java-sdk-core;4.5.10 in central\n",
      "\tfound com.google.code.gson#gson;2.8.9 in central\n",
      "\tfound javax.xml.bind#jaxb-api;2.2.11 in central\n",
      "\tfound org.ini4j#ini4j;0.5.4 in central\n",
      "\tfound io.opentracing#opentracing-api;0.33.0 in central\n",
      "\tfound io.opentracing#opentracing-util;0.33.0 in central\n",
      "\tfound io.opentracing#opentracing-noop;0.33.0 in central\n",
      "\tfound com.aliyun#aliyun-java-sdk-ram;3.1.0 in central\n",
      "\tfound com.aliyun#aliyun-java-sdk-kms;2.11.0 in central\n",
      "\tfound org.apache.hadoop#hadoop-azure-datalake;3.3.2 in central\n",
      "\tfound com.microsoft.azure#azure-data-lake-store-sdk;2.3.9 in central\n",
      "\tfound org.apache.hadoop#hadoop-cos;3.3.2 in central\n",
      "\tfound com.qcloud#cos_api-bundle;5.6.19 in central\n",
      "\tfound org.eclipse.jetty#jetty-util-ajax;9.4.46.v20220331 in central\n",
      "\tfound org.eclipse.jetty#jetty-util;9.4.46.v20220331 in central\n",
      "\tfound org.spark-project.spark#unused;1.0.0 in central\n",
      ":: resolution report :: resolve 1157ms :: artifacts dl 32ms\n",
      "\t:: modules in use:\n",
      "\tcom.aliyun#aliyun-java-sdk-core;4.5.10 from central in [default]\n",
      "\tcom.aliyun#aliyun-java-sdk-kms;2.11.0 from central in [default]\n",
      "\tcom.aliyun#aliyun-java-sdk-ram;3.1.0 from central in [default]\n",
      "\tcom.aliyun.oss#aliyun-sdk-oss;3.13.0 from central in [default]\n",
      "\tcom.amazonaws#aws-java-sdk-bundle;1.11.1026 from central in [default]\n",
      "\tcom.fasterxml.jackson.core#jackson-annotations;2.13.3 from central in [default]\n",
      "\tcom.fasterxml.jackson.core#jackson-core;2.13.3 from central in [default]\n",
      "\tcom.fasterxml.jackson.core#jackson-databind;2.13.3 from central in [default]\n",
      "\tcom.fasterxml.jackson.dataformat#jackson-dataformat-cbor;2.13.3 from central in [default]\n",
      "\tcom.google.code.findbugs#jsr305;3.0.0 from central in [default]\n",
      "\tcom.google.code.gson#gson;2.8.9 from central in [default]\n",
      "\tcom.microsoft.azure#azure-data-lake-store-sdk;2.3.9 from central in [default]\n",
      "\tcom.microsoft.azure#azure-keyvault-core;1.0.0 from central in [default]\n",
      "\tcom.microsoft.azure#azure-storage;7.0.1 from central in [default]\n",
      "\tcom.qcloud#cos_api-bundle;5.6.19 from central in [default]\n",
      "\tcommons-codec#commons-codec;1.15 from central in [default]\n",
      "\tcommons-logging#commons-logging;1.1.3 from central in [default]\n",
      "\tio.opentracing#opentracing-api;0.33.0 from central in [default]\n",
      "\tio.opentracing#opentracing-noop;0.33.0 from central in [default]\n",
      "\tio.opentracing#opentracing-util;0.33.0 from central in [default]\n",
      "\tjavax.xml.bind#jaxb-api;2.2.11 from central in [default]\n",
      "\tjoda-time#joda-time;2.10.13 from central in [default]\n",
      "\torg.apache.hadoop#hadoop-aliyun;3.3.2 from central in [default]\n",
      "\torg.apache.hadoop#hadoop-annotations;3.3.2 from central in [default]\n",
      "\torg.apache.hadoop#hadoop-aws;3.3.2 from central in [default]\n",
      "\torg.apache.hadoop#hadoop-azure;3.3.2 from central in [default]\n",
      "\torg.apache.hadoop#hadoop-azure-datalake;3.3.2 from central in [default]\n",
      "\torg.apache.hadoop#hadoop-client-api;3.3.2 from central in [default]\n",
      "\torg.apache.hadoop#hadoop-client-runtime;3.3.2 from central in [default]\n",
      "\torg.apache.hadoop#hadoop-cloud-storage;3.3.2 from central in [default]\n",
      "\torg.apache.hadoop#hadoop-cos;3.3.2 from central in [default]\n",
      "\torg.apache.hadoop#hadoop-openstack;3.3.2 from central in [default]\n",
      "\torg.apache.hadoop.thirdparty#hadoop-shaded-guava;1.1.1 from central in [default]\n",
      "\torg.apache.httpcomponents#httpclient;4.5.13 from central in [default]\n",
      "\torg.apache.httpcomponents#httpcore;4.4.14 from central in [default]\n",
      "\torg.apache.spark#spark-hadoop-cloud_2.12;3.3.0 from central in [default]\n",
      "\torg.codehaus.jackson#jackson-core-asl;1.9.13 from central in [default]\n",
      "\torg.codehaus.jackson#jackson-mapper-asl;1.9.13 from central in [default]\n",
      "\torg.codehaus.jettison#jettison;1.1 from central in [default]\n",
      "\torg.eclipse.jetty#jetty-util;9.4.46.v20220331 from central in [default]\n",
      "\torg.eclipse.jetty#jetty-util-ajax;9.4.46.v20220331 from central in [default]\n",
      "\torg.ini4j#ini4j;0.5.4 from central in [default]\n",
      "\torg.jdom#jdom2;2.0.6 from central in [default]\n",
      "\torg.slf4j#slf4j-api;1.7.32 from central in [default]\n",
      "\torg.spark-project.spark#unused;1.0.0 from central in [default]\n",
      "\torg.wildfly.openssl#wildfly-openssl;1.0.7.Final from central in [default]\n",
      "\torg.xerial.snappy#snappy-java;1.1.8.4 from central in [default]\n",
      "\tstax#stax-api;1.0.1 from central in [default]\n",
      "\t:: evicted modules:\n",
      "\torg.apache.hadoop#hadoop-aws;3.2.0 by [org.apache.hadoop#hadoop-aws;3.3.2] in [default]\n",
      "\tcom.amazonaws#aws-java-sdk-bundle;1.11.375 by [com.amazonaws#aws-java-sdk-bundle;1.11.704] in [default]\n",
      "\tcom.amazonaws#aws-java-sdk-bundle;1.11.704 by [com.amazonaws#aws-java-sdk-bundle;1.11.1026] in [default]\n",
      "\torg.eclipse.jetty#jetty-util-ajax;9.4.43.v20210629 by [org.eclipse.jetty#jetty-util-ajax;9.4.46.v20220331] in [default]\n",
      "\t---------------------------------------------------------------------\n",
      "\t|                  |            modules            ||   artifacts   |\n",
      "\t|       conf       | number| search|dwnlded|evicted|| number|dwnlded|\n",
      "\t---------------------------------------------------------------------\n",
      "\t|      default     |   52  |   0   |   0   |   4   ||   48  |   0   |\n",
      "\t---------------------------------------------------------------------\n",
      ":: retrieving :: org.apache.spark#spark-submit-parent-df295d21-78b4-4379-88c5-47c793dcf9f1\n",
      "\tconfs: [default]\n",
      "\t0 artifacts copied, 48 already retrieved (0kB/17ms)\n"
     ]
    },
    {
     "name": "stdout",
     "output_type": "stream",
     "text": [
      "22/10/04 23:19:00 WARN NativeCodeLoader: Unable to load native-hadoop library for your platform... using builtin-java classes where applicable\n"
     ]
    },
    {
     "name": "stderr",
     "output_type": "stream",
     "text": [
      "Setting default log level to \"WARN\".\n",
      "To adjust logging level use sc.setLogLevel(newLevel). For SparkR, use setLogLevel(newLevel).\n"
     ]
    },
    {
     "name": "stdout",
     "output_type": "stream",
     "text": [
      "22/10/04 23:19:03 WARN MetricsConfig: Cannot locate configuration: tried hadoop-metrics2-s3a-file-system.properties,hadoop-metrics2.properties\n"
     ]
    },
    {
     "name": "stderr",
     "output_type": "stream",
     "text": [
      "                                                                                \r"
     ]
    },
    {
     "name": "stdout",
     "output_type": "stream",
     "text": [
      "+---+---+---+--------+----+---+-------+-------+-----+-------+-----+---+----+------+\n",
      "|age|sex|cp |trestbps|chol|fbs|restecg|thalach|exang|oldpeak|slope|ca |thal|target|\n",
      "+---+---+---+--------+----+---+-------+-------+-----+-------+-----+---+----+------+\n",
      "|63 |1  |3  |145     |233 |1  |0      |150    |0    |2.3    |0    |0  |1   |1     |\n",
      "|37 |1  |2  |130     |250 |0  |1      |187    |0    |3.5    |0    |0  |2   |1     |\n",
      "|41 |0  |1  |130     |204 |0  |0      |172    |0    |1.4    |2    |0  |2   |1     |\n",
      "|56 |1  |1  |120     |236 |0  |1      |178    |0    |0.8    |2    |0  |2   |1     |\n",
      "|57 |0  |0  |120     |354 |0  |1      |163    |1    |0.6    |2    |0  |2   |1     |\n",
      "|57 |1  |0  |140     |192 |0  |1      |148    |0    |0.4    |1    |0  |1   |1     |\n",
      "|56 |0  |1  |140     |294 |0  |0      |153    |0    |1.3    |1    |0  |2   |1     |\n",
      "|44 |1  |1  |120     |263 |0  |1      |173    |0    |0.0    |2    |0  |3   |1     |\n",
      "|52 |1  |2  |172     |199 |1  |1      |162    |0    |0.5    |2    |0  |3   |1     |\n",
      "|57 |1  |2  |150     |168 |0  |1      |174    |0    |1.6    |2    |0  |2   |1     |\n",
      "|54 |1  |0  |140     |239 |0  |1      |160    |0    |1.2    |2    |0  |2   |1     |\n",
      "|48 |0  |2  |130     |275 |0  |1      |139    |0    |0.2    |2    |0  |2   |1     |\n",
      "|49 |1  |1  |130     |266 |0  |1      |171    |0    |0.6    |2    |0  |2   |1     |\n",
      "|64 |1  |3  |110     |211 |0  |0      |144    |1    |1.8    |1    |0  |2   |1     |\n",
      "|58 |0  |3  |150     |283 |1  |0      |162    |0    |1.0    |2    |0  |2   |1     |\n",
      "|50 |0  |2  |120     |219 |0  |1      |158    |0    |1.6    |1    |0  |2   |1     |\n",
      "|58 |0  |2  |120     |340 |0  |1      |172    |0    |0.0    |2    |0  |2   |1     |\n",
      "|66 |0  |3  |150     |226 |0  |1      |114    |0    |2.6    |0    |0  |2   |1     |\n",
      "|43 |1  |0  |150     |247 |0  |1      |171    |0    |1.5    |2    |0  |2   |1     |\n",
      "|69 |0  |3  |140     |239 |0  |1      |151    |0    |1.8    |2    |2  |2   |1     |\n",
      "+---+---+---+--------+----+---+-------+-------+-----+-------+-----+---+----+------+\n",
      "only showing top 20 rows\n",
      "\n"
     ]
    }
   ],
   "source": [
    "import sys, os\n",
    "from pyspark.conf import SparkConf\n",
    "from pyspark.sql import SparkSession, Catalog\n",
    "from pyspark.sql import DataFrame, DataFrameStatFunctions, DataFrameNaFunctions\n",
    "from pyspark.sql import functions as F\n",
    "from pyspark.sql import types as T\n",
    "from pyspark.sql.types import Row\n",
    "from subprocess import check_output\n",
    "\n",
    "SPARK_DRIVER_HOST = check_output([\"hostname\", \"-i\"]).decode(encoding=\"utf-8\").strip()\n",
    "spark_conf = SparkConf()\n",
    "spark_conf.setAll([\n",
    "    ('spark.master', 'spark://spark:7077'),\n",
    "    ('spark.app.name', 'myApp'),\n",
    "    ('spark.submit.deployMode', 'client'),\n",
    "    ('spark.ui.showConsoleProgress', 'true'),\n",
    "    ('spark.eventLog.enabled', 'false'),\n",
    "    ('spark.logConf', 'false'),\n",
    "    ('spark.driver.bindAddress', '0.0.0.0'),\n",
    "    ('spark.driver.host', SPARK_DRIVER_HOST),\n",
    "    ('spark.jars.packages', 'org.apache.hadoop:hadoop-aws:3.2.0,com.amazonaws:aws-java-sdk-bundle:1.11.704,org.apache.spark:spark-hadoop-cloud_2.12:3.3.0'),\n",
    "    (\"spark.hadoop.fs.s3a.endpoint\", 'http://minio:9000'),\n",
    "    ('spark.hadoop.fs.s3a.access.key', 'minio-root-user'),\n",
    "    ('spark.hadoop.fs.s3a.secret.key', 'minio-root-password'),\n",
    "    ('spark.hadoop.fs.s3a.bucket.all.committer.magic.enabled', True),\n",
    "    (\"spark.hadoop.fs.s3a.fast.upload\", True),\n",
    "    (\"spark.hadoop.fs.s3a.path.style.access\", True),\n",
    "    (\"spark.hadoop.fs.s3a.impl\", \"org.apache.hadoop.fs.s3a.S3AFileSystem\")\n",
    "])\n",
    " \n",
    "spark_sess          = SparkSession.builder.config(conf=spark_conf).getOrCreate()\n",
    "spark_ctxt          = spark_sess.sparkContext\n",
    "spark_reader        = spark_sess.read\n",
    "spark_streamReader  = spark_sess.readStream\n",
    "spark_ctxt.setLogLevel(\"WARN\")\n",
    "\n",
    "heartDF = spark_sess.read.option(\"header\",True).option(\"inferSchema\", True).csv('s3a://heart/heart.csv')\n",
    "heartDF.show(truncate=False)"
   ]
  },
  {
   "cell_type": "code",
   "execution_count": 2,
   "id": "df280ae3-7968-468c-8924-822cfe3fddf2",
   "metadata": {},
   "outputs": [],
   "source": [
    "from pyspark.ml.feature import VectorAssembler"
   ]
  },
  {
   "cell_type": "code",
   "execution_count": 3,
   "id": "47bb1521-5431-4683-88b1-2748bb0dd8e5",
   "metadata": {},
   "outputs": [
    {
     "name": "stdout",
     "output_type": "stream",
     "text": [
      "22/10/04 23:20:35 WARN package: Truncated the string representation of a plan since it was too large. This behavior can be adjusted by setting 'spark.sql.debug.maxToStringFields'.\n",
      "+---+---+---+--------+----+---+-------+-------+-----+-------+-----+---+----+------+--------------------+\n",
      "|age|sex| cp|trestbps|chol|fbs|restecg|thalach|exang|oldpeak|slope| ca|thal|target|            features|\n",
      "+---+---+---+--------+----+---+-------+-------+-----+-------+-----+---+----+------+--------------------+\n",
      "| 63|  1|  3|     145| 233|  1|      0|    150|    0|    2.3|    0|  0|   1|     1|[63.0,1.0,3.0,145...|\n",
      "| 37|  1|  2|     130| 250|  0|      1|    187|    0|    3.5|    0|  0|   2|     1|[37.0,1.0,2.0,130...|\n",
      "| 41|  0|  1|     130| 204|  0|      0|    172|    0|    1.4|    2|  0|   2|     1|[41.0,0.0,1.0,130...|\n",
      "| 56|  1|  1|     120| 236|  0|      1|    178|    0|    0.8|    2|  0|   2|     1|[56.0,1.0,1.0,120...|\n",
      "| 57|  0|  0|     120| 354|  0|      1|    163|    1|    0.6|    2|  0|   2|     1|[57.0,0.0,0.0,120...|\n",
      "| 57|  1|  0|     140| 192|  0|      1|    148|    0|    0.4|    1|  0|   1|     1|[57.0,1.0,0.0,140...|\n",
      "| 56|  0|  1|     140| 294|  0|      0|    153|    0|    1.3|    1|  0|   2|     1|[56.0,0.0,1.0,140...|\n",
      "| 44|  1|  1|     120| 263|  0|      1|    173|    0|    0.0|    2|  0|   3|     1|[44.0,1.0,1.0,120...|\n",
      "| 52|  1|  2|     172| 199|  1|      1|    162|    0|    0.5|    2|  0|   3|     1|[52.0,1.0,2.0,172...|\n",
      "| 57|  1|  2|     150| 168|  0|      1|    174|    0|    1.6|    2|  0|   2|     1|[57.0,1.0,2.0,150...|\n",
      "| 54|  1|  0|     140| 239|  0|      1|    160|    0|    1.2|    2|  0|   2|     1|[54.0,1.0,0.0,140...|\n",
      "| 48|  0|  2|     130| 275|  0|      1|    139|    0|    0.2|    2|  0|   2|     1|[48.0,0.0,2.0,130...|\n",
      "| 49|  1|  1|     130| 266|  0|      1|    171|    0|    0.6|    2|  0|   2|     1|[49.0,1.0,1.0,130...|\n",
      "| 64|  1|  3|     110| 211|  0|      0|    144|    1|    1.8|    1|  0|   2|     1|[64.0,1.0,3.0,110...|\n",
      "| 58|  0|  3|     150| 283|  1|      0|    162|    0|    1.0|    2|  0|   2|     1|[58.0,0.0,3.0,150...|\n",
      "| 50|  0|  2|     120| 219|  0|      1|    158|    0|    1.6|    1|  0|   2|     1|[50.0,0.0,2.0,120...|\n",
      "| 58|  0|  2|     120| 340|  0|      1|    172|    0|    0.0|    2|  0|   2|     1|[58.0,0.0,2.0,120...|\n",
      "| 66|  0|  3|     150| 226|  0|      1|    114|    0|    2.6|    0|  0|   2|     1|[66.0,0.0,3.0,150...|\n",
      "| 43|  1|  0|     150| 247|  0|      1|    171|    0|    1.5|    2|  0|   2|     1|[43.0,1.0,0.0,150...|\n",
      "| 69|  0|  3|     140| 239|  0|      1|    151|    0|    1.8|    2|  2|   2|     1|[69.0,0.0,3.0,140...|\n",
      "+---+---+---+--------+----+---+-------+-------+-----+-------+-----+---+----+------+--------------------+\n",
      "only showing top 20 rows\n",
      "\n"
     ]
    },
    {
     "name": "stderr",
     "output_type": "stream",
     "text": [
      "                                                                                \r"
     ]
    }
   ],
   "source": [
    "assembler = VectorAssembler(inputCols = [\"age\", \"sex\", \"cp\", \"trestbps\", \"chol\", \\\n",
    "         \"fbs\", \"restecg\", \"thalach\", \"exang\", \"oldpeak\", \"slope\", \"ca\", \"thal\"], outputCol = 'features')\n",
    "assembledFrame = assembler.transform(heartDF)\n",
    "assembledFrame.show()\n"
   ]
  },
  {
   "cell_type": "code",
   "execution_count": 6,
   "id": "8e1eaef0-b8f2-4871-b9c4-e3638c93f03c",
   "metadata": {},
   "outputs": [],
   "source": [
    "pandasFrame = assembledFrame.toPandas()"
   ]
  },
  {
   "cell_type": "code",
   "execution_count": 8,
   "id": "42938896-32b0-42a3-8e03-a15a920abdec",
   "metadata": {},
   "outputs": [],
   "source": [
    "%matplotlib inline\n",
    "import numpy as np\n",
    "import matplotlib.pyplot as plt"
   ]
  },
  {
   "cell_type": "code",
   "execution_count": 10,
   "id": "952b5ab5-6658-495d-b921-8b3d86f11b3f",
   "metadata": {},
   "outputs": [
    {
     "data": {
      "text/plain": [
       "<matplotlib.collections.PathCollection at 0x7f7eb6566310>"
      ]
     },
     "execution_count": 10,
     "metadata": {},
     "output_type": "execute_result"
    },
    {
     "data": {
      "image/png": "[encoded data removed]",
      "text/plain": [
       "<Figure size 640x480 with 1 Axes>"
      ]
     },
     "metadata": {},
     "output_type": "display_data"
    }
   ],
   "source": [
    "plt.scatter(pandasFrame.age, pandasFrame.chol, c=pandasFrame.target)"
   ]
  },
  {
   "cell_type": "code",
   "execution_count": 15,
   "id": "bf8c5cb5-2fba-4c75-bb25-69187c04f486",
   "metadata": {},
   "outputs": [],
   "source": [
    "from pyspark.ml.classification import DecisionTreeClassifier"
   ]
  },
  {
   "cell_type": "code",
   "execution_count": 16,
   "id": "233361b9-618b-49a0-9ff7-ead94d90ca83",
   "metadata": {},
   "outputs": [],
   "source": [
    "decisionTreeClassifier = DecisionTreeClassifier()"
   ]
  },
  {
   "cell_type": "code",
   "execution_count": 11,
   "id": "f0239324-3a0b-4118-8b78-4db1f3342c97",
   "metadata": {},
   "outputs": [
    {
     "name": "stdout",
     "output_type": "stream",
     "text": [
      "+---+---+---+--------+----+---+-------+-------+-----+-------+-----+---+----+------+--------------------+\n",
      "|age|sex| cp|trestbps|chol|fbs|restecg|thalach|exang|oldpeak|slope| ca|thal|target|            features|\n",
      "+---+---+---+--------+----+---+-------+-------+-----+-------+-----+---+----+------+--------------------+\n",
      "| 34|  1|  3|     118| 182|  0|      0|    174|    0|    0.0|    2|  0|   2|     1|[34.0,1.0,3.0,118...|\n",
      "| 35|  0|  0|     138| 183|  0|      1|    182|    0|    1.4|    2|  0|   2|     1|[35.0,0.0,0.0,138...|\n",
      "| 35|  1|  0|     126| 282|  0|      0|    156|    1|    0.0|    2|  0|   3|     0|[35.0,1.0,0.0,126...|\n",
      "| 35|  1|  1|     122| 192|  0|      1|    174|    0|    0.0|    2|  0|   2|     1|[35.0,1.0,1.0,122...|\n",
      "| 37|  0|  2|     120| 215|  0|      1|    170|    0|    0.0|    2|  0|   2|     1|[37.0,0.0,2.0,120...|\n",
      "| 37|  1|  2|     130| 250|  0|      1|    187|    0|    3.5|    0|  0|   2|     1|[37.0,1.0,2.0,130...|\n",
      "| 38|  1|  2|     138| 175|  0|      1|    173|    0|    0.0|    2|  4|   2|     1|[38.0,1.0,2.0,138...|\n",
      "| 38|  1|  2|     138| 175|  0|      1|    173|    0|    0.0|    2|  4|   2|     1|[38.0,1.0,2.0,138...|\n",
      "| 38|  1|  3|     120| 231|  0|      1|    182|    1|    3.8|    1|  0|   3|     0|[38.0,1.0,3.0,120...|\n",
      "| 39|  0|  2|      94| 199|  0|      1|    179|    0|    0.0|    2|  0|   2|     1|[39.0,0.0,2.0,94....|\n",
      "| 39|  0|  2|     138| 220|  0|      1|    152|    0|    0.0|    1|  0|   2|     1|[39.0,0.0,2.0,138...|\n",
      "| 39|  1|  0|     118| 219|  0|      1|    140|    0|    1.2|    1|  0|   3|     0|[39.0,1.0,0.0,118...|\n",
      "| 39|  1|  2|     140| 321|  0|      0|    182|    0|    0.0|    2|  0|   2|     1|[39.0,1.0,2.0,140...|\n",
      "| 40|  1|  0|     110| 167|  0|      0|    114|    1|    2.0|    1|  0|   3|     0|[40.0,1.0,0.0,110...|\n",
      "| 40|  1|  0|     152| 223|  0|      1|    181|    0|    0.0|    2|  0|   3|     0|[40.0,1.0,0.0,152...|\n",
      "| 40|  1|  3|     140| 199|  0|      1|    178|    1|    1.4|    2|  0|   3|     1|[40.0,1.0,3.0,140...|\n",
      "| 41|  0|  1|     105| 198|  0|      1|    168|    0|    0.0|    2|  1|   2|     1|[41.0,0.0,1.0,105...|\n",
      "| 41|  0|  1|     126| 306|  0|      1|    163|    0|    0.0|    2|  0|   2|     1|[41.0,0.0,1.0,126...|\n",
      "| 41|  0|  2|     112| 268|  0|      0|    172|    1|    0.0|    2|  0|   2|     1|[41.0,0.0,2.0,112...|\n",
      "| 41|  1|  0|     110| 172|  0|      0|    158|    0|    0.0|    2|  0|   3|     0|(13,[0,1,3,4,7,10...|\n",
      "+---+---+---+--------+----+---+-------+-------+-----+-------+-----+---+----+------+--------------------+\n",
      "only showing top 20 rows\n",
      "\n"
     ]
    },
    {
     "name": "stderr",
     "output_type": "stream",
     "text": [
      "                                                                                \r"
     ]
    }
   ],
   "source": [
    "splitData = assembledFrame.randomSplit([0.7, 0.3], 1234)\n",
    "trainingData = splitData[0]\n",
    "testingData = splitData[1]\n",
    "\n",
    "trainingData.show()"
   ]
  },
  {
   "cell_type": "code",
   "execution_count": 12,
   "id": "06c9d477-5297-4609-96d2-51b2e5b48964",
   "metadata": {},
   "outputs": [
    {
     "name": "stdout",
     "output_type": "stream",
     "text": [
      "+--------------------+-----+\n",
      "|            features|label|\n",
      "+--------------------+-----+\n",
      "|[34.0,1.0,3.0,118...|    1|\n",
      "|[35.0,0.0,0.0,138...|    1|\n",
      "|[35.0,1.0,0.0,126...|    0|\n",
      "|[35.0,1.0,1.0,122...|    1|\n",
      "|[37.0,0.0,2.0,120...|    1|\n",
      "|[37.0,1.0,2.0,130...|    1|\n",
      "|[38.0,1.0,2.0,138...|    1|\n",
      "|[38.0,1.0,2.0,138...|    1|\n",
      "|[38.0,1.0,3.0,120...|    0|\n",
      "|[39.0,0.0,2.0,94....|    1|\n",
      "|[39.0,0.0,2.0,138...|    1|\n",
      "|[39.0,1.0,0.0,118...|    0|\n",
      "|[39.0,1.0,2.0,140...|    1|\n",
      "|[40.0,1.0,0.0,110...|    0|\n",
      "|[40.0,1.0,0.0,152...|    0|\n",
      "|[40.0,1.0,3.0,140...|    1|\n",
      "|[41.0,0.0,1.0,105...|    1|\n",
      "|[41.0,0.0,1.0,126...|    1|\n",
      "|[41.0,0.0,2.0,112...|    1|\n",
      "|(13,[0,1,3,4,7,10...|    0|\n",
      "+--------------------+-----+\n",
      "only showing top 20 rows\n",
      "\n"
     ]
    },
    {
     "name": "stderr",
     "output_type": "stream",
     "text": [
      "                                                                                \r"
     ]
    }
   ],
   "source": [
    "nf = trainingData.select('features', 'target').withColumnRenamed('target', 'label')\n",
    "nf.show()"
   ]
  },
  {
   "cell_type": "code",
   "execution_count": 17,
   "id": "f2066565-4184-44d7-88a1-e34d2e084e53",
   "metadata": {},
   "outputs": [],
   "source": [
    "model = decisionTreeClassifier.fit(dataset=nf)"
   ]
  },
  {
   "cell_type": "code",
   "execution_count": 18,
   "id": "0fe11713-c68d-432a-a0ca-1692a35051d4",
   "metadata": {},
   "outputs": [],
   "source": [
    "from pyspark.ml.evaluation import BinaryClassificationEvaluator\n",
    "\n",
    "evaluator = BinaryClassificationEvaluator(labelCol=\"target\",rawPredictionCol=\"rawPrediction\")"
   ]
  },
  {
   "cell_type": "code",
   "execution_count": 19,
   "id": "14cfa5e3-1759-47bd-8b18-00df2b31f5c1",
   "metadata": {},
   "outputs": [
    {
     "name": "stdout",
     "output_type": "stream",
     "text": [
      "+---+---+---+--------+----+---+-------+-------+-----+-------+-----+---+----+------+--------------------+-------------+--------------------+----------+\n",
      "|age|sex| cp|trestbps|chol|fbs|restecg|thalach|exang|oldpeak|slope| ca|thal|target|            features|rawPrediction|         probability|prediction|\n",
      "+---+---+---+--------+----+---+-------+-------+-----+-------+-----+---+----+------+--------------------+-------------+--------------------+----------+\n",
      "| 29|  1|  1|     130| 204|  0|      0|    202|    0|    0.0|    2|  0|   2|     1|[29.0,1.0,1.0,130...|   [2.0,53.0]|[0.03636363636363...|       1.0|\n",
      "| 34|  0|  1|     118| 210|  0|      1|    192|    0|    0.7|    2|  0|   2|     1|[34.0,0.0,1.0,118...|   [2.0,53.0]|[0.03636363636363...|       1.0|\n",
      "| 35|  1|  0|     120| 198|  0|      1|    130|    1|    1.6|    1|  0|   3|     0|[35.0,1.0,0.0,120...|   [12.0,0.0]|           [1.0,0.0]|       0.0|\n",
      "| 41|  0|  1|     130| 204|  0|      0|    172|    0|    1.4|    2|  0|   2|     1|[41.0,0.0,1.0,130...|   [2.0,53.0]|[0.03636363636363...|       1.0|\n",
      "| 41|  1|  1|     110| 235|  0|      1|    153|    0|    0.0|    2|  0|   2|     1|[41.0,1.0,1.0,110...|   [2.0,53.0]|[0.03636363636363...|       1.0|\n",
      "| 41|  1|  1|     120| 157|  0|      1|    182|    0|    0.0|    2|  0|   2|     1|[41.0,1.0,1.0,120...|   [2.0,53.0]|[0.03636363636363...|       1.0|\n",
      "| 41|  1|  1|     135| 203|  0|      1|    132|    0|    0.0|    1|  0|   1|     1|[41.0,1.0,1.0,135...|   [2.0,53.0]|[0.03636363636363...|       1.0|\n",
      "| 41|  1|  2|     112| 250|  0|      1|    179|    0|    0.0|    2|  0|   2|     1|[41.0,1.0,2.0,112...|   [2.0,53.0]|[0.03636363636363...|       1.0|\n",
      "| 42|  0|  0|     102| 265|  0|      0|    122|    0|    0.6|    1|  0|   2|     1|(13,[0,3,4,7,9,10...|   [1.0,16.0]|[0.05882352941176...|       1.0|\n",
      "| 42|  1|  0|     136| 315|  0|      1|    125|    1|    1.8|    1|  0|   1|     0|[42.0,1.0,0.0,136...|    [6.0,2.0]|         [0.75,0.25]|       0.0|\n",
      "| 42|  1|  0|     140| 226|  0|      1|    178|    0|    0.0|    2|  0|   2|     1|[42.0,1.0,0.0,140...|   [1.0,16.0]|[0.05882352941176...|       1.0|\n",
      "| 42|  1|  3|     148| 244|  0|      0|    178|    0|    0.8|    2|  2|   2|     1|[42.0,1.0,3.0,148...|   [2.0,53.0]|[0.03636363636363...|       1.0|\n",
      "| 44|  0|  2|     108| 141|  0|      1|    175|    0|    0.6|    1|  0|   2|     1|[44.0,0.0,2.0,108...|   [2.0,53.0]|[0.03636363636363...|       1.0|\n",
      "| 44|  1|  0|     110| 197|  0|      0|    177|    0|    0.0|    2|  1|   2|     0|[44.0,1.0,0.0,110...|   [38.0,0.0]|           [1.0,0.0]|       0.0|\n",
      "| 44|  1|  1|     130| 219|  0|      0|    188|    0|    0.0|    2|  0|   2|     1|[44.0,1.0,1.0,130...|   [2.0,53.0]|[0.03636363636363...|       1.0|\n",
      "| 45|  0|  0|     138| 236|  0|      0|    152|    1|    0.2|    1|  0|   2|     1|[45.0,0.0,0.0,138...|    [6.0,2.0]|         [0.75,0.25]|       0.0|\n",
      "| 45|  0|  1|     112| 160|  0|      1|    138|    0|    0.0|    1|  0|   2|     1|[45.0,0.0,1.0,112...|   [2.0,53.0]|[0.03636363636363...|       1.0|\n",
      "| 45|  0|  1|     130| 234|  0|      0|    175|    0|    0.6|    1|  0|   2|     1|[45.0,0.0,1.0,130...|   [2.0,53.0]|[0.03636363636363...|       1.0|\n",
      "| 45|  1|  3|     110| 264|  0|      1|    132|    0|    1.2|    1|  0|   3|     0|[45.0,1.0,3.0,110...|   [2.0,53.0]|[0.03636363636363...|       1.0|\n",
      "| 46|  0|  0|     138| 243|  0|      0|    152|    1|    0.0|    1|  0|   2|     1|(13,[0,3,4,7,8,10...|    [6.0,2.0]|         [0.75,0.25]|       0.0|\n",
      "+---+---+---+--------+----+---+-------+-------+-----+-------+-----+---+----+------+--------------------+-------------+--------------------+----------+\n",
      "only showing top 20 rows\n",
      "\n"
     ]
    }
   ],
   "source": [
    "result = model.transform(testingData)\n",
    "result.show()"
   ]
  },
  {
   "cell_type": "code",
   "execution_count": 20,
   "id": "43038afc-ee89-4ea2-84f7-cc3729c8bb18",
   "metadata": {},
   "outputs": [
    {
     "data": {
      "text/plain": [
       "0.8213675213675213"
      ]
     },
     "execution_count": 20,
     "metadata": {},
     "output_type": "execute_result"
    }
   ],
   "source": [
    "aucScore = evaluator.evaluate(result)\n",
    "aucScore"
   ]
  }
 ],
 "metadata": {
  "kernelspec": {
   "display_name": "Python 3 (ipykernel)",
   "language": "python",
   "name": "python3"
  },
  "language_info": {
   "codemirror_mode": {
    "name": "ipython",
    "version": 3
   },
   "file_extension": ".py",
   "mimetype": "text/x-python",
   "name": "python",
   "nbconvert_exporter": "python",
   "pygments_lexer": "ipython3",
   "version": "3.8.14"
  }
 },
 "nbformat": 4,
 "nbformat_minor": 5
}
