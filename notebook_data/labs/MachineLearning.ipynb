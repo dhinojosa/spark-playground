{
 "cells": [
  {
   "cell_type": "code",
   "execution_count": 1,
   "id": "ed1583de-489f-46ac-9143-c6d65527aa01",
   "metadata": {},
   "outputs": [
    {
     "name": "stdout",
     "output_type": "stream",
     "text": [
      ":: loading settings :: url = jar:file:/opt/bitnami/spark/jars/ivy-2.5.0.jar!/org/apache/ivy/core/settings/ivysettings.xml\n"
     ]
    },
    {
     "name": "stderr",
     "output_type": "stream",
     "text": [
      "Ivy Default Cache set to: /root/.ivy2/cache\n",
      "The jars for the packages stored in: /root/.ivy2/jars\n",
      "org.apache.hadoop#hadoop-aws added as a dependency\n",
      "com.amazonaws#aws-java-sdk-bundle added as a dependency\n",
      "org.apache.spark#spark-hadoop-cloud_2.12 added as a dependency\n",
      ":: resolving dependencies :: org.apache.spark#spark-submit-parent-ca07c21d-75ff-4c0e-a189-1b6572371215;1.0\n",
      "\tconfs: [default]\n",
      "\tfound org.apache.hadoop#hadoop-aws;3.2.0 in central\n",
      "\tfound com.amazonaws#aws-java-sdk-bundle;1.11.704 in central\n",
      "\tfound org.apache.spark#spark-hadoop-cloud_2.12;3.3.0 in central\n",
      "\tfound org.apache.hadoop#hadoop-client-runtime;3.3.2 in central\n",
      "\tfound org.apache.hadoop#hadoop-client-api;3.3.2 in central\n",
      "\tfound org.xerial.snappy#snappy-java;1.1.8.4 in central\n",
      "\tfound org.slf4j#slf4j-api;1.7.32 in central\n",
      "\tfound commons-logging#commons-logging;1.1.3 in central\n",
      "\tfound com.google.code.findbugs#jsr305;3.0.0 in central\n",
      "\tfound org.apache.hadoop#hadoop-aws;3.3.2 in central\n",
      "\tfound com.amazonaws#aws-java-sdk-bundle;1.11.1026 in central\n",
      "\tfound org.wildfly.openssl#wildfly-openssl;1.0.7.Final in central\n",
      "\tfound org.apache.hadoop#hadoop-openstack;3.3.2 in central\n",
      "\tfound org.apache.hadoop#hadoop-annotations;3.3.2 in central\n",
      "\tfound org.apache.httpcomponents#httpcore;4.4.14 in central\n",
      "\tfound com.fasterxml.jackson.core#jackson-annotations;2.13.3 in central\n",
      "\tfound com.fasterxml.jackson.core#jackson-databind;2.13.3 in central\n",
      "\tfound com.fasterxml.jackson.core#jackson-core;2.13.3 in central\n",
      "\tfound joda-time#joda-time;2.10.13 in central\n",
      "\tfound com.fasterxml.jackson.dataformat#jackson-dataformat-cbor;2.13.3 in central\n",
      "\tfound org.apache.httpcomponents#httpclient;4.5.13 in central\n",
      "\tfound commons-codec#commons-codec;1.15 in central\n",
      "\tfound org.apache.hadoop#hadoop-azure;3.3.2 in central\n",
      "\tfound com.microsoft.azure#azure-storage;7.0.1 in central\n",
      "\tfound com.microsoft.azure#azure-keyvault-core;1.0.0 in central\n",
      "\tfound org.apache.hadoop.thirdparty#hadoop-shaded-guava;1.1.1 in central\n",
      "\tfound org.codehaus.jackson#jackson-mapper-asl;1.9.13 in central\n",
      "\tfound org.codehaus.jackson#jackson-core-asl;1.9.13 in central\n",
      "\tfound org.apache.hadoop#hadoop-cloud-storage;3.3.2 in central\n",
      "\tfound org.apache.hadoop#hadoop-aliyun;3.3.2 in central\n",
      "\tfound com.aliyun.oss#aliyun-sdk-oss;3.13.0 in central\n",
      "\tfound org.jdom#jdom2;2.0.6 in central\n",
      "\tfound org.codehaus.jettison#jettison;1.1 in central\n",
      "\tfound stax#stax-api;1.0.1 in central\n",
      "\tfound com.aliyun#aliyun-java-sdk-core;4.5.10 in central\n",
      "\tfound com.google.code.gson#gson;2.8.9 in central\n",
      "\tfound javax.xml.bind#jaxb-api;2.2.11 in central\n",
      "\tfound org.ini4j#ini4j;0.5.4 in central\n",
      "\tfound io.opentracing#opentracing-api;0.33.0 in central\n",
      "\tfound io.opentracing#opentracing-util;0.33.0 in central\n",
      "\tfound io.opentracing#opentracing-noop;0.33.0 in central\n",
      "\tfound com.aliyun#aliyun-java-sdk-ram;3.1.0 in central\n",
      "\tfound com.aliyun#aliyun-java-sdk-kms;2.11.0 in central\n",
      "\tfound org.apache.hadoop#hadoop-azure-datalake;3.3.2 in central\n",
      "\tfound com.microsoft.azure#azure-data-lake-store-sdk;2.3.9 in central\n",
      "\tfound org.apache.hadoop#hadoop-cos;3.3.2 in central\n",
      "\tfound com.qcloud#cos_api-bundle;5.6.19 in central\n",
      "\tfound org.eclipse.jetty#jetty-util-ajax;9.4.46.v20220331 in central\n",
      "\tfound org.eclipse.jetty#jetty-util;9.4.46.v20220331 in central\n",
      "\tfound org.spark-project.spark#unused;1.0.0 in central\n",
      ":: resolution report :: resolve 1283ms :: artifacts dl 40ms\n",
      "\t:: modules in use:\n",
      "\tcom.aliyun#aliyun-java-sdk-core;4.5.10 from central in [default]\n",
      "\tcom.aliyun#aliyun-java-sdk-kms;2.11.0 from central in [default]\n",
      "\tcom.aliyun#aliyun-java-sdk-ram;3.1.0 from central in [default]\n",
      "\tcom.aliyun.oss#aliyun-sdk-oss;3.13.0 from central in [default]\n",
      "\tcom.amazonaws#aws-java-sdk-bundle;1.11.1026 from central in [default]\n",
      "\tcom.fasterxml.jackson.core#jackson-annotations;2.13.3 from central in [default]\n",
      "\tcom.fasterxml.jackson.core#jackson-core;2.13.3 from central in [default]\n",
      "\tcom.fasterxml.jackson.core#jackson-databind;2.13.3 from central in [default]\n",
      "\tcom.fasterxml.jackson.dataformat#jackson-dataformat-cbor;2.13.3 from central in [default]\n",
      "\tcom.google.code.findbugs#jsr305;3.0.0 from central in [default]\n",
      "\tcom.google.code.gson#gson;2.8.9 from central in [default]\n",
      "\tcom.microsoft.azure#azure-data-lake-store-sdk;2.3.9 from central in [default]\n",
      "\tcom.microsoft.azure#azure-keyvault-core;1.0.0 from central in [default]\n",
      "\tcom.microsoft.azure#azure-storage;7.0.1 from central in [default]\n",
      "\tcom.qcloud#cos_api-bundle;5.6.19 from central in [default]\n",
      "\tcommons-codec#commons-codec;1.15 from central in [default]\n",
      "\tcommons-logging#commons-logging;1.1.3 from central in [default]\n",
      "\tio.opentracing#opentracing-api;0.33.0 from central in [default]\n",
      "\tio.opentracing#opentracing-noop;0.33.0 from central in [default]\n",
      "\tio.opentracing#opentracing-util;0.33.0 from central in [default]\n",
      "\tjavax.xml.bind#jaxb-api;2.2.11 from central in [default]\n",
      "\tjoda-time#joda-time;2.10.13 from central in [default]\n",
      "\torg.apache.hadoop#hadoop-aliyun;3.3.2 from central in [default]\n",
      "\torg.apache.hadoop#hadoop-annotations;3.3.2 from central in [default]\n",
      "\torg.apache.hadoop#hadoop-aws;3.3.2 from central in [default]\n",
      "\torg.apache.hadoop#hadoop-azure;3.3.2 from central in [default]\n",
      "\torg.apache.hadoop#hadoop-azure-datalake;3.3.2 from central in [default]\n",
      "\torg.apache.hadoop#hadoop-client-api;3.3.2 from central in [default]\n",
      "\torg.apache.hadoop#hadoop-client-runtime;3.3.2 from central in [default]\n",
      "\torg.apache.hadoop#hadoop-cloud-storage;3.3.2 from central in [default]\n",
      "\torg.apache.hadoop#hadoop-cos;3.3.2 from central in [default]\n",
      "\torg.apache.hadoop#hadoop-openstack;3.3.2 from central in [default]\n",
      "\torg.apache.hadoop.thirdparty#hadoop-shaded-guava;1.1.1 from central in [default]\n",
      "\torg.apache.httpcomponents#httpclient;4.5.13 from central in [default]\n",
      "\torg.apache.httpcomponents#httpcore;4.4.14 from central in [default]\n",
      "\torg.apache.spark#spark-hadoop-cloud_2.12;3.3.0 from central in [default]\n",
      "\torg.codehaus.jackson#jackson-core-asl;1.9.13 from central in [default]\n",
      "\torg.codehaus.jackson#jackson-mapper-asl;1.9.13 from central in [default]\n",
      "\torg.codehaus.jettison#jettison;1.1 from central in [default]\n",
      "\torg.eclipse.jetty#jetty-util;9.4.46.v20220331 from central in [default]\n",
      "\torg.eclipse.jetty#jetty-util-ajax;9.4.46.v20220331 from central in [default]\n",
      "\torg.ini4j#ini4j;0.5.4 from central in [default]\n",
      "\torg.jdom#jdom2;2.0.6 from central in [default]\n",
      "\torg.slf4j#slf4j-api;1.7.32 from central in [default]\n",
      "\torg.spark-project.spark#unused;1.0.0 from central in [default]\n",
      "\torg.wildfly.openssl#wildfly-openssl;1.0.7.Final from central in [default]\n",
      "\torg.xerial.snappy#snappy-java;1.1.8.4 from central in [default]\n",
      "\tstax#stax-api;1.0.1 from central in [default]\n",
      "\t:: evicted modules:\n",
      "\torg.apache.hadoop#hadoop-aws;3.2.0 by [org.apache.hadoop#hadoop-aws;3.3.2] in [default]\n",
      "\tcom.amazonaws#aws-java-sdk-bundle;1.11.375 by [com.amazonaws#aws-java-sdk-bundle;1.11.704] in [default]\n",
      "\tcom.amazonaws#aws-java-sdk-bundle;1.11.704 by [com.amazonaws#aws-java-sdk-bundle;1.11.1026] in [default]\n",
      "\torg.eclipse.jetty#jetty-util-ajax;9.4.43.v20210629 by [org.eclipse.jetty#jetty-util-ajax;9.4.46.v20220331] in [default]\n",
      "\t---------------------------------------------------------------------\n",
      "\t|                  |            modules            ||   artifacts   |\n",
      "\t|       conf       | number| search|dwnlded|evicted|| number|dwnlded|\n",
      "\t---------------------------------------------------------------------\n",
      "\t|      default     |   52  |   0   |   0   |   4   ||   48  |   0   |\n",
      "\t---------------------------------------------------------------------\n",
      ":: retrieving :: org.apache.spark#spark-submit-parent-ca07c21d-75ff-4c0e-a189-1b6572371215\n",
      "\tconfs: [default]\n",
      "\t0 artifacts copied, 48 already retrieved (0kB/17ms)\n"
     ]
    },
    {
     "name": "stdout",
     "output_type": "stream",
     "text": [
      "22/10/05 16:25:34 WARN NativeCodeLoader: Unable to load native-hadoop library for your platform... using builtin-java classes where applicable\n"
     ]
    },
    {
     "name": "stderr",
     "output_type": "stream",
     "text": [
      "Setting default log level to \"WARN\".\n",
      "To adjust logging level use sc.setLogLevel(newLevel). For SparkR, use setLogLevel(newLevel).\n"
     ]
    }
   ],
   "source": [
    "import sys, os\n",
    "from pyspark.conf import SparkConf\n",
    "from pyspark.sql import SparkSession, Catalog\n",
    "from pyspark.sql import DataFrame, DataFrameStatFunctions, DataFrameNaFunctions\n",
    "from pyspark.sql import functions as F\n",
    "from pyspark.sql import types as T\n",
    "from pyspark.sql.types import Row\n",
    "from subprocess import check_output\n",
    "\n",
    "SPARK_DRIVER_HOST = check_output([\"hostname\", \"-i\"]).decode(encoding=\"utf-8\").strip()\n",
    "spark_conf = SparkConf()\n",
    "spark_conf.setAll([\n",
    "    ('spark.master', 'spark://spark:7077'),\n",
    "    ('spark.app.name', 'myApp'),\n",
    "    ('spark.submit.deployMode', 'client'),\n",
    "    ('spark.ui.showConsoleProgress', 'true'),\n",
    "    ('spark.eventLog.enabled', 'false'),\n",
    "    ('spark.logConf', 'false'),\n",
    "    ('spark.driver.bindAddress', '0.0.0.0'),\n",
    "    ('spark.driver.host', SPARK_DRIVER_HOST),\n",
    "    ('spark.jars.packages', 'org.apache.hadoop:hadoop-aws:3.2.0,com.amazonaws:aws-java-sdk-bundle:1.11.704,org.apache.spark:spark-hadoop-cloud_2.12:3.3.0'),\n",
    "    (\"spark.hadoop.fs.s3a.endpoint\", 'http://minio:9000'),\n",
    "    ('spark.hadoop.fs.s3a.access.key', 'minio-root-user'),\n",
    "    ('spark.hadoop.fs.s3a.secret.key', 'minio-root-password'),\n",
    "    ('spark.hadoop.fs.s3a.bucket.all.committer.magic.enabled', True),\n",
    "    (\"spark.hadoop.fs.s3a.fast.upload\", True),\n",
    "    (\"spark.hadoop.fs.s3a.path.style.access\", True),\n",
    "    (\"spark.hadoop.fs.s3a.impl\", \"org.apache.hadoop.fs.s3a.S3AFileSystem\")\n",
    "])\n",
    " \n",
    "spark_sess          = SparkSession.builder.config(conf=spark_conf).getOrCreate()\n",
    "spark_ctxt          = spark_sess.sparkContext\n",
    "spark_reader        = spark_sess.read\n",
    "spark_streamReader  = spark_sess.readStream\n",
    "spark_ctxt.setLogLevel(\"WARN\")"
   ]
  },
  {
   "cell_type": "code",
   "execution_count": 5,
   "id": "a7510e0b-ac79-4618-bb7c-635f1c926a38",
   "metadata": {},
   "outputs": [
    {
     "name": "stdout",
     "output_type": "stream",
     "text": [
      "+---+-------------+------------+-------------+------------+-----------+\n",
      "|Id |SepalLengthCm|SepalWidthCm|PetalLengthCm|PetalWidthCm|Species    |\n",
      "+---+-------------+------------+-------------+------------+-----------+\n",
      "|1  |5.1          |3.5         |1.4          |0.2         |Iris-setosa|\n",
      "|2  |4.9          |3.0         |1.4          |0.2         |Iris-setosa|\n",
      "|3  |4.7          |3.2         |1.3          |0.2         |Iris-setosa|\n",
      "|4  |4.6          |3.1         |1.5          |0.2         |Iris-setosa|\n",
      "|5  |5.0          |3.6         |1.4          |0.2         |Iris-setosa|\n",
      "|6  |5.4          |3.9         |1.7          |0.4         |Iris-setosa|\n",
      "|7  |4.6          |3.4         |1.4          |0.3         |Iris-setosa|\n",
      "|8  |5.0          |3.4         |1.5          |0.2         |Iris-setosa|\n",
      "|9  |4.4          |2.9         |1.4          |0.2         |Iris-setosa|\n",
      "|10 |4.9          |3.1         |1.5          |0.1         |Iris-setosa|\n",
      "|11 |5.4          |3.7         |1.5          |0.2         |Iris-setosa|\n",
      "|12 |4.8          |3.4         |1.6          |0.2         |Iris-setosa|\n",
      "|13 |4.8          |3.0         |1.4          |0.1         |Iris-setosa|\n",
      "|14 |4.3          |3.0         |1.1          |0.1         |Iris-setosa|\n",
      "|15 |5.8          |4.0         |1.2          |0.2         |Iris-setosa|\n",
      "|16 |5.7          |4.4         |1.5          |0.4         |Iris-setosa|\n",
      "|17 |5.4          |3.9         |1.3          |0.4         |Iris-setosa|\n",
      "|18 |5.1          |3.5         |1.4          |0.3         |Iris-setosa|\n",
      "|19 |5.7          |3.8         |1.7          |0.3         |Iris-setosa|\n",
      "|20 |5.1          |3.8         |1.5          |0.3         |Iris-setosa|\n",
      "+---+-------------+------------+-------------+------------+-----------+\n",
      "only showing top 20 rows\n",
      "\n"
     ]
    }
   ],
   "source": [
    "irisDF = spark_sess.read.option(\"header\",True).option(\"inferSchema\", True).csv('s3a://iris/iris.csv')\n",
    "\n",
    "irisDF.show(truncate=False)"
   ]
  },
  {
   "cell_type": "code",
   "execution_count": 15,
   "id": "c66e7760-9b1c-42db-915a-53ec32efe144",
   "metadata": {},
   "outputs": [
    {
     "name": "stdout",
     "output_type": "stream",
     "text": [
      "+---------------+\n",
      "|        Species|\n",
      "+---------------+\n",
      "| Iris-virginica|\n",
      "|    Iris-setosa|\n",
      "|Iris-versicolor|\n",
      "+---------------+\n",
      "\n"
     ]
    }
   ],
   "source": [
    "irisDF.select('Species').distinct().show()"
   ]
  },
  {
   "cell_type": "code",
   "execution_count": 20,
   "id": "a5013251-0906-4e82-b546-ca9e8cd6811b",
   "metadata": {},
   "outputs": [
    {
     "name": "stdout",
     "output_type": "stream",
     "text": [
      "+---+-------------+------------+-------------+------------+--------------+------------+\n",
      "|Id |SepalLengthCm|SepalWidthCm|PetalLengthCm|PetalWidthCm|Species       |SpeciesIndex|\n",
      "+---+-------------+------------+-------------+------------+--------------+------------+\n",
      "|101|6.3          |3.3         |6.0          |2.5         |Iris-virginica|2.0         |\n",
      "|102|5.8          |2.7         |5.1          |1.9         |Iris-virginica|2.0         |\n",
      "|103|7.1          |3.0         |5.9          |2.1         |Iris-virginica|2.0         |\n",
      "|104|6.3          |2.9         |5.6          |1.8         |Iris-virginica|2.0         |\n",
      "|105|6.5          |3.0         |5.8          |2.2         |Iris-virginica|2.0         |\n",
      "|106|7.6          |3.0         |6.6          |2.1         |Iris-virginica|2.0         |\n",
      "|107|4.9          |2.5         |4.5          |1.7         |Iris-virginica|2.0         |\n",
      "|108|7.3          |2.9         |6.3          |1.8         |Iris-virginica|2.0         |\n",
      "|109|6.7          |2.5         |5.8          |1.8         |Iris-virginica|2.0         |\n",
      "|110|7.2          |3.6         |6.1          |2.5         |Iris-virginica|2.0         |\n",
      "|111|6.5          |3.2         |5.1          |2.0         |Iris-virginica|2.0         |\n",
      "|112|6.4          |2.7         |5.3          |1.9         |Iris-virginica|2.0         |\n",
      "|113|6.8          |3.0         |5.5          |2.1         |Iris-virginica|2.0         |\n",
      "|114|5.7          |2.5         |5.0          |2.0         |Iris-virginica|2.0         |\n",
      "|115|5.8          |2.8         |5.1          |2.4         |Iris-virginica|2.0         |\n",
      "|116|6.4          |3.2         |5.3          |2.3         |Iris-virginica|2.0         |\n",
      "|117|6.5          |3.0         |5.5          |1.8         |Iris-virginica|2.0         |\n",
      "|118|7.7          |3.8         |6.7          |2.2         |Iris-virginica|2.0         |\n",
      "|119|7.7          |2.6         |6.9          |2.3         |Iris-virginica|2.0         |\n",
      "|120|6.0          |2.2         |5.0          |1.5         |Iris-virginica|2.0         |\n",
      "+---+-------------+------------+-------------+------------+--------------+------------+\n",
      "only showing top 20 rows\n",
      "\n"
     ]
    }
   ],
   "source": [
    "from pyspark.ml.feature import StringIndexer\n",
    "lblIndxr = StringIndexer().setInputCol(\"Species\").setOutputCol(\"SpeciesIndex\")\n",
    "idxRes = lblIndxr.fit(irisDF).transform(irisDF)\n",
    "idxRes.where('SpeciesIndex == 2.0').show(truncate=False)"
   ]
  },
  {
   "cell_type": "code",
   "execution_count": 4,
   "id": "9102982b-ab24-44b0-bb44-016ae2bb00f0",
   "metadata": {},
   "outputs": [],
   "source": [
    "%matplotlib inline\n",
    "import numpy as np\n",
    "import matplotlib.pyplot as plt"
   ]
  },
  {
   "cell_type": "code",
   "execution_count": 25,
   "id": "e0044e95-d82e-4097-88a9-e6332deb5f51",
   "metadata": {},
   "outputs": [
    {
     "name": "stderr",
     "output_type": "stream",
     "text": [
      "No artists with labels found to put in legend.  Note that artists whose label start with an underscore are ignored when legend() is called with no argument.\n"
     ]
    },
    {
     "data": {
      "image/png": "[encoded data removed]",
      "text/plain": [
       "<Figure size 640x480 with 1 Axes>"
      ]
     },
     "metadata": {},
     "output_type": "display_data"
    }
   ],
   "source": [
    "irisPandasDF = idxRes.toPandas()\n",
    "plt.scatter(irisPandasDF[\"SepalLengthCm\"], irisPandasDF[\"SepalWidthCm\"], c=irisPandasDF[\"SpeciesIndex\"], cmap='winter');\n",
    "plt.legend();"
   ]
  },
  {
   "cell_type": "code",
   "execution_count": 41,
   "id": "0775d73a-5e57-4da1-8682-f40faad0177c",
   "metadata": {},
   "outputs": [
    {
     "name": "stdout",
     "output_type": "stream",
     "text": [
      "+---+-------------+------------+-------------+------------+-----------+------------+---------+\n",
      "| Id|SepalLengthCm|SepalWidthCm|PetalLengthCm|PetalWidthCm|    Species|SpeciesIndex| features|\n",
      "+---+-------------+------------+-------------+------------+-----------+------------+---------+\n",
      "|  1|          5.1|         3.5|          1.4|         0.2|Iris-setosa|         0.0|[5.1,3.5]|\n",
      "|  2|          4.9|         3.0|          1.4|         0.2|Iris-setosa|         0.0|[4.9,3.0]|\n",
      "|  3|          4.7|         3.2|          1.3|         0.2|Iris-setosa|         0.0|[4.7,3.2]|\n",
      "|  4|          4.6|         3.1|          1.5|         0.2|Iris-setosa|         0.0|[4.6,3.1]|\n",
      "|  5|          5.0|         3.6|          1.4|         0.2|Iris-setosa|         0.0|[5.0,3.6]|\n",
      "|  6|          5.4|         3.9|          1.7|         0.4|Iris-setosa|         0.0|[5.4,3.9]|\n",
      "|  7|          4.6|         3.4|          1.4|         0.3|Iris-setosa|         0.0|[4.6,3.4]|\n",
      "|  8|          5.0|         3.4|          1.5|         0.2|Iris-setosa|         0.0|[5.0,3.4]|\n",
      "|  9|          4.4|         2.9|          1.4|         0.2|Iris-setosa|         0.0|[4.4,2.9]|\n",
      "| 10|          4.9|         3.1|          1.5|         0.1|Iris-setosa|         0.0|[4.9,3.1]|\n",
      "| 11|          5.4|         3.7|          1.5|         0.2|Iris-setosa|         0.0|[5.4,3.7]|\n",
      "| 12|          4.8|         3.4|          1.6|         0.2|Iris-setosa|         0.0|[4.8,3.4]|\n",
      "| 13|          4.8|         3.0|          1.4|         0.1|Iris-setosa|         0.0|[4.8,3.0]|\n",
      "| 14|          4.3|         3.0|          1.1|         0.1|Iris-setosa|         0.0|[4.3,3.0]|\n",
      "| 15|          5.8|         4.0|          1.2|         0.2|Iris-setosa|         0.0|[5.8,4.0]|\n",
      "| 16|          5.7|         4.4|          1.5|         0.4|Iris-setosa|         0.0|[5.7,4.4]|\n",
      "| 17|          5.4|         3.9|          1.3|         0.4|Iris-setosa|         0.0|[5.4,3.9]|\n",
      "| 18|          5.1|         3.5|          1.4|         0.3|Iris-setosa|         0.0|[5.1,3.5]|\n",
      "| 19|          5.7|         3.8|          1.7|         0.3|Iris-setosa|         0.0|[5.7,3.8]|\n",
      "| 20|          5.1|         3.8|          1.5|         0.3|Iris-setosa|         0.0|[5.1,3.8]|\n",
      "+---+-------------+------------+-------------+------------+-----------+------------+---------+\n",
      "only showing top 20 rows\n",
      "\n"
     ]
    }
   ],
   "source": [
    "from pyspark.ml.feature import VectorAssembler\n",
    "va = VectorAssembler(outputCol=\"features\").setInputCols([\"SepalLengthCm\", \"SepalWidthCm\"])\n",
    "preparedDF = va.transform(idxRes)\n",
    "preparedDF.show()"
   ]
  },
  {
   "cell_type": "code",
   "execution_count": 53,
   "id": "c970137d-1605-46a9-9a30-859ff1b07a77",
   "metadata": {},
   "outputs": [
    {
     "name": "stdout",
     "output_type": "stream",
     "text": [
      "+---+-------------+------------+-------------+------------+---------------+------------+---------+\n",
      "| Id|SepalLengthCm|SepalWidthCm|PetalLengthCm|PetalWidthCm|        Species|SpeciesIndex| features|\n",
      "+---+-------------+------------+-------------+------------+---------------+------------+---------+\n",
      "|  2|          4.9|         3.0|          1.4|         0.2|    Iris-setosa|         0.0|[4.9,3.0]|\n",
      "|  9|          4.4|         2.9|          1.4|         0.2|    Iris-setosa|         0.0|[4.4,2.9]|\n",
      "| 10|          4.9|         3.1|          1.5|         0.1|    Iris-setosa|         0.0|[4.9,3.1]|\n",
      "| 13|          4.8|         3.0|          1.4|         0.1|    Iris-setosa|         0.0|[4.8,3.0]|\n",
      "| 14|          4.3|         3.0|          1.1|         0.1|    Iris-setosa|         0.0|[4.3,3.0]|\n",
      "| 18|          5.1|         3.5|          1.4|         0.3|    Iris-setosa|         0.0|[5.1,3.5]|\n",
      "| 29|          5.2|         3.4|          1.4|         0.2|    Iris-setosa|         0.0|[5.2,3.4]|\n",
      "| 30|          4.7|         3.2|          1.6|         0.2|    Iris-setosa|         0.0|[4.7,3.2]|\n",
      "| 34|          5.5|         4.2|          1.4|         0.2|    Iris-setosa|         0.0|[5.5,4.2]|\n",
      "| 38|          4.9|         3.1|          1.5|         0.1|    Iris-setosa|         0.0|[4.9,3.1]|\n",
      "| 39|          4.4|         3.0|          1.3|         0.2|    Iris-setosa|         0.0|[4.4,3.0]|\n",
      "| 48|          4.6|         3.2|          1.4|         0.2|    Iris-setosa|         0.0|[4.6,3.2]|\n",
      "| 49|          5.3|         3.7|          1.5|         0.2|    Iris-setosa|         0.0|[5.3,3.7]|\n",
      "| 50|          5.0|         3.3|          1.4|         0.2|    Iris-setosa|         0.0|[5.0,3.3]|\n",
      "| 52|          6.4|         3.2|          4.5|         1.5|Iris-versicolor|         1.0|[6.4,3.2]|\n",
      "| 54|          5.5|         2.3|          4.0|         1.3|Iris-versicolor|         1.0|[5.5,2.3]|\n",
      "| 55|          6.5|         2.8|          4.6|         1.5|Iris-versicolor|         1.0|[6.5,2.8]|\n",
      "| 58|          4.9|         2.4|          3.3|         1.0|Iris-versicolor|         1.0|[4.9,2.4]|\n",
      "| 59|          6.6|         2.9|          4.6|         1.3|Iris-versicolor|         1.0|[6.6,2.9]|\n",
      "| 62|          5.9|         3.0|          4.2|         1.5|Iris-versicolor|         1.0|[5.9,3.0]|\n",
      "+---+-------------+------------+-------------+------------+---------------+------------+---------+\n",
      "only showing top 20 rows\n",
      "\n"
     ]
    }
   ],
   "source": [
    "trainingSet, testingSet = preparedDF.randomSplit([0.6, 0.4], 122)\n",
    "testingSet.show()"
   ]
  },
  {
   "cell_type": "code",
   "execution_count": 73,
   "id": "6e7c147f-44b6-4eb2-b8b5-91f176bdd6b8",
   "metadata": {},
   "outputs": [
    {
     "name": "stdout",
     "output_type": "stream",
     "text": [
      "+---+-------------+------------+-------------+------------+-----------+------------+---------+\n",
      "| Id|SepalLengthCm|SepalWidthCm|PetalLengthCm|PetalWidthCm|    Species|SpeciesIndex| features|\n",
      "+---+-------------+------------+-------------+------------+-----------+------------+---------+\n",
      "|  1|          5.1|         3.5|          1.4|         0.2|Iris-setosa|         0.0|[5.1,3.5]|\n",
      "|  2|          4.9|         3.0|          1.4|         0.2|Iris-setosa|         0.0|[4.9,3.0]|\n",
      "|  3|          4.7|         3.2|          1.3|         0.2|Iris-setosa|         0.0|[4.7,3.2]|\n",
      "|  4|          4.6|         3.1|          1.5|         0.2|Iris-setosa|         0.0|[4.6,3.1]|\n",
      "|  5|          5.0|         3.6|          1.4|         0.2|Iris-setosa|         0.0|[5.0,3.6]|\n",
      "|  6|          5.4|         3.9|          1.7|         0.4|Iris-setosa|         0.0|[5.4,3.9]|\n",
      "|  7|          4.6|         3.4|          1.4|         0.3|Iris-setosa|         0.0|[4.6,3.4]|\n",
      "|  8|          5.0|         3.4|          1.5|         0.2|Iris-setosa|         0.0|[5.0,3.4]|\n",
      "|  9|          4.4|         2.9|          1.4|         0.2|Iris-setosa|         0.0|[4.4,2.9]|\n",
      "| 10|          4.9|         3.1|          1.5|         0.1|Iris-setosa|         0.0|[4.9,3.1]|\n",
      "| 11|          5.4|         3.7|          1.5|         0.2|Iris-setosa|         0.0|[5.4,3.7]|\n",
      "| 12|          4.8|         3.4|          1.6|         0.2|Iris-setosa|         0.0|[4.8,3.4]|\n",
      "| 13|          4.8|         3.0|          1.4|         0.1|Iris-setosa|         0.0|[4.8,3.0]|\n",
      "| 14|          4.3|         3.0|          1.1|         0.1|Iris-setosa|         0.0|[4.3,3.0]|\n",
      "| 15|          5.8|         4.0|          1.2|         0.2|Iris-setosa|         0.0|[5.8,4.0]|\n",
      "| 16|          5.7|         4.4|          1.5|         0.4|Iris-setosa|         0.0|[5.7,4.4]|\n",
      "| 17|          5.4|         3.9|          1.3|         0.4|Iris-setosa|         0.0|[5.4,3.9]|\n",
      "| 18|          5.1|         3.5|          1.4|         0.3|Iris-setosa|         0.0|[5.1,3.5]|\n",
      "| 19|          5.7|         3.8|          1.7|         0.3|Iris-setosa|         0.0|[5.7,3.8]|\n",
      "| 20|          5.1|         3.8|          1.5|         0.3|Iris-setosa|         0.0|[5.1,3.8]|\n",
      "+---+-------------+------------+-------------+------------+-----------+------------+---------+\n",
      "only showing top 20 rows\n",
      "\n"
     ]
    }
   ],
   "source": [
    "preparedDF.show()"
   ]
  },
  {
   "cell_type": "code",
   "execution_count": 44,
   "id": "04607f13-97d2-4024-bfb1-7adabea45302",
   "metadata": {},
   "outputs": [
    {
     "name": "stdout",
     "output_type": "stream",
     "text": [
      "+---------+\n",
      "| features|\n",
      "+---------+\n",
      "|[5.1,3.5]|\n",
      "|[4.9,3.0]|\n",
      "|[4.7,3.2]|\n",
      "|[4.6,3.1]|\n",
      "|[5.0,3.6]|\n",
      "|[5.4,3.9]|\n",
      "|[4.6,3.4]|\n",
      "|[5.0,3.4]|\n",
      "|[4.4,2.9]|\n",
      "|[4.9,3.1]|\n",
      "|[5.4,3.7]|\n",
      "|[4.8,3.4]|\n",
      "|[4.8,3.0]|\n",
      "|[4.3,3.0]|\n",
      "|[5.8,4.0]|\n",
      "|[5.7,4.4]|\n",
      "|[5.4,3.9]|\n",
      "|[5.1,3.5]|\n",
      "|[5.7,3.8]|\n",
      "|[5.1,3.8]|\n",
      "+---------+\n",
      "only showing top 20 rows\n",
      "\n"
     ]
    }
   ],
   "source": [
    "preparedDF.select('features').show()"
   ]
  },
  {
   "cell_type": "code",
   "execution_count": 60,
   "id": "8eb3b7f6-7f0c-46c1-b8a3-374abdf52d1b",
   "metadata": {},
   "outputs": [],
   "source": [
    "from pyspark.ml.clustering import KMeans\n",
    "k_means_model = KMeans(k=3)\n",
    "model = k_means_model.fit(trainingSet.select('features'))"
   ]
  },
  {
   "cell_type": "code",
   "execution_count": 65,
   "id": "6c9dec97-07ea-4ed4-9980-5c28eca59447",
   "metadata": {},
   "outputs": [
    {
     "name": "stdout",
     "output_type": "stream",
     "text": [
      "+---------+----------+\n",
      "| features|prediction|\n",
      "+---------+----------+\n",
      "|[4.9,3.0]|         2|\n",
      "|[4.4,2.9]|         2|\n",
      "|[4.9,3.1]|         2|\n",
      "|[4.8,3.0]|         2|\n",
      "|[4.3,3.0]|         2|\n",
      "|[5.1,3.5]|         2|\n",
      "|[5.2,3.4]|         2|\n",
      "|[4.7,3.2]|         2|\n",
      "|[5.5,4.2]|         2|\n",
      "|[4.9,3.1]|         2|\n",
      "|[4.4,3.0]|         2|\n",
      "|[4.6,3.2]|         2|\n",
      "|[5.3,3.7]|         2|\n",
      "|[5.0,3.3]|         2|\n",
      "|[6.4,3.2]|         1|\n",
      "|[5.5,2.3]|         0|\n",
      "|[6.5,2.8]|         1|\n",
      "|[4.9,2.4]|         0|\n",
      "|[6.6,2.9]|         1|\n",
      "|[5.9,3.0]|         0|\n",
      "+---------+----------+\n",
      "only showing top 20 rows\n",
      "\n"
     ]
    }
   ],
   "source": [
    "item  = trainingSet.select('features').head()\n",
    "result = model.transform(testingSet.select('features'))\n",
    "result.show()"
   ]
  },
  {
   "cell_type": "code",
   "execution_count": 75,
   "id": "5904a5ce-895d-4445-9927-5df04e3368e4",
   "metadata": {},
   "outputs": [
    {
     "data": {
      "text/plain": [
       "2"
      ]
     },
     "execution_count": 75,
     "metadata": {},
     "output_type": "execute_result"
    }
   ],
   "source": [
    "from pyspark.ml.linalg import Vectors\n",
    "model.predict(Vectors.dense([5.0, 4.0]))\n",
    "              "
   ]
  },
  {
   "cell_type": "code",
   "execution_count": 69,
   "id": "cd173bda-ecb4-4d2f-96a2-85f3d0d7e9b8",
   "metadata": {},
   "outputs": [
    {
     "data": {
      "text/plain": [
       "0.34442330706582314"
      ]
     },
     "execution_count": 69,
     "metadata": {},
     "output_type": "execute_result"
    }
   ],
   "source": [
    "from pyspark.ml.evaluation import ClusteringEvaluator\n",
    "\n",
    "evaluator = ClusteringEvaluator()\n",
    "evaluator.setFeaturesCol(\"features\")\n",
    "evaluator.setPredictionCol(\"SpeciesIndex\")\n",
    "evaluator.evaluate(preparedDF)"
   ]
  }
 ],
 "metadata": {
  "kernelspec": {
   "display_name": "Python 3 (ipykernel)",
   "language": "python",
   "name": "python3"
  },
  "language_info": {
   "codemirror_mode": {
    "name": "ipython",
    "version": 3
   },
   "file_extension": ".py",
   "mimetype": "text/x-python",
   "name": "python",
   "nbconvert_exporter": "python",
   "pygments_lexer": "ipython3",
   "version": "3.8.14"
  }
 },
 "nbformat": 4,
 "nbformat_minor": 5
}
